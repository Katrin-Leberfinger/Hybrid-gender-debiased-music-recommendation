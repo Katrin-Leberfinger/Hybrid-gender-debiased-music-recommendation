{
  "cells": [
    {
      "cell_type": "markdown",
      "metadata": {
        "id": "view-in-github",
        "colab_type": "text"
      },
      "source": [
        "<a href=\"https://colab.research.google.com/github/Katrin-Leberfinger/Hybrid-gender-debiased-music-recommendation/blob/main/001_data_preprocessing.ipynb\" target=\"_parent\"><img src=\"https://colab.research.google.com/assets/colab-badge.svg\" alt=\"Open In Colab\"/></a>"
      ]
    },
    {
      "cell_type": "code",
      "execution_count": 1,
      "metadata": {
        "colab": {
          "base_uri": "https://localhost:8080/"
        },
        "id": "RWHMmzSHaV4j",
        "outputId": "f4931dcc-44b8-4614-c851-aceaea400a06"
      },
      "outputs": [
        {
          "output_type": "stream",
          "name": "stdout",
          "text": [
            "Looking in indexes: https://pypi.org/simple, https://us-python.pkg.dev/colab-wheels/public/simple/\n",
            "Collecting transformers\n",
            "  Downloading transformers-4.20.1-py3-none-any.whl (4.4 MB)\n",
            "\u001b[K     |████████████████████████████████| 4.4 MB 8.7 MB/s \n",
            "\u001b[?25hCollecting huggingface-hub<1.0,>=0.1.0\n",
            "  Downloading huggingface_hub-0.8.1-py3-none-any.whl (101 kB)\n",
            "\u001b[K     |████████████████████████████████| 101 kB 13.6 MB/s \n",
            "\u001b[?25hRequirement already satisfied: tqdm>=4.27 in /usr/local/lib/python3.7/dist-packages (from transformers) (4.64.0)\n",
            "Requirement already satisfied: importlib-metadata in /usr/local/lib/python3.7/dist-packages (from transformers) (4.11.4)\n",
            "Requirement already satisfied: regex!=2019.12.17 in /usr/local/lib/python3.7/dist-packages (from transformers) (2022.6.2)\n",
            "Requirement already satisfied: requests in /usr/local/lib/python3.7/dist-packages (from transformers) (2.23.0)\n",
            "Collecting pyyaml>=5.1\n",
            "  Downloading PyYAML-6.0-cp37-cp37m-manylinux_2_5_x86_64.manylinux1_x86_64.manylinux_2_12_x86_64.manylinux2010_x86_64.whl (596 kB)\n",
            "\u001b[K     |████████████████████████████████| 596 kB 84.5 MB/s \n",
            "\u001b[?25hRequirement already satisfied: numpy>=1.17 in /usr/local/lib/python3.7/dist-packages (from transformers) (1.21.6)\n",
            "Collecting tokenizers!=0.11.3,<0.13,>=0.11.1\n",
            "  Downloading tokenizers-0.12.1-cp37-cp37m-manylinux_2_12_x86_64.manylinux2010_x86_64.whl (6.6 MB)\n",
            "\u001b[K     |████████████████████████████████| 6.6 MB 86.4 MB/s \n",
            "\u001b[?25hRequirement already satisfied: packaging>=20.0 in /usr/local/lib/python3.7/dist-packages (from transformers) (21.3)\n",
            "Requirement already satisfied: filelock in /usr/local/lib/python3.7/dist-packages (from transformers) (3.7.1)\n",
            "Requirement already satisfied: typing-extensions>=3.7.4.3 in /usr/local/lib/python3.7/dist-packages (from huggingface-hub<1.0,>=0.1.0->transformers) (4.1.1)\n",
            "Requirement already satisfied: pyparsing!=3.0.5,>=2.0.2 in /usr/local/lib/python3.7/dist-packages (from packaging>=20.0->transformers) (3.0.9)\n",
            "Requirement already satisfied: zipp>=0.5 in /usr/local/lib/python3.7/dist-packages (from importlib-metadata->transformers) (3.8.0)\n",
            "Requirement already satisfied: idna<3,>=2.5 in /usr/local/lib/python3.7/dist-packages (from requests->transformers) (2.10)\n",
            "Requirement already satisfied: chardet<4,>=3.0.2 in /usr/local/lib/python3.7/dist-packages (from requests->transformers) (3.0.4)\n",
            "Requirement already satisfied: urllib3!=1.25.0,!=1.25.1,<1.26,>=1.21.1 in /usr/local/lib/python3.7/dist-packages (from requests->transformers) (1.24.3)\n",
            "Requirement already satisfied: certifi>=2017.4.17 in /usr/local/lib/python3.7/dist-packages (from requests->transformers) (2022.6.15)\n",
            "Installing collected packages: pyyaml, tokenizers, huggingface-hub, transformers\n",
            "  Attempting uninstall: pyyaml\n",
            "    Found existing installation: PyYAML 3.13\n",
            "    Uninstalling PyYAML-3.13:\n",
            "      Successfully uninstalled PyYAML-3.13\n",
            "Successfully installed huggingface-hub-0.8.1 pyyaml-6.0 tokenizers-0.12.1 transformers-4.20.1\n"
          ]
        }
      ],
      "source": [
        "!pip install transformers"
      ]
    },
    {
      "cell_type": "code",
      "execution_count": 2,
      "metadata": {
        "id": "L9D-5zOmltBw"
      },
      "outputs": [],
      "source": [
        "import torch\n",
        "import numpy as np\n",
        "import torch.nn as nn\n",
        "from torch.autograd import Variable\n",
        "import pandas as pd\n",
        "import torch\n",
        "from sklearn.model_selection import train_test_split\n",
        "from transformers import BertTokenizer, BertModel, AdamW\n",
        "from torch import nn\n",
        "from sklearn.metrics import f1_score\n",
        "from sklearn.metrics import recall_score\n",
        "from sklearn.utils import shuffle\n",
        "import matplotlib.pyplot as plt\n",
        "                                                                                                                                                                                                                                                                                                                                                                                                                                                                                                                                                                                                                                                                                                                                                                                                                                                                                                                                                                                                                                                                                                                                                                                                                                                                                                                                                                                                                                                                                                                                                                                                                                                                                                                                                                                                                                                                                                                                                                                                                                                                                                                                                                                                                                                                                                                                                                                                                                                                                                                                                                                                                                                                                                                                                                                                                                                                                                                                                                                                                                                                                                                                                                                                                                                                                                                                                                                                                                                                                                                                                                                                                                                                                                                                                                                                                                                                                                                                                                                                                                                                                                                                                                                                                                                                                                                                                                                                                                                                                                                                                                                                                                                                                                                                                                                                                                                                                                                                                                                                                                                                                                                                                                                                                                                                                                                                                                                                                                                                                                                                                                                                                                                                                                                                                                                                                                                                                                                                                                                                                                                                                                                                                                                                                                                                                                                                                                                                                                                                                                                                                                                                                                                                                                                                                                                                                                                                                                                                                                                                                                                                                                                                                                                                                                                                                                                                                                                                                                                                                                                                                                                                                                                                                                                                                                                                                                                                                                                                                                                                                                                                                                                                                                                                                                                                                                                                                                                                                                                                                                                                                                                                                                                                                                                                                                                                                                                                                                                                                                                                                                                                                                                                                                                                                                                                                                                                                                                                                                                                                                                                                                                                                                                                                                                                                                                                                                                                                                                                                                                                                                                                                                                                                                                                                                                                                                                                                                                                                                                                                                                                                                                                                                                                                                                                                                                                                                                                                                                                                                                                                                                                                                                                                                                                                                                                                                                                                                                                                                                                                                                                                                                                                                                                                                                                                                                                                                                                                                                                                                                                                                                                                                                                                                                                                                                                                                                                                                                                                                                                                                                                                                                                                                                                                                                                                                                                                                                                                                                                                                      "
      ]
    },
    {
      "cell_type": "markdown",
      "metadata": {
        "id": "sXEH2KDKXjCM"
      },
      "source": [
        "# Read Data"
      ]
    },
    {
      "cell_type": "code",
      "execution_count": 3,
      "metadata": {
        "colab": {
          "base_uri": "https://localhost:8080/"
        },
        "id": "GzTFm7XWXmXv",
        "outputId": "c258ce0c-e62b-46df-db57-85da294035fb"
      },
      "outputs": [
        {
          "output_type": "stream",
          "name": "stdout",
          "text": [
            "Mounted at /content/drive\n"
          ]
        }
      ],
      "source": [
        "from google.colab import drive\n",
        "drive.mount('/content/drive')"
      ]
    },
    {
      "cell_type": "code",
      "execution_count": 4,
      "metadata": {
        "colab": {
          "base_uri": "https://localhost:8080/"
        },
        "id": "iWWKtwJxXmQC",
        "outputId": "263a88d6-23bf-444a-e9f4-6a0fe48814f2"
      },
      "outputs": [
        {
          "output_type": "stream",
          "name": "stdout",
          "text": [
            "/content/drive/MyDrive/Master Thesis/data\n"
          ]
        }
      ],
      "source": [
        "%cd /content/drive/MyDrive/Master\\ Thesis/data"
      ]
    },
    {
      "cell_type": "code",
      "execution_count": 5,
      "metadata": {
        "id": "lTSGXhgqhfXI"
      },
      "outputs": [],
      "source": [
        "data_tracks_lyrics = pd.read_csv(\"music/data_tracks_lyrics.txt\", sep=\"\\t\").drop(['Unnamed: 0'],axis=1).dropna()\n",
        "data_tracks_tags_lyrics = pd.read_csv(\"music/data_tracks_tags_lyrics.txt\", sep=\"\\t\").drop(['Unnamed: 0'],axis=1).dropna().drop_duplicates('track_id')\n",
        "data_bio = pd.read_csv(\"music/data_artists_biography.txt\", sep=\",\").drop(['Unnamed: 0'],axis=1).dropna()\n",
        "data_interaction = pd.read_csv(\"music/data_user_track_interaction_old.txt\", sep=\"\\t\").drop(['Unnamed: 0'],axis=1)\n",
        "\n",
        "data_tracks_tags_lyrics = data_tracks_tags_lyrics.merge(data_bio)\n",
        "data_interaction = data_interaction.merge(data_tracks_tags_lyrics[['track_id']].drop_duplicates(), on = 'track_id', how = 'inner').drop_duplicates()\n",
        "data_tracks_tags_lyrics = data_tracks_tags_lyrics.merge(data_interaction[['track_id']], on = 'track_id', how = 'inner').drop_duplicates()\n",
        "\n",
        "data_user = pd.read_csv(\"music/data_user.txt\", sep=\"\\t\").drop(['Unnamed: 0'],axis=1)"
      ]
    },
    {
      "cell_type": "code",
      "source": [
        "# data_movies = pd.read_csv(\"movies/movies_abstracts.csv\").drop(['Unnamed: 0'],axis=1).dropna()\n",
        "# data_interaction = pd.read_csv(\"movies/ratings.csv\").drop(['timestamp'],axis=1)\n",
        "\n",
        "# data_movies = pd.merge(data_movies, data_interaction[['movieId']], 'inner').drop_duplicates()\n",
        "# data_interaction = pd.merge(data_interaction, data_movies[['movieId']], 'inner')\n",
        "\n",
        "# data_movies.columns = ['track_id', 'lyrics_cleaned', 'tags', 'abstract']\n",
        "# data_tracks_tags_lyrics = data_movies\n",
        "\n",
        "# data_interaction.columns = ['user_id', 'track_id', 'count']"
      ],
      "metadata": {
        "id": "vjrZjQCIzTKn"
      },
      "execution_count": 6,
      "outputs": []
    },
    {
      "cell_type": "code",
      "execution_count": 7,
      "metadata": {
        "id": "TtZh4wlvnLGy",
        "colab": {
          "base_uri": "https://localhost:8080/",
          "height": 351
        },
        "outputId": "c82f63ed-f52c-4a32-aaa3-303cd7f5f0a6"
      },
      "outputs": [
        {
          "output_type": "stream",
          "name": "stderr",
          "text": [
            "/usr/local/lib/python3.7/dist-packages/seaborn/distributions.py:1699: FutureWarning: The `bw` parameter is deprecated in favor of `bw_method` and `bw_adjust`. Using 0.5 for `bw_method`, but please see the docs for the new parameters and update your code.\n",
            "  warnings.warn(msg, FutureWarning)\n"
          ]
        },
        {
          "output_type": "execute_result",
          "data": {
            "text/plain": [
              "<matplotlib.axes._subplots.AxesSubplot at 0x7fbf3a564fd0>"
            ]
          },
          "metadata": {},
          "execution_count": 7
        },
        {
          "output_type": "display_data",
          "data": {
            "text/plain": [
              "<Figure size 432x288 with 1 Axes>"
            ],
            "image/png": "[encoded data removed]"
          },
          "metadata": {}
        }
      ],
      "source": [
        "import seaborn as sns\n",
        "sns.set_style('whitegrid')\n",
        "sns.kdeplot(data_interaction['count'], bw=0.5)"
      ]
    },
    {
      "cell_type": "code",
      "source": [
        "data_interaction_plot = data_interaction"
      ],
      "metadata": {
        "id": "BHPQEQKbLx44"
      },
      "execution_count": 8,
      "outputs": []
    },
    {
      "cell_type": "code",
      "source": [
        "data_interaction"
      ],
      "metadata": {
        "id": "TdejgWPbAQc1",
        "outputId": "3b3be030-8ffc-4222-bdf5-cd786f30b355",
        "colab": {
          "base_uri": "https://localhost:8080/",
          "height": 424
        }
      },
      "execution_count": 11,
      "outputs": [
        {
          "output_type": "execute_result",
          "data": {
            "text/plain": [
              "        user_id  track_id  count\n",
              "1          5066   5523065      2\n",
              "2         28900   5523065     15\n",
              "5          8403   5523065      4\n",
              "7           119   5523065      3\n",
              "10          932   5523065      9\n",
              "...         ...       ...    ...\n",
              "443971      379   4618171      2\n",
              "443973     4164   4618171      2\n",
              "443974    43647   4618171      2\n",
              "443975     8303   3355688      2\n",
              "443977    71006   3355688      4\n",
              "\n",
              "[219588 rows x 3 columns]"
            ],
            "text/html": [
              "\n",
              "  <div id=\"df-dc7e6530-8abd-491a-947e-e536b066fc6e\">\n",
              "    <div class=\"colab-df-container\">\n",
              "      <div>\n",
              "<style scoped>\n",
              "    .dataframe tbody tr th:only-of-type {\n",
              "        vertical-align: middle;\n",
              "    }\n",
              "\n",
              "    .dataframe tbody tr th {\n",
              "        vertical-align: top;\n",
              "    }\n",
              "\n",
              "    .dataframe thead th {\n",
              "        text-align: right;\n",
              "    }\n",
              "</style>\n",
              "<table border=\"1\" class=\"dataframe\">\n",
              "  <thead>\n",
              "    <tr style=\"text-align: right;\">\n",
              "      <th></th>\n",
              "      <th>user_id</th>\n",
              "      <th>track_id</th>\n",
              "      <th>count</th>\n",
              "    </tr>\n",
              "  </thead>\n",
              "  <tbody>\n",
              "    <tr>\n",
              "      <th>1</th>\n",
              "      <td>5066</td>\n",
              "      <td>5523065</td>\n",
              "      <td>2</td>\n",
              "    </tr>\n",
              "    <tr>\n",
              "      <th>2</th>\n",
              "      <td>28900</td>\n",
              "      <td>5523065</td>\n",
              "      <td>15</td>\n",
              "    </tr>\n",
              "    <tr>\n",
              "      <th>5</th>\n",
              "      <td>8403</td>\n",
              "      <td>5523065</td>\n",
              "      <td>4</td>\n",
              "    </tr>\n",
              "    <tr>\n",
              "      <th>7</th>\n",
              "      <td>119</td>\n",
              "      <td>5523065</td>\n",
              "      <td>3</td>\n",
              "    </tr>\n",
              "    <tr>\n",
              "      <th>10</th>\n",
              "      <td>932</td>\n",
              "      <td>5523065</td>\n",
              "      <td>9</td>\n",
              "    </tr>\n",
              "    <tr>\n",
              "      <th>...</th>\n",
              "      <td>...</td>\n",
              "      <td>...</td>\n",
              "      <td>...</td>\n",
              "    </tr>\n",
              "    <tr>\n",
              "      <th>443971</th>\n",
              "      <td>379</td>\n",
              "      <td>4618171</td>\n",
              "      <td>2</td>\n",
              "    </tr>\n",
              "    <tr>\n",
              "      <th>443973</th>\n",
              "      <td>4164</td>\n",
              "      <td>4618171</td>\n",
              "      <td>2</td>\n",
              "    </tr>\n",
              "    <tr>\n",
              "      <th>443974</th>\n",
              "      <td>43647</td>\n",
              "      <td>4618171</td>\n",
              "      <td>2</td>\n",
              "    </tr>\n",
              "    <tr>\n",
              "      <th>443975</th>\n",
              "      <td>8303</td>\n",
              "      <td>3355688</td>\n",
              "      <td>2</td>\n",
              "    </tr>\n",
              "    <tr>\n",
              "      <th>443977</th>\n",
              "      <td>71006</td>\n",
              "      <td>3355688</td>\n",
              "      <td>4</td>\n",
              "    </tr>\n",
              "  </tbody>\n",
              "</table>\n",
              "<p>219588 rows × 3 columns</p>\n",
              "</div>\n",
              "      <button class=\"colab-df-convert\" onclick=\"convertToInteractive('df-dc7e6530-8abd-491a-947e-e536b066fc6e')\"\n",
              "              title=\"Convert this dataframe to an interactive table.\"\n",
              "              style=\"display:none;\">\n",
              "        \n",
              "  <svg xmlns=\"http://www.w3.org/2000/svg\" height=\"24px\"viewBox=\"0 0 24 24\"\n",
              "       width=\"24px\">\n",
              "    <path d=\"M0 0h24v24H0V0z\" fill=\"none\"/>\n",
              "    <path d=\"M18.56 5.44l.94 2.06.94-2.06 2.06-.94-2.06-.94-.94-2.06-.94 2.06-2.06.94zm-11 1L8.5 8.5l.94-2.06 2.06-.94-2.06-.94L8.5 2.5l-.94 2.06-2.06.94zm10 10l.94 2.06.94-2.06 2.06-.94-2.06-.94-.94-2.06-.94 2.06-2.06.94z\"/><path d=\"M17.41 7.96l-1.37-1.37c-.4-.4-.92-.59-1.43-.59-.52 0-1.04.2-1.43.59L10.3 9.45l-7.72 7.72c-.78.78-.78 2.05 0 2.83L4 21.41c.39.39.9.59 1.41.59.51 0 1.02-.2 1.41-.59l7.78-7.78 2.81-2.81c.8-.78.8-2.07 0-2.86zM5.41 20L4 18.59l7.72-7.72 1.47 1.35L5.41 20z\"/>\n",
              "  </svg>\n",
              "      </button>\n",
              "      \n",
              "  <style>\n",
              "    .colab-df-container {\n",
              "      display:flex;\n",
              "      flex-wrap:wrap;\n",
              "      gap: 12px;\n",
              "    }\n",
              "\n",
              "    .colab-df-convert {\n",
              "      background-color: #E8F0FE;\n",
              "      border: none;\n",
              "      border-radius: 50%;\n",
              "      cursor: pointer;\n",
              "      display: none;\n",
              "      fill: #1967D2;\n",
              "      height: 32px;\n",
              "      padding: 0 0 0 0;\n",
              "      width: 32px;\n",
              "    }\n",
              "\n",
              "    .colab-df-convert:hover {\n",
              "      background-color: #E2EBFA;\n",
              "      box-shadow: 0px 1px 2px rgba(60, 64, 67, 0.3), 0px 1px 3px 1px rgba(60, 64, 67, 0.15);\n",
              "      fill: #174EA6;\n",
              "    }\n",
              "\n",
              "    [theme=dark] .colab-df-convert {\n",
              "      background-color: #3B4455;\n",
              "      fill: #D2E3FC;\n",
              "    }\n",
              "\n",
              "    [theme=dark] .colab-df-convert:hover {\n",
              "      background-color: #434B5C;\n",
              "      box-shadow: 0px 1px 3px 1px rgba(0, 0, 0, 0.15);\n",
              "      filter: drop-shadow(0px 1px 2px rgba(0, 0, 0, 0.3));\n",
              "      fill: #FFFFFF;\n",
              "    }\n",
              "  </style>\n",
              "\n",
              "      <script>\n",
              "        const buttonEl =\n",
              "          document.querySelector('#df-dc7e6530-8abd-491a-947e-e536b066fc6e button.colab-df-convert');\n",
              "        buttonEl.style.display =\n",
              "          google.colab.kernel.accessAllowed ? 'block' : 'none';\n",
              "\n",
              "        async function convertToInteractive(key) {\n",
              "          const element = document.querySelector('#df-dc7e6530-8abd-491a-947e-e536b066fc6e');\n",
              "          const dataTable =\n",
              "            await google.colab.kernel.invokeFunction('convertToInteractive',\n",
              "                                                     [key], {});\n",
              "          if (!dataTable) return;\n",
              "\n",
              "          const docLinkHtml = 'Like what you see? Visit the ' +\n",
              "            '<a target=\"_blank\" href=https://colab.research.google.com/notebooks/data_table.ipynb>data table notebook</a>'\n",
              "            + ' to learn more about interactive tables.';\n",
              "          element.innerHTML = '';\n",
              "          dataTable['output_type'] = 'display_data';\n",
              "          await google.colab.output.renderOutput(dataTable, element);\n",
              "          const docLink = document.createElement('div');\n",
              "          docLink.innerHTML = docLinkHtml;\n",
              "          element.appendChild(docLink);\n",
              "        }\n",
              "      </script>\n",
              "    </div>\n",
              "  </div>\n",
              "  "
            ]
          },
          "metadata": {},
          "execution_count": 11
        }
      ]
    },
    {
      "cell_type": "code",
      "execution_count": 10,
      "metadata": {
        "id": "ZLT9a8oHXhwr",
        "colab": {
          "base_uri": "https://localhost:8080/"
        },
        "outputId": "d949202b-60bd-4ea6-bd2f-be5b8e099baf"
      },
      "outputs": [
        {
          "output_type": "stream",
          "name": "stderr",
          "text": [
            "/usr/local/lib/python3.7/dist-packages/pandas/core/indexing.py:1732: SettingWithCopyWarning: \n",
            "A value is trying to be set on a copy of a slice from a DataFrame\n",
            "\n",
            "See the caveats in the documentation: https://pandas.pydata.org/pandas-docs/stable/user_guide/indexing.html#returning-a-view-versus-a-copy\n",
            "  self._setitem_single_block(indexer, value, name)\n",
            "/usr/local/lib/python3.7/dist-packages/pandas/core/indexing.py:723: SettingWithCopyWarning: \n",
            "A value is trying to be set on a copy of a slice from a DataFrame\n",
            "\n",
            "See the caveats in the documentation: https://pandas.pydata.org/pandas-docs/stable/user_guide/indexing.html#returning-a-view-versus-a-copy\n",
            "  iloc._setitem_with_indexer(indexer, value, self.name)\n"
          ]
        }
      ],
      "source": [
        "# filter out playcount 1\n",
        "data_interaction = data_interaction[data_interaction['count'] != 1]\n",
        "\n",
        "data_interaction.loc[data_interaction['count']>=2., 'count'] = 1."
      ]
    },
    {
      "cell_type": "code",
      "source": [
        "# data_interaction.loc[data_interaction['count']<4., 'count'] = 0.\n",
        "# data_interaction.loc[data_interaction['count']>=4., 'count'] = 1."
      ],
      "metadata": {
        "id": "M6Kgjib426p4"
      },
      "execution_count": null,
      "outputs": []
    },
    {
      "cell_type": "code",
      "source": [
        "# filter out users with too little playcount\n",
        "df_per_users = data_interaction.groupby(['user_id']).size().reset_index(name='counts')\n",
        "users = df_per_users[df_per_users['counts'] >= 5]['user_id'].values\n",
        "data_interaction = data_interaction[data_interaction['user_id'].isin(users)]"
      ],
      "metadata": {
        "id": "wHAKeNfsPNDs"
      },
      "execution_count": 12,
      "outputs": []
    },
    {
      "cell_type": "code",
      "source": [
        "# filter out tracks with too little playcount\n",
        "df_per_track = data_interaction.groupby(['track_id']).size().reset_index(name='counts')\n",
        "tracks = df_per_track[df_per_users['counts'] >= 5]['track_id'].values\n",
        "data_interaction = data_interaction[data_interaction['track_id'].isin(tracks)]"
      ],
      "metadata": {
        "colab": {
          "base_uri": "https://localhost:8080/"
        },
        "id": "PMgXFuqUPMql",
        "outputId": "16ce2e39-a95a-4240-ba7f-d0e8ef5316d3"
      },
      "execution_count": 14,
      "outputs": [
        {
          "output_type": "stream",
          "name": "stderr",
          "text": [
            "/usr/local/lib/python3.7/dist-packages/ipykernel_launcher.py:3: UserWarning: Boolean Series key will be reindexed to match DataFrame index.\n",
            "  This is separate from the ipykernel package so we can avoid doing imports until\n"
          ]
        }
      ]
    },
    {
      "cell_type": "markdown",
      "metadata": {
        "id": "ylBY96MuqFyc"
      },
      "source": [
        "## CV and balance data set"
      ]
    },
    {
      "cell_type": "code",
      "source": [
        "# add negative samples\n",
        "import random\n",
        "random.seed(123)\n",
        "data_interaction_new = pd.DataFrame(columns = data_interaction.columns)\n",
        "for user_id,df in data_interaction.groupby('user_id'):\n",
        "  #n_diff = len(df[df['count'] == 1]) - len(df[df['count'] == 0])\n",
        "  n_diff = len(df[df['count'] >= 1]) - len(df[df['count'] == 0])\n",
        "  if n_diff > 1:\n",
        "    df_tmp = df.merge(data_interaction[['track_id']], how = 'right')\n",
        "    neg_list = random.sample(list(df_tmp[np.isnan(df_tmp.user_id)].track_id.values), n_diff)\n",
        "    df_neg = pd.DataFrame({'user_id': user_id, 'track_id':neg_list, 'count':0})\n",
        "    data_interaction_new=data_interaction_new.append(df)\n",
        "    data_interaction_new=data_interaction_new.append(df_neg)\n",
        "  else:\n",
        "    data_interaction_new = data_interaction_new.append(df)\n",
        "\n",
        "data_interaction_new = shuffle(data_interaction_new)"
      ],
      "metadata": {
        "id": "xQxTlqXGZqYo"
      },
      "execution_count": 22,
      "outputs": []
    },
    {
      "cell_type": "code",
      "source": [
        "len(data_interaction_new)"
      ],
      "metadata": {
        "id": "GFV1EmFEAxVQ",
        "outputId": "65b8645e-a96e-42c9-90b8-b177e0eb1eb5",
        "colab": {
          "base_uri": "https://localhost:8080/"
        }
      },
      "execution_count": 37,
      "outputs": [
        {
          "output_type": "execute_result",
          "data": {
            "text/plain": [
              "213837"
            ]
          },
          "metadata": {},
          "execution_count": 37
        }
      ]
    },
    {
      "cell_type": "code",
      "source": [
        "# data_interaction_new = data_interaction\n",
        "# data_interaction_new = shuffle(data_interaction_new)"
      ],
      "metadata": {
        "id": "ORDXqILwhCc4"
      },
      "execution_count": null,
      "outputs": []
    },
    {
      "cell_type": "code",
      "execution_count": 28,
      "metadata": {
        "id": "vgNXpip-7pN6"
      },
      "outputs": [],
      "source": [
        "data_interaction_new = data_interaction_new.merge(data_tracks_tags_lyrics[['track_id', 'lyrics_cleaned', 'tags', 'abstract']]).drop_duplicates()"
      ]
    },
    {
      "cell_type": "code",
      "source": [
        "data_interaction_new['count'] = data_interaction_new['count']/100"
      ],
      "metadata": {
        "id": "jIkvBCksDquO"
      },
      "execution_count": 55,
      "outputs": []
    },
    {
      "cell_type": "code",
      "execution_count": 56,
      "metadata": {
        "id": "n2XOZyN3LZte"
      },
      "outputs": [],
      "source": [
        "data_tracks_tags_lyrics = data_tracks_tags_lyrics.merge(data_interaction_new[['track_id']]).drop_duplicates()"
      ]
    },
    {
      "cell_type": "code",
      "source": [
        "# rating_col = 'count'\n",
        "# item_col = 'track_id'\n",
        "# user_col = 'user_id'\n",
        "# data_items_eval = data_tracks_tags_lyrics"
      ],
      "metadata": {
        "id": "rsThv-mXkAEv"
      },
      "execution_count": null,
      "outputs": []
    },
    {
      "cell_type": "code",
      "execution_count": 57,
      "metadata": {
        "id": "MR65uPJ6qE9R"
      },
      "outputs": [],
      "source": [
        "np.random.seed(123)\n",
        "data_interaction_new['fold'] = np.random.randint(1, 6, data_interaction_new.shape[0])"
      ]
    },
    {
      "cell_type": "code",
      "source": [
        "test_fold = 1\n",
        "val_fold = 2\n",
        "\n",
        "data_interaction_train = data_interaction_new.loc[((data_interaction_new.fold != test_fold) & (data_interaction_new.fold != val_fold)), ['user_id', 'track_id', 'count', 'lyrics_cleaned', 'tags', 'abstract']]\n",
        "data_interaction_test = data_interaction_new.loc[data_interaction_new.fold == test_fold, ['user_id', 'track_id', 'count', 'lyrics_cleaned', 'tags', 'abstract']]\n",
        "data_interaction_val = data_interaction_new.loc[data_interaction_new.fold == val_fold,  ['user_id', 'track_id', 'count', 'lyrics_cleaned', 'tags', 'abstract']]"
      ],
      "metadata": {
        "id": "StCFnT0dTifD"
      },
      "execution_count": 87,
      "outputs": []
    },
    {
      "cell_type": "code",
      "execution_count": 88,
      "metadata": {
        "id": "kVsfyhSr7IcO"
      },
      "outputs": [],
      "source": [
        "# itermin solution (maybe change later)\n",
        "selected_user = []\n",
        "data_interaction_test_new = pd.DataFrame()\n",
        "for user_id,df in data_interaction_test.groupby('user_id'):\n",
        "  if len(df[df['count'] > 0]) >= 6:\n",
        "    df_tmp = df.merge(data_tracks_tags_lyrics[['track_id']].drop_duplicates(), how = 'right').drop_duplicates()\n",
        "    items_to_ignore = data_interaction_train[(data_interaction_train['user_id'] == user_id) & (data_interaction_train['count'] > 0)]['track_id'].values\n",
        "    df_tmp = df_tmp[~df_tmp['track_id'].isin(items_to_ignore)]\n",
        "    neg_list = list(set(df_tmp.loc[df_tmp.isna().any(axis=1),].track_id.values))\n",
        "    df_neg = pd.DataFrame({'user_id': user_id, 'track_id':neg_list, 'count':0})\n",
        "    data_interaction_test_new=data_interaction_test_new.append(df_neg)\n",
        "    data_interaction_test_new=data_interaction_test_new.append(df)\n",
        "    selected_user.append(user_id)\n",
        "    \n",
        "  \n",
        "data_interaction_test = data_interaction_test_new\n",
        "data_interaction_test = data_interaction_test[['user_id', 'track_id', 'count']].merge(data_tracks_tags_lyrics[['track_id', 'lyrics_cleaned', 'tags', 'abstract']], on = 'track_id', how = 'left').drop_duplicates()\n",
        "data_interaction_test = data_interaction_test.loc[(data_interaction_test.user_id.isin(selected_user))]\n",
        "data_interaction_test = shuffle(data_interaction_test)"
      ]
    },
    {
      "cell_type": "code",
      "source": [
        "dir = \"preprocessed_data_numeric/\""
      ],
      "metadata": {
        "id": "EwgW4wJSVwJJ"
      },
      "execution_count": 92,
      "outputs": []
    },
    {
      "cell_type": "code",
      "source": [
        "data_interaction.to_csv(dir + 'data_interaction.csv', encoding = 'utf-8-sig') \n",
        "data_tracks_tags_lyrics.to_csv(dir + 'data_tracks_tags_lyrics.csv', encoding = 'utf-8-sig') \n",
        "\n",
        "data_interaction_test.to_csv(dir + 'data_interaction_test.csv', encoding = 'utf-8-sig') \n",
        "data_interaction_train.to_csv(dir + 'data_interaction_train.csv', encoding = 'utf-8-sig') \n",
        "data_interaction_val.to_csv(dir + 'data_interaction_val.csv', encoding = 'utf-8-sig') "
      ],
      "metadata": {
        "id": "rr_zocjCVghq"
      },
      "execution_count": null,
      "outputs": []
    },
    {
      "cell_type": "markdown",
      "source": [
        "# Visualize data"
      ],
      "metadata": {
        "id": "leD52fqYM-FE"
      }
    },
    {
      "cell_type": "code",
      "source": [
        "data_interaction_plot.loc[data_interaction_plot['count']>=100., 'count'] = 100.\n",
        "plt.hist(data_interaction_plot['count'], 50, density=True, histtype='step', cumulative=True)"
      ],
      "metadata": {
        "colab": {
          "base_uri": "https://localhost:8080/",
          "height": 577
        },
        "id": "q-M-viP8M_hg",
        "outputId": "5ce88a9a-3315-4d8e-ea2f-061532cfd372"
      },
      "execution_count": null,
      "outputs": [
        {
          "output_type": "execute_result",
          "data": {
            "text/plain": [
              "(array([0.67455589, 0.8116496 , 0.87176028, 0.90546668, 0.92719959,\n",
              "        0.9418804 , 0.95254301, 0.96045777, 0.96671704, 0.97152356,\n",
              "        0.97549219, 0.97857566, 0.98116811, 0.98316369, 0.98488674,\n",
              "        0.98631923, 0.98774047, 0.98887565, 0.98997254, 0.99082393,\n",
              "        0.99162802, 0.99223165, 0.99283303, 0.99340738, 0.99394343,\n",
              "        0.99435787, 0.99473626, 0.99511916, 0.99545476, 0.99571153,\n",
              "        0.99598857, 0.99624533, 0.99640976, 0.99659895, 0.99678139,\n",
              "        0.99694582, 0.997126  , 0.99728367, 0.99743683, 0.99759449,\n",
              "        0.99771612, 0.99780621, 0.99790982, 0.99801568, 0.99812154,\n",
              "        0.99823191, 0.99829272, 0.99836479, 0.99844363, 1.        ]),\n",
              " array([  1.  ,   2.98,   4.96,   6.94,   8.92,  10.9 ,  12.88,  14.86,\n",
              "         16.84,  18.82,  20.8 ,  22.78,  24.76,  26.74,  28.72,  30.7 ,\n",
              "         32.68,  34.66,  36.64,  38.62,  40.6 ,  42.58,  44.56,  46.54,\n",
              "         48.52,  50.5 ,  52.48,  54.46,  56.44,  58.42,  60.4 ,  62.38,\n",
              "         64.36,  66.34,  68.32,  70.3 ,  72.28,  74.26,  76.24,  78.22,\n",
              "         80.2 ,  82.18,  84.16,  86.14,  88.12,  90.1 ,  92.08,  94.06,\n",
              "         96.04,  98.02, 100.  ]),\n",
              " <a list of 1 Patch objects>)"
            ]
          },
          "metadata": {},
          "execution_count": 50
        },
        {
          "output_type": "display_data",
          "data": {
            "text/plain": [
              "<Figure size 432x288 with 1 Axes>"
            ],
            "image/png": "[encoded data removed]"
          },
          "metadata": {}
        }
      ]
    },
    {
      "cell_type": "code",
      "source": [
        "data_interaction_plot_per_user = data_interaction.groupby(['user_id']).size().reset_index(name='counts')\n",
        "plt.hist(data_interaction_plot_per_user['counts'], 100, density=True, histtype='step', cumulative=True)"
      ],
      "metadata": {
        "colab": {
          "base_uri": "https://localhost:8080/",
          "height": 855
        },
        "id": "mXEdMd1CNa_W",
        "outputId": "d0a96fe1-55b0-4012-fce8-d233d5164c2e"
      },
      "execution_count": null,
      "outputs": [
        {
          "output_type": "execute_result",
          "data": {
            "text/plain": [
              "(array([0.08950677, 0.22794737, 0.39010953, 0.53004083, 0.70743405,\n",
              "        0.76524726, 0.80854236, 0.84256919, 0.89150301, 0.90848402,\n",
              "        0.92151144, 0.93343703, 0.95151987, 0.95728822, 0.96286214,\n",
              "        0.9666213 , 0.97381554, 0.97686175, 0.97964871, 0.98224123,\n",
              "        0.98593558, 0.98749109, 0.98924104, 0.99014842, 0.99112062,\n",
              "        0.99280576, 0.99338907, 0.99410202, 0.99455571, 0.99526865,\n",
              "        0.99559272, 0.99604641, 0.99643528, 0.99656491, 0.99682416,\n",
              "        0.99714823, 0.99760192, 0.99786117, 0.99805561, 0.99831486,\n",
              "        0.99831486, 0.99844449, 0.99857411, 0.99863893, 0.99863893,\n",
              "        0.99876855, 0.99883337, 0.99909262, 0.99915743, 0.99922224,\n",
              "        0.99935187, 0.99941668, 0.99941668, 0.9994815 , 0.99954631,\n",
              "        0.99954631, 0.99967593, 0.99967593, 0.99967593, 0.99967593,\n",
              "        0.99967593, 0.99974075, 0.99974075, 0.99974075, 0.99980556,\n",
              "        0.99980556, 0.99980556, 0.99980556, 0.99980556, 0.99980556,\n",
              "        0.99980556, 0.99980556, 0.99980556, 0.99980556, 0.99980556,\n",
              "        0.99987037, 0.99987037, 0.99987037, 0.99987037, 0.99987037,\n",
              "        0.99987037, 0.99987037, 0.99987037, 0.99987037, 0.99987037,\n",
              "        0.99993519, 0.99993519, 0.99993519, 0.99993519, 0.99993519,\n",
              "        0.99993519, 0.99993519, 0.99993519, 0.99993519, 0.99993519,\n",
              "        0.99993519, 0.99993519, 0.99993519, 0.99993519, 1.        ]),\n",
              " array([  1.  ,   2.24,   3.48,   4.72,   5.96,   7.2 ,   8.44,   9.68,\n",
              "         10.92,  12.16,  13.4 ,  14.64,  15.88,  17.12,  18.36,  19.6 ,\n",
              "         20.84,  22.08,  23.32,  24.56,  25.8 ,  27.04,  28.28,  29.52,\n",
              "         30.76,  32.  ,  33.24,  34.48,  35.72,  36.96,  38.2 ,  39.44,\n",
              "         40.68,  41.92,  43.16,  44.4 ,  45.64,  46.88,  48.12,  49.36,\n",
              "         50.6 ,  51.84,  53.08,  54.32,  55.56,  56.8 ,  58.04,  59.28,\n",
              "         60.52,  61.76,  63.  ,  64.24,  65.48,  66.72,  67.96,  69.2 ,\n",
              "         70.44,  71.68,  72.92,  74.16,  75.4 ,  76.64,  77.88,  79.12,\n",
              "         80.36,  81.6 ,  82.84,  84.08,  85.32,  86.56,  87.8 ,  89.04,\n",
              "         90.28,  91.52,  92.76,  94.  ,  95.24,  96.48,  97.72,  98.96,\n",
              "        100.2 , 101.44, 102.68, 103.92, 105.16, 106.4 , 107.64, 108.88,\n",
              "        110.12, 111.36, 112.6 , 113.84, 115.08, 116.32, 117.56, 118.8 ,\n",
              "        120.04, 121.28, 122.52, 123.76, 125.  ]),\n",
              " <a list of 1 Patch objects>)"
            ]
          },
          "metadata": {},
          "execution_count": 51
        },
        {
          "output_type": "display_data",
          "data": {
            "text/plain": [
              "<Figure size 432x288 with 1 Axes>"
            ],
            "image/png": "[encoded data removed]"
          },
          "metadata": {}
        }
      ]
    },
    {
      "cell_type": "code",
      "source": [
        "plt.boxplot(data_interaction_plot_per_user['counts'])"
      ],
      "metadata": {
        "colab": {
          "base_uri": "https://localhost:8080/",
          "height": 404
        },
        "id": "kJIT1V0tN6-q",
        "outputId": "5b6f7ebf-8de0-480b-816f-f37199694ec3"
      },
      "execution_count": null,
      "outputs": [
        {
          "output_type": "execute_result",
          "data": {
            "text/plain": [
              "{'boxes': [<matplotlib.lines.Line2D at 0x7faf48f1a3d0>],\n",
              " 'caps': [<matplotlib.lines.Line2D at 0x7faf48f23250>,\n",
              "  <matplotlib.lines.Line2D at 0x7faf48f23ad0>],\n",
              " 'fliers': [<matplotlib.lines.Line2D at 0x7faf48f27a10>],\n",
              " 'means': [],\n",
              " 'medians': [<matplotlib.lines.Line2D at 0x7faf48f27290>],\n",
              " 'whiskers': [<matplotlib.lines.Line2D at 0x7faf48f0e0d0>,\n",
              "  <matplotlib.lines.Line2D at 0x7faf48f0e890>]}"
            ]
          },
          "metadata": {},
          "execution_count": 52
        },
        {
          "output_type": "display_data",
          "data": {
            "text/plain": [
              "<Figure size 432x288 with 1 Axes>"
            ],
            "image/png": "[encoded data removed]"
          },
          "metadata": {}
        }
      ]
    },
    {
      "cell_type": "code",
      "source": [
        "data_interaction_plot_per_user[['counts']].describe()"
      ],
      "metadata": {
        "colab": {
          "base_uri": "https://localhost:8080/",
          "height": 300
        },
        "id": "1uTCR1EROVGp",
        "outputId": "849e0bcb-b655-4b57-9dfc-9ce858ebad18"
      },
      "execution_count": null,
      "outputs": [
        {
          "output_type": "execute_result",
          "data": {
            "text/plain": [
              "             counts\n",
              "count  15429.000000\n",
              "mean       6.976343\n",
              "std        5.999408\n",
              "min        1.000000\n",
              "25%        4.000000\n",
              "50%        5.000000\n",
              "75%        8.000000\n",
              "max      125.000000"
            ],
            "text/html": [
              "\n",
              "  <div id=\"df-1ce549af-5245-4c53-9c7e-cf3b6586c89b\">\n",
              "    <div class=\"colab-df-container\">\n",
              "      <div>\n",
              "<style scoped>\n",
              "    .dataframe tbody tr th:only-of-type {\n",
              "        vertical-align: middle;\n",
              "    }\n",
              "\n",
              "    .dataframe tbody tr th {\n",
              "        vertical-align: top;\n",
              "    }\n",
              "\n",
              "    .dataframe thead th {\n",
              "        text-align: right;\n",
              "    }\n",
              "</style>\n",
              "<table border=\"1\" class=\"dataframe\">\n",
              "  <thead>\n",
              "    <tr style=\"text-align: right;\">\n",
              "      <th></th>\n",
              "      <th>counts</th>\n",
              "    </tr>\n",
              "  </thead>\n",
              "  <tbody>\n",
              "    <tr>\n",
              "      <th>count</th>\n",
              "      <td>15429.000000</td>\n",
              "    </tr>\n",
              "    <tr>\n",
              "      <th>mean</th>\n",
              "      <td>6.976343</td>\n",
              "    </tr>\n",
              "    <tr>\n",
              "      <th>std</th>\n",
              "      <td>5.999408</td>\n",
              "    </tr>\n",
              "    <tr>\n",
              "      <th>min</th>\n",
              "      <td>1.000000</td>\n",
              "    </tr>\n",
              "    <tr>\n",
              "      <th>25%</th>\n",
              "      <td>4.000000</td>\n",
              "    </tr>\n",
              "    <tr>\n",
              "      <th>50%</th>\n",
              "      <td>5.000000</td>\n",
              "    </tr>\n",
              "    <tr>\n",
              "      <th>75%</th>\n",
              "      <td>8.000000</td>\n",
              "    </tr>\n",
              "    <tr>\n",
              "      <th>max</th>\n",
              "      <td>125.000000</td>\n",
              "    </tr>\n",
              "  </tbody>\n",
              "</table>\n",
              "</div>\n",
              "      <button class=\"colab-df-convert\" onclick=\"convertToInteractive('df-1ce549af-5245-4c53-9c7e-cf3b6586c89b')\"\n",
              "              title=\"Convert this dataframe to an interactive table.\"\n",
              "              style=\"display:none;\">\n",
              "        \n",
              "  <svg xmlns=\"http://www.w3.org/2000/svg\" height=\"24px\"viewBox=\"0 0 24 24\"\n",
              "       width=\"24px\">\n",
              "    <path d=\"M0 0h24v24H0V0z\" fill=\"none\"/>\n",
              "    <path d=\"M18.56 5.44l.94 2.06.94-2.06 2.06-.94-2.06-.94-.94-2.06-.94 2.06-2.06.94zm-11 1L8.5 8.5l.94-2.06 2.06-.94-2.06-.94L8.5 2.5l-.94 2.06-2.06.94zm10 10l.94 2.06.94-2.06 2.06-.94-2.06-.94-.94-2.06-.94 2.06-2.06.94z\"/><path d=\"M17.41 7.96l-1.37-1.37c-.4-.4-.92-.59-1.43-.59-.52 0-1.04.2-1.43.59L10.3 9.45l-7.72 7.72c-.78.78-.78 2.05 0 2.83L4 21.41c.39.39.9.59 1.41.59.51 0 1.02-.2 1.41-.59l7.78-7.78 2.81-2.81c.8-.78.8-2.07 0-2.86zM5.41 20L4 18.59l7.72-7.72 1.47 1.35L5.41 20z\"/>\n",
              "  </svg>\n",
              "      </button>\n",
              "      \n",
              "  <style>\n",
              "    .colab-df-container {\n",
              "      display:flex;\n",
              "      flex-wrap:wrap;\n",
              "      gap: 12px;\n",
              "    }\n",
              "\n",
              "    .colab-df-convert {\n",
              "      background-color: #E8F0FE;\n",
              "      border: none;\n",
              "      border-radius: 50%;\n",
              "      cursor: pointer;\n",
              "      display: none;\n",
              "      fill: #1967D2;\n",
              "      height: 32px;\n",
              "      padding: 0 0 0 0;\n",
              "      width: 32px;\n",
              "    }\n",
              "\n",
              "    .colab-df-convert:hover {\n",
              "      background-color: #E2EBFA;\n",
              "      box-shadow: 0px 1px 2px rgba(60, 64, 67, 0.3), 0px 1px 3px 1px rgba(60, 64, 67, 0.15);\n",
              "      fill: #174EA6;\n",
              "    }\n",
              "\n",
              "    [theme=dark] .colab-df-convert {\n",
              "      background-color: #3B4455;\n",
              "      fill: #D2E3FC;\n",
              "    }\n",
              "\n",
              "    [theme=dark] .colab-df-convert:hover {\n",
              "      background-color: #434B5C;\n",
              "      box-shadow: 0px 1px 3px 1px rgba(0, 0, 0, 0.15);\n",
              "      filter: drop-shadow(0px 1px 2px rgba(0, 0, 0, 0.3));\n",
              "      fill: #FFFFFF;\n",
              "    }\n",
              "  </style>\n",
              "\n",
              "      <script>\n",
              "        const buttonEl =\n",
              "          document.querySelector('#df-1ce549af-5245-4c53-9c7e-cf3b6586c89b button.colab-df-convert');\n",
              "        buttonEl.style.display =\n",
              "          google.colab.kernel.accessAllowed ? 'block' : 'none';\n",
              "\n",
              "        async function convertToInteractive(key) {\n",
              "          const element = document.querySelector('#df-1ce549af-5245-4c53-9c7e-cf3b6586c89b');\n",
              "          const dataTable =\n",
              "            await google.colab.kernel.invokeFunction('convertToInteractive',\n",
              "                                                     [key], {});\n",
              "          if (!dataTable) return;\n",
              "\n",
              "          const docLinkHtml = 'Like what you see? Visit the ' +\n",
              "            '<a target=\"_blank\" href=https://colab.research.google.com/notebooks/data_table.ipynb>data table notebook</a>'\n",
              "            + ' to learn more about interactive tables.';\n",
              "          element.innerHTML = '';\n",
              "          dataTable['output_type'] = 'display_data';\n",
              "          await google.colab.output.renderOutput(dataTable, element);\n",
              "          const docLink = document.createElement('div');\n",
              "          docLink.innerHTML = docLinkHtml;\n",
              "          element.appendChild(docLink);\n",
              "        }\n",
              "      </script>\n",
              "    </div>\n",
              "  </div>\n",
              "  "
            ]
          },
          "metadata": {},
          "execution_count": 53
        }
      ]
    },
    {
      "cell_type": "markdown",
      "source": [
        "# Data statistics"
      ],
      "metadata": {
        "id": "HTyTllhDEzMB"
      }
    },
    {
      "cell_type": "code",
      "source": [
        "# Unique numbers\n",
        "print(\"Unique users: \", len(data_interaction.user_id.unique()))\n",
        "print(\"Unique tracks: \", len(data_interaction.track_id.unique()))\n",
        "print(\"Unique artists: \", len(data_tracks_tags_lyrics.track_artist.unique()))\n",
        "print(\"Listening events: \", len(data_interaction))\n"
      ],
      "metadata": {
        "colab": {
          "base_uri": "https://localhost:8080/"
        },
        "id": "PXFKx3-NE0u3",
        "outputId": "56803d62-bb2b-433f-f1ff-22c299bf9e4e"
      },
      "execution_count": null,
      "outputs": [
        {
          "output_type": "stream",
          "name": "stdout",
          "text": [
            "Unique users:  15429\n",
            "Unique tracks:  2724\n",
            "Unique artists:  1906\n",
            "Listening events:  107638\n"
          ]
        }
      ]
    },
    {
      "cell_type": "code",
      "source": [
        "# User gender split\n",
        "data_all_info = pd.read_csv(\"music/data_all_info.txt\", sep=\"\\t\").drop(['Unnamed: 0'],axis=1)\n",
        "data_user = pd.read_csv(\"data_user.txt\", sep=\"\\t\").drop(['Unnamed: 0'],axis=1)\n",
        "data_user.columns = ['user_id', 'gender_user']\n",
        "data_interaction.merge(data_user)[['user_id', 'gender_user']].drop_duplicates()[['gender_user']].value_counts()"
      ],
      "metadata": {
        "colab": {
          "base_uri": "https://localhost:8080/"
        },
        "id": "7_uJ2KnCFR02",
        "outputId": "e9f36f3f-9ffe-4d5a-8b21-ccae1486c28d"
      },
      "execution_count": null,
      "outputs": [
        {
          "output_type": "execute_result",
          "data": {
            "text/plain": [
              "gender_user\n",
              "m              12102\n",
              "f               3327\n",
              "dtype: int64"
            ]
          },
          "metadata": {},
          "execution_count": 55
        }
      ]
    },
    {
      "cell_type": "code",
      "source": [
        "# Artist gender split\n",
        "data_interaction.merge(data_all_info)[['track_artist', 'gender_artist']].drop_duplicates()[['gender_artist']].value_counts()"
      ],
      "metadata": {
        "colab": {
          "base_uri": "https://localhost:8080/"
        },
        "id": "7TTyh8g9Fo-m",
        "outputId": "ed459f50-ab9b-4c4e-b62b-a64d291529ee"
      },
      "execution_count": null,
      "outputs": [
        {
          "output_type": "execute_result",
          "data": {
            "text/plain": [
              "gender_artist\n",
              "male             1401\n",
              "female            505\n",
              "dtype: int64"
            ]
          },
          "metadata": {},
          "execution_count": 56
        }
      ]
    },
    {
      "cell_type": "code",
      "source": [
        "# Artist gender split in listening events\n",
        "data_interaction.merge(data_all_info)[['gender_artist']].value_counts()\n"
      ],
      "metadata": {
        "colab": {
          "base_uri": "https://localhost:8080/"
        },
        "id": "bMubFDLVFq5f",
        "outputId": "fbaae68c-3c1b-46e5-d27b-cf1b7d4a3461"
      },
      "execution_count": null,
      "outputs": [
        {
          "output_type": "execute_result",
          "data": {
            "text/plain": [
              "gender_artist\n",
              "male             85315\n",
              "female           26654\n",
              "dtype: int64"
            ]
          },
          "metadata": {},
          "execution_count": 57
        }
      ]
    },
    {
      "cell_type": "code",
      "source": [
        "data_interaction.merge(data_all_info)[['gender_artist']].value_counts() / len(data_interaction)"
      ],
      "metadata": {
        "id": "oBW9E67JJTl5",
        "outputId": "f50b83a3-64d6-4221-94c9-91d1f056e81b",
        "colab": {
          "base_uri": "https://localhost:8080/"
        }
      },
      "execution_count": null,
      "outputs": [
        {
          "output_type": "execute_result",
          "data": {
            "text/plain": [
              "gender_artist\n",
              "male             0.792610\n",
              "female           0.247626\n",
              "dtype: float64"
            ]
          },
          "metadata": {},
          "execution_count": 58
        }
      ]
    },
    {
      "cell_type": "code",
      "source": [
        "# User gender vs artist gender in listening events\n",
        "df = data_interaction.merge(data_all_info).merge(data_user)\n",
        "df.gender_artist.groupby([df.gender_user, df.gender_artist]).count()"
      ],
      "metadata": {
        "colab": {
          "base_uri": "https://localhost:8080/"
        },
        "id": "TUCgj7VpFuG-",
        "outputId": "98579532-ba06-4920-f669-1f996c7699fc"
      },
      "execution_count": null,
      "outputs": [
        {
          "output_type": "execute_result",
          "data": {
            "text/plain": [
              "gender_user  gender_artist\n",
              "f            female            7077\n",
              "             male             13381\n",
              "m            female           19577\n",
              "             male             71934\n",
              "Name: gender_artist, dtype: int64"
            ]
          },
          "metadata": {},
          "execution_count": 59
        }
      ]
    },
    {
      "cell_type": "code",
      "source": [
        "df[['gender_user']].value_counts()"
      ],
      "metadata": {
        "colab": {
          "base_uri": "https://localhost:8080/"
        },
        "id": "obao_p5CJDrn",
        "outputId": "231bb7f5-f626-467b-cc9e-637963319183"
      },
      "execution_count": null,
      "outputs": [
        {
          "output_type": "execute_result",
          "data": {
            "text/plain": [
              "gender_user\n",
              "m              91511\n",
              "f              20458\n",
              "dtype: int64"
            ]
          },
          "metadata": {},
          "execution_count": 60
        }
      ]
    },
    {
      "cell_type": "code",
      "source": [
        "# Plot: Distribution of listening events per artist gender (x-axis number of listening events, y-axis number of tracks, split up by gender)\n",
        "df_female = df[df.gender_user == \"f\"]\n",
        "df_female = df_female.groupby(['user_id']).size().reset_index(name='counts')\n",
        "df_male = df[df.gender_user == \"m\"]\n",
        "df_male = df_male.groupby(['user_id']).size().reset_index(name='counts')\n",
        "sns.kdeplot(df_male['counts'], bw=0.5, label=f\"male (median = {df_male['counts'].median()})\")\n",
        "sns.kdeplot(df_female['counts'], bw=0.5, label=f\"female (median = {df_female['counts'].median()})\")\n",
        "plt.legend()\n",
        "plt.title(\"Number of listening events per user gender\")"
      ],
      "metadata": {
        "colab": {
          "base_uri": "https://localhost:8080/",
          "height": 402
        },
        "id": "KJjuBVfvGCSA",
        "outputId": "b29b7325-e8a6-4cf2-85e3-4bc77ac00870"
      },
      "execution_count": null,
      "outputs": [
        {
          "output_type": "stream",
          "name": "stderr",
          "text": [
            "/usr/local/lib/python3.7/dist-packages/seaborn/distributions.py:1699: FutureWarning: The `bw` parameter is deprecated in favor of `bw_method` and `bw_adjust`. Using 0.5 for `bw_method`, but please see the docs for the new parameters and update your code.\n",
            "  warnings.warn(msg, FutureWarning)\n",
            "/usr/local/lib/python3.7/dist-packages/seaborn/distributions.py:1699: FutureWarning: The `bw` parameter is deprecated in favor of `bw_method` and `bw_adjust`. Using 0.5 for `bw_method`, but please see the docs for the new parameters and update your code.\n",
            "  warnings.warn(msg, FutureWarning)\n"
          ]
        },
        {
          "output_type": "execute_result",
          "data": {
            "text/plain": [
              "Text(0.5, 1.0, 'Number of listening events per user gender')"
            ]
          },
          "metadata": {},
          "execution_count": 61
        },
        {
          "output_type": "display_data",
          "data": {
            "text/plain": [
              "<Figure size 432x288 with 1 Axes>"
            ],
            "image/png": "[encoded data removed]"
          },
          "metadata": {}
        }
      ]
    },
    {
      "cell_type": "code",
      "source": [
        "df_female = df[df.gender_user == \"f\"]\n",
        "df_female = df_female.groupby(['track_artist']).size().reset_index(name='counts')\n",
        "df_female.loc[df_female['counts']>500, 'counts'] = 500\n",
        "df_male = df[df.gender_user == \"m\"]\n",
        "df_male = df_male.groupby(['track_artist']).size().reset_index(name='counts')\n",
        "df_male.loc[df_male['counts']>500, 'counts'] = 500\n",
        "sns.kdeplot(df_male['counts'], bw=0.5, label=f\"male (median = {df_male['counts'].median()})\")\n",
        "sns.kdeplot(df_female['counts'], bw=0.5, label=f\"female (median = {df_female['counts'].median()})\")\n",
        "plt.legend()\n",
        "plt.title(\"Number of listening events per artist gender\")"
      ],
      "metadata": {
        "colab": {
          "base_uri": "https://localhost:8080/",
          "height": 402
        },
        "id": "ugV0MxWnMKZs",
        "outputId": "73103509-d3ed-4b02-dbdc-187165d7571c"
      },
      "execution_count": null,
      "outputs": [
        {
          "output_type": "stream",
          "name": "stderr",
          "text": [
            "/usr/local/lib/python3.7/dist-packages/seaborn/distributions.py:1699: FutureWarning: The `bw` parameter is deprecated in favor of `bw_method` and `bw_adjust`. Using 0.5 for `bw_method`, but please see the docs for the new parameters and update your code.\n",
            "  warnings.warn(msg, FutureWarning)\n",
            "/usr/local/lib/python3.7/dist-packages/seaborn/distributions.py:1699: FutureWarning: The `bw` parameter is deprecated in favor of `bw_method` and `bw_adjust`. Using 0.5 for `bw_method`, but please see the docs for the new parameters and update your code.\n",
            "  warnings.warn(msg, FutureWarning)\n"
          ]
        },
        {
          "output_type": "execute_result",
          "data": {
            "text/plain": [
              "Text(0.5, 1.0, 'Number of listening events per artist gender')"
            ]
          },
          "metadata": {},
          "execution_count": 62
        },
        {
          "output_type": "display_data",
          "data": {
            "text/plain": [
              "<Figure size 432x288 with 1 Axes>"
            ],
            "image/png": "[encoded data removed]"
          },
          "metadata": {}
        }
      ]
    }
  ],
  "metadata": {
    "accelerator": "GPU",
    "colab": {
      "collapsed_sections": [],
      "machine_shape": "hm",
      "name": "001_data_preprocessing.ipynb",
      "provenance": [],
      "mount_file_id": "1oLwqD4kIwkhfA4JSXv2yb_2VYFXGEB35",
      "authorship_tag": "ABX9TyNlsGZiG5FN2p9QZtNdqL9d",
      "include_colab_link": true
    },
    "kernelspec": {
      "display_name": "Python 3",
      "name": "python3"
    },
    "language_info": {
      "name": "python"
    }
  },
  "nbformat": 4,
  "nbformat_minor": 0
}