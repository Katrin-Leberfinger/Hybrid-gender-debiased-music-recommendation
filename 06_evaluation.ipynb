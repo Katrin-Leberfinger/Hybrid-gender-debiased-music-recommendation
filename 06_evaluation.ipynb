{
  "cells": [
    {
      "cell_type": "markdown",
      "metadata": {
        "id": "view-in-github",
        "colab_type": "text"
      },
      "source": [
        "<a href=\"https://colab.research.google.com/github/Katrin-Leberfinger/Hybrid-gender-debiased-music-recommendation/blob/main/06_evaluation.ipynb\" target=\"_parent\"><img src=\"https://colab.research.google.com/assets/colab-badge.svg\" alt=\"Open In Colab\"/></a>"
      ]
    },
    {
      "cell_type": "code",
      "execution_count": null,
      "metadata": {
        "id": "L9D-5zOmltBw"
      },
      "outputs": [],
      "source": [
        "import torch\n",
        "import numpy as np\n",
        "import torch.nn as nn\n",
        "from torch.autograd import Variable\n",
        "from transformers import BertConfig, BertPreTrainedModel, BertModel, BertForSequenceClassification\n",
        "import pandas as pd\n",
        "import torch\n",
        "from sklearn.model_selection import train_test_split\n",
        "from transformers import BertTokenizer, BertModel, AdamW\n",
        "from torch import nn\n",
        "from transformers import BertModel\n",
        "from sklearn.metrics import f1_score\n",
        "from sklearn.metrics import recall_score\n",
        "from sklearn.utils import shuffle\n",
        "import matplotlib.pyplot as plt\n",
        "import gc                                                                                                                                                                                                                                                                                                                                                                                                                                                                                                                                                                                                                                                                                                                                                                                                                                                                                                                                                                                                                                                                                                                                                                                                                                                                                                                                                                                                                                                                                                                                                                                                                                                                                                                                                                                                                                                                                                                                                                                                                                                                                                                                                                                                                                                                                                                                                                                                                                                                                                                                                                                                                                                                                                                                                                                                                                                                                                                                                                                                                                                                                                                                                                                                                                                                                                                                                                                                                                                                                                                                                                                                                                                                                                                                                                                                                                                                                                                                                                                                                                                                                                                                                                                                                                                                                                                                                                                                                                                                                                                                                                                                                                                                                                                                                                                                                                                                                                                                                                                                                                                                                                                                                                                                                                                                                                                                                                                                                                                                                                                                                                                                                                                                                                                                                                                                                                                                                                                                                                                                                                                                                                                                                                                                                                                                                                                                                                                                                                                                                                                                                                                                                                                                                                                                                                                                                                                                                                                                                                                                                                                                                                                                                                                                                                                                                                                                                                                                                                                                                                                                                                                                                                                                                                                                                                                                                                                                                                                                                                                                                                                                                                                                                                                                                                                                                                                                                                                                                                                                                                                                                                                                                                                                                                                                                                                                                                                                                                                                                                                                                                                                                                                                                                                                                                                                                                                                                                                                                                                                                                                                                                                                                                                                                                                                                                                                                                                                                                                                                                                                                                                                                                                                                                                                                                                                                                                                                                                                                                                                                                                                                                                                                                                                                                                                                                                                                                                                                                                                                                                                                                                                                                                                                                                                                                                                                                                                                                                                                                                                                                                                                                                                                                                                                                                                                                                                                                                                                                                                                                                                                                                                                                                                                                                                                                                                                                                                                                                                                                                                                                                                                                                                                                                                                                                                                                                                                                                                                                                                                                         "
      ]
    },
    {
      "cell_type": "code",
      "execution_count": null,
      "metadata": {
        "colab": {
          "base_uri": "https://localhost:8080/"
        },
        "id": "GzTFm7XWXmXv",
        "outputId": "322bff94-2808-419c-e6d4-8caf111cd2a7"
      },
      "outputs": [
        {
          "output_type": "stream",
          "name": "stdout",
          "text": [
            "Mounted at /content/drive\n"
          ]
        }
      ],
      "source": [
        "from google.colab import drive\n",
        "drive.mount('/content/drive')"
      ]
    },
    {
      "cell_type": "code",
      "execution_count": null,
      "metadata": {
        "colab": {
          "base_uri": "https://localhost:8080/"
        },
        "id": "iWWKtwJxXmQC",
        "outputId": "886694a8-4fbc-4d0c-a12d-fad6a0e33bd5"
      },
      "outputs": [
        {
          "output_type": "stream",
          "name": "stdout",
          "text": [
            "/content/drive/MyDrive/Master Thesis/data\n"
          ]
        }
      ],
      "source": [
        "%cd /content/drive/MyDrive/Master\\ Thesis/data"
      ]
    },
    {
      "cell_type": "markdown",
      "source": [
        "# Performance metrics"
      ],
      "metadata": {
        "id": "7GFow8h_ZaAK"
      }
    },
    {
      "cell_type": "code",
      "source": [
        "def get_artist_gender_diversity():\n",
        "  pass"
      ],
      "metadata": {
        "id": "qg_dS5lge7oL"
      },
      "execution_count": null,
      "outputs": []
    },
    {
      "cell_type": "code",
      "source": [
        "def get_coverage(df_rec, data_tracks_tags_lyrics):\n",
        "  return len(df_rec['track_id'].drop_duplicates()) / len(data_tracks_tags_lyrics['track_id'].drop_duplicates())"
      ],
      "metadata": {
        "id": "aU4ydkCLe59p"
      },
      "execution_count": null,
      "outputs": []
    },
    {
      "cell_type": "code",
      "source": [
        "def get_ndcg(rel_true, k):\n",
        "\n",
        "  rel_opt = np.zeros(len(rel_true))\n",
        "  rel_opt[:k] = 1\n",
        "  #rel_opt = rel_opt[:k]\n",
        "  #rel_true = rel_true[:k]\n",
        "\n",
        "  def _dcg(rel):\n",
        "    i = np.arange(1, len(rel)+ 1)\n",
        "    denom = np.log2(i + 1)\n",
        "    dcg = np.sum(rel / denom)\n",
        "    return dcg\n",
        "\n",
        "  return _dcg(rel_true) / _dcg(rel_opt)\n",
        "\n"
      ],
      "metadata": {
        "id": "RNyclnHsnMMm"
      },
      "execution_count": null,
      "outputs": []
    },
    {
      "cell_type": "markdown",
      "metadata": {
        "id": "RxzLZWaLAhUZ"
      },
      "source": [
        "# Evaluate predictions\n",
        "\n",
        "Scores: F1@10, ndcg@k, recall@k"
      ]
    },
    {
      "cell_type": "code",
      "source": [
        "topn=100"
      ],
      "metadata": {
        "id": "XS-AQqs-iXDP"
      },
      "execution_count": null,
      "outputs": []
    },
    {
      "cell_type": "code",
      "source": [
        "model_dir = f\"./results/movies/abstractAMARBertEmbeddings_binary_adamw_bert-base-uncased/\"\n"
      ],
      "metadata": {
        "id": "zyq3M3FMqNJW"
      },
      "execution_count": null,
      "outputs": []
    },
    {
      "cell_type": "code",
      "execution_count": null,
      "metadata": {
        "id": "z-T1kV_Wk5as"
      },
      "outputs": [],
      "source": [
        "results_df = pd.read_csv(model_dir + \"predictions.csv\").drop([\"Unnamed: 0\"], axis=1)"
      ]
    },
    {
      "cell_type": "code",
      "execution_count": null,
      "metadata": {
        "id": "8DTstEsi72xS",
        "colab": {
          "base_uri": "https://localhost:8080/"
        },
        "outputId": "4c57ce4f-9d50-41aa-8f99-fb3c40f89314"
      },
      "outputs": [
        {
          "output_type": "stream",
          "name": "stdout",
          "text": [
            "F1 Score:  0.015352846610364143\n",
            "NDCG Score:  0.009143322836283621\n",
            "Coverage: ,  0.054693560899922423\n"
          ]
        }
      ],
      "source": [
        "f1_scores = []\n",
        "recall_scores = []\n",
        "ndcg_scores = []\n",
        "\n",
        "for user, df in results_df.groupby('user_id'):\n",
        "  df = df.drop_duplicates(subset='track_id').head(topn)\n",
        "\n",
        "  y_true_sorted = data_interaction_test.loc[data_interaction_test['user_id'] == user].sort_values('count', ascending=False).drop_duplicates()\n",
        "  y_ndcg = pd.merge(df[['track_id']], y_true_sorted[['track_id', 'count']].drop_duplicates(), 'left').fillna(0)['count'].values\n",
        "  y_true_df = pd.merge(data_tracks_tags_lyrics[['track_id']].drop_duplicates(), y_true_sorted[['track_id', 'count']].drop_duplicates(), 'left').fillna(0)\n",
        "  y_ndcg[y_ndcg > 0] = 1\n",
        "  y_true_df.loc[y_true_df['count'] > 0, 'count'] = 1\n",
        "  y_true = y_true_df['count'].values\n",
        "\n",
        "  y_pred_df = pd.merge(data_tracks_tags_lyrics[['track_id']].drop_duplicates(), df[['track_id', 'count']], 'left').fillna(0)\n",
        "  y_pred_df.loc[y_pred_df['count'] > 0, 'count'] = 1\n",
        "  y_pred = y_pred_df['count'].values\n",
        "\n",
        "  if y_true.sum() >= 1:\n",
        "    f1_scores.append(f1_score(y_true, y_pred))\n",
        "    recall_scores.append(recall_score(y_true, y_pred))\n",
        "    ndcg_scores.append(get_ndcg(y_ndcg, topn))\n",
        "\n",
        "coverage = get_coverage(results_df, data_tracks_tags_lyrics)\n",
        "\n",
        "print(\"F1 Score: \", np.mean(f1_scores))\n",
        "#print(\"Recall Score: \", np.mean(recall_scores))\n",
        "print(\"NDCG Score: \", np.mean(ndcg_scores))\n",
        "print(\"Coverage: , \", coverage)"
      ]
    },
    {
      "cell_type": "code",
      "source": [
        "pd.DataFrame({\"f1_score\": [np.mean(f1_scores)], \n",
        "             # 'recall': [np.mean(recall_scores)], \n",
        "              'ndcg': [np.mean(ndcg_scores)],\n",
        "              'coverage': [coverage]}).to_csv(model_dir + 'evaluation_result.csv', encoding = 'utf-8-sig') "
      ],
      "metadata": {
        "id": "FVnaLOPiPmsC"
      },
      "execution_count": null,
      "outputs": []
    }
  ],
  "metadata": {
    "accelerator": "GPU",
    "colab": {
      "collapsed_sections": [
        "0c67LS6n1Y-A",
        "K-A_VQKP1hFS",
        "jc6rPo1eHeca",
        "hgDbgyUFYVPF",
        "UEiaFN1bYdFE",
        "_W5yg61kZJOV",
        "xjjmSaKW-99W",
        "NtIQzQEH2vhy"
      ],
      "machine_shape": "hm",
      "name": "06_evaluation.ipynb",
      "provenance": [],
      "mount_file_id": "1oLwqD4kIwkhfA4JSXv2yb_2VYFXGEB35",
      "authorship_tag": "ABX9TyNjYKWW+wuGSYVUDmORwPQi",
      "include_colab_link": true
    },
    "kernelspec": {
      "display_name": "Python 3",
      "name": "python3"
    },
    "language_info": {
      "name": "python"
    }
  },
  "nbformat": 4,
  "nbformat_minor": 0
}