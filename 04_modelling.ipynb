{
  "cells": [
    {
      "cell_type": "markdown",
      "metadata": {
        "id": "view-in-github",
        "colab_type": "text"
      },
      "source": [
        "<a href=\"https://colab.research.google.com/github/Katrin-Leberfinger/Hybrid-gender-debiased-music-recommendation/blob/main/04_modelling.ipynb\" target=\"_parent\"><img src=\"https://colab.research.google.com/assets/colab-badge.svg\" alt=\"Open In Colab\"/></a>"
      ]
    },
    {
      "cell_type": "code",
      "execution_count": 1,
      "metadata": {
        "colab": {
          "base_uri": "https://localhost:8080/"
        },
        "id": "RWHMmzSHaV4j",
        "outputId": "53786d78-576d-472b-f8b5-674d3e51edde"
      },
      "outputs": [
        {
          "output_type": "stream",
          "name": "stdout",
          "text": [
            "Looking in indexes: https://pypi.org/simple, https://us-python.pkg.dev/colab-wheels/public/simple/\n",
            "Requirement already satisfied: transformers in /usr/local/lib/python3.7/dist-packages (4.20.1)\n",
            "Requirement already satisfied: packaging>=20.0 in /usr/local/lib/python3.7/dist-packages (from transformers) (21.3)\n",
            "Requirement already satisfied: filelock in /usr/local/lib/python3.7/dist-packages (from transformers) (3.7.1)\n",
            "Requirement already satisfied: importlib-metadata in /usr/local/lib/python3.7/dist-packages (from transformers) (4.11.4)\n",
            "Requirement already satisfied: regex!=2019.12.17 in /usr/local/lib/python3.7/dist-packages (from transformers) (2022.6.2)\n",
            "Requirement already satisfied: requests in /usr/local/lib/python3.7/dist-packages (from transformers) (2.23.0)\n",
            "Requirement already satisfied: pyyaml>=5.1 in /usr/local/lib/python3.7/dist-packages (from transformers) (6.0)\n",
            "Requirement already satisfied: numpy>=1.17 in /usr/local/lib/python3.7/dist-packages (from transformers) (1.21.6)\n",
            "Requirement already satisfied: huggingface-hub<1.0,>=0.1.0 in /usr/local/lib/python3.7/dist-packages (from transformers) (0.8.1)\n",
            "Requirement already satisfied: tokenizers!=0.11.3,<0.13,>=0.11.1 in /usr/local/lib/python3.7/dist-packages (from transformers) (0.12.1)\n",
            "Requirement already satisfied: tqdm>=4.27 in /usr/local/lib/python3.7/dist-packages (from transformers) (4.64.0)\n",
            "Requirement already satisfied: typing-extensions>=3.7.4.3 in /usr/local/lib/python3.7/dist-packages (from huggingface-hub<1.0,>=0.1.0->transformers) (4.1.1)\n",
            "Requirement already satisfied: pyparsing!=3.0.5,>=2.0.2 in /usr/local/lib/python3.7/dist-packages (from packaging>=20.0->transformers) (3.0.9)\n",
            "Requirement already satisfied: zipp>=0.5 in /usr/local/lib/python3.7/dist-packages (from importlib-metadata->transformers) (3.8.0)\n",
            "Requirement already satisfied: chardet<4,>=3.0.2 in /usr/local/lib/python3.7/dist-packages (from requests->transformers) (3.0.4)\n",
            "Requirement already satisfied: certifi>=2017.4.17 in /usr/local/lib/python3.7/dist-packages (from requests->transformers) (2022.6.15)\n",
            "Requirement already satisfied: urllib3!=1.25.0,!=1.25.1,<1.26,>=1.21.1 in /usr/local/lib/python3.7/dist-packages (from requests->transformers) (1.24.3)\n",
            "Requirement already satisfied: idna<3,>=2.5 in /usr/local/lib/python3.7/dist-packages (from requests->transformers) (2.10)\n"
          ]
        }
      ],
      "source": [
        "!pip install transformers"
      ]
    },
    {
      "cell_type": "code",
      "execution_count": 2,
      "metadata": {
        "id": "L9D-5zOmltBw"
      },
      "outputs": [],
      "source": [
        "import torch\n",
        "import numpy as np\n",
        "import torch.nn as nn\n",
        "from torch.autograd import Variable\n",
        "from transformers import BertConfig, BertPreTrainedModel, BertModel, BertForSequenceClassification\n",
        "import pandas as pd\n",
        "import torch\n",
        "from sklearn.model_selection import train_test_split\n",
        "from transformers import BertTokenizer, BertModel, AdamW\n",
        "from torch import nn\n",
        "from transformers import BertModel\n",
        "from sklearn.metrics import f1_score\n",
        "from sklearn.metrics import recall_score\n",
        "from sklearn.utils import shuffle\n",
        "import matplotlib.pyplot as plt\n",
        "import gc                                                                                                                                                                                                                                                                                                                                                                                                                                                                                                                                                                                                                                                                                                                                                                                                                                                                                                                                                                                                                                                                                                                                                                                                                                                                                                                                                                                                                                                                                                                                                                                                                                                                                                                                                                                                                                                                                                                                                                                                                                                                                                                                                                                                                                                                                                                                                                                                                                                                                                                                                                                                                                                                                                                                                                                                                                                                                                                                                                                                                                                                                                                                                                                                                                                                                                                                                                                                                                                                                                                                                                                                                                                                                                                                                                                                                                                                                                                                                                                                                                                                                                                                                                                                                                                                                                                                                                                                                                                                                                                                                                                                                                                                                                                                                                                                                                                                                                                                                                                                                                                                                                                                                                                                                                                                                                                                                                                                                                                                                                                                                                                                                                                                                                                                                                                                                                                                                                                                                                                                                                                                                                                                                                                                                                                                                                                                                                                                                                                                                                                                                                                                                                                                                                                                                                                                                                                                                                                                                                                                                                                                                                                                                                                                                                                                                                                                                                                                                                                                                                                                                                                                                                                                                                                                                                                                                                                                                                                                                                                                                                                                                                                                                                                                                                                                                                                                                                                                                                                                                                                                                                                                                                                                                                                                                                                                                                                                                                                                                                                                                                                                                                                                                                                                                                                                                                                                                                                                                                                                                                                                                                                                                                                                                                                                                                                                                                                                                                                                                                                                                                                                                                                                                                                                                                                                                                                                                                                                                                                                                                                                                                                                                                                                                                                                                                                                                                                                                                                                                                                                                                                                                                                                                                                                                                                                                                                                                                                                                                                                                                                                                                                                                                                                                                                                                                                                                                                                                                                                                                                                                                                                                                                                                                                                                                                                                                                                                                                                                                                                                                                                                                                                                                                                                                                                                                                                                                                                                                                                                                         "
      ]
    },
    {
      "cell_type": "markdown",
      "metadata": {
        "id": "sXEH2KDKXjCM"
      },
      "source": [
        "# Read Data"
      ]
    },
    {
      "cell_type": "markdown",
      "source": [
        "## Datasets"
      ],
      "metadata": {
        "id": "xrv1WB2C6l-f"
      }
    },
    {
      "cell_type": "code",
      "execution_count": 3,
      "metadata": {
        "id": "XlA7ckWp1_mg"
      },
      "outputs": [],
      "source": [
        "from torch.utils.data import Dataset\n",
        "from torch.utils.data import DataLoader\n",
        "\n",
        "class LFM2bDataset(Dataset):\n",
        "    def __init__(self, data_all,tokenizer,max_length, text_col, item2pos, user2id):\n",
        "        super(LFM2bDataset, self).__init__()\n",
        "        self.data_all = data_all\n",
        "        self.max_length = max_length\n",
        "        self.tokenizer = tokenizer\n",
        "        self.text_col = text_col\n",
        "        self.item2pos = item2pos\n",
        "        self.user2id = user2id\n",
        "        \n",
        "    def __len__(self):\n",
        "        return len(self.data_all)\n",
        "    \n",
        "    def __getitem__(self, index):\n",
        "        \n",
        "        text1 = self.data_all.iloc[index][self.text_col]\n",
        "        user_id = self.user2id[ self.data_all.iloc[index]['user_id']]\n",
        "        track_id = self.item2pos[ self.data_all.iloc[index]['track_id']]\n",
        "        target = self.data_all.iloc[index]['count']\n",
        "\n",
        "        inputs = tokenizer.encode_plus(\n",
        "                text1, \n",
        "                add_special_tokens=True,\n",
        "                padding='max_length',\n",
        "                max_length = self.max_length,\n",
        "                return_tensors='pt',\n",
        "                truncation=True,\n",
        "                return_attention_mask=True\n",
        "                )\n",
        "        ids = inputs[\"input_ids\"]\n",
        "        mask = inputs[\"attention_mask\"]\n",
        "\n",
        "        return {\n",
        "            'input_ids_lyrics': ids.flatten(),\n",
        "            'attention_mask_lyrics': mask.flatten(),\n",
        "            'user_id': torch.tensor(user_id, dtype=torch.long),\n",
        "             'track_id': torch.tensor(track_id, dtype=torch.long),\n",
        "            'target': torch.FloatTensor([target])\n",
        "            }\n"
      ]
    },
    {
      "cell_type": "code",
      "execution_count": 4,
      "metadata": {
        "id": "r5XACwlUqC9Z"
      },
      "outputs": [],
      "source": [
        "from torch.utils.data import Dataset\n",
        "from torch.utils.data import DataLoader\n",
        "\n",
        "class LFM2bDatasetMulitpleText(Dataset):\n",
        "    def __init__(self, data_all,tokenizer,max_length, item2pos, user2id):\n",
        "        super(LFM2bDatasetMulitpleText, self).__init__()\n",
        "        self.data_all = data_all\n",
        "        self.max_length = max_length\n",
        "        self.tokenizer = tokenizer\n",
        "        self.item2pos = item2pos\n",
        "        self.user2id = user2id\n",
        "        \n",
        "    def __len__(self):\n",
        "        return len(self.data_all)\n",
        "    \n",
        "    def __getitem__(self, index):\n",
        "        \n",
        "        text1 = self.data_all.iloc[index]['lyrics_cleaned']\n",
        "        text2 = self.data_all.iloc[index]['tags']\n",
        "        text3 = self.data_all.iloc[index]['abstract']\n",
        "        user_id = self.user2id[ self.data_all.iloc[index]['user_id']]\n",
        "        track_id = self.item2pos[ self.data_all.iloc[index]['track_id']]\n",
        "        \n",
        "        inputs1 = tokenizer.encode_plus(\n",
        "            text1, \n",
        "            add_special_tokens=True,\n",
        "            padding='max_length',\n",
        "            max_length = self.max_length,\n",
        "            return_tensors='pt',\n",
        "            truncation=True,\n",
        "            return_attention_mask=True\n",
        "            \n",
        "        )\n",
        "        ids1 = inputs1[\"input_ids\"]\n",
        "        mask1 = inputs1[\"attention_mask\"]\n",
        "\n",
        "        inputs2 = tokenizer.encode_plus(\n",
        "            text2, \n",
        "            add_special_tokens=True,\n",
        "            padding='max_length',\n",
        "            max_length = self.max_length,\n",
        "            return_tensors='pt',\n",
        "            truncation=True,\n",
        "            return_attention_mask=True\n",
        "            \n",
        "        )\n",
        "        ids2 = inputs2[\"input_ids\"]\n",
        "        mask2 = inputs2[\"attention_mask\"]\n",
        "\n",
        "        inputs3 = tokenizer.encode_plus(\n",
        "            text3, \n",
        "            add_special_tokens=True,\n",
        "            padding='max_length',\n",
        "            max_length = self.max_length,\n",
        "            return_tensors='pt',\n",
        "            truncation=True,\n",
        "            return_attention_mask=True\n",
        "            \n",
        "        )\n",
        "        ids3 = inputs1[\"input_ids\"]\n",
        "        mask3 = inputs1[\"attention_mask\"]\n",
        "\n",
        "        return {\n",
        "            'input_ids_lyrics': torch.tensor(ids1, dtype=torch.long),\n",
        "            'attention_mask_lyrics': torch.tensor(mask1, dtype=torch.long),\n",
        "            'input_ids_tags': torch.tensor(ids2, dtype=torch.long),\n",
        "            'attention_mask_tags': torch.tensor(mask2, dtype=torch.long),\n",
        "            'input_ids_abstract': torch.tensor(ids3, dtype=torch.long),\n",
        "            'attention_mask_abstract': torch.tensor(mask3, dtype=torch.long),\n",
        "            'user_id': torch.tensor(user_id, dtype=torch.long),\n",
        "            'track_id': torch.tensor(track_id, dtype=torch.long),\n",
        "            'target': torch.tensor(self.data_all.iloc[index]['count'], dtype=torch.float)\n",
        "            }\n"
      ]
    },
    {
      "cell_type": "code",
      "execution_count": 5,
      "metadata": {
        "colab": {
          "base_uri": "https://localhost:8080/"
        },
        "id": "GzTFm7XWXmXv",
        "outputId": "d5e3360b-af48-4c7e-b07b-c2d6e555c2e8"
      },
      "outputs": [
        {
          "output_type": "stream",
          "name": "stdout",
          "text": [
            "Drive already mounted at /content/drive; to attempt to forcibly remount, call drive.mount(\"/content/drive\", force_remount=True).\n"
          ]
        }
      ],
      "source": [
        "from google.colab import drive\n",
        "drive.mount('/content/drive')"
      ]
    },
    {
      "cell_type": "code",
      "execution_count": 6,
      "metadata": {
        "colab": {
          "base_uri": "https://localhost:8080/"
        },
        "id": "iWWKtwJxXmQC",
        "outputId": "2536d701-86c2-49c5-884a-5a7a81ca2665"
      },
      "outputs": [
        {
          "output_type": "stream",
          "name": "stdout",
          "text": [
            "/content/drive/MyDrive/Master Thesis/data\n"
          ]
        }
      ],
      "source": [
        "%cd /content/drive/MyDrive/Master\\ Thesis/data"
      ]
    },
    {
      "cell_type": "code",
      "source": [
        "from model import EasyBERTModel"
      ],
      "metadata": {
        "id": "itk8YB0kVgVj"
      },
      "execution_count": 8,
      "outputs": []
    },
    {
      "cell_type": "markdown",
      "metadata": {
        "id": "Vf103qDF0cNv"
      },
      "source": [
        "## Read Data: Lyrics "
      ]
    },
    {
      "cell_type": "code",
      "execution_count": 9,
      "metadata": {
        "id": "lTSGXhgqhfXI"
      },
      "outputs": [],
      "source": [
        "dir = \"preprocessed_data_binary/\"\n",
        "\n",
        "data_interaction = pd.read_csv(dir + \"data_interaction.csv\").drop(['Unnamed: 0'],axis=1)\n",
        "data_tracks_tags_lyrics = pd.read_csv(dir + \"data_tracks_tags_lyrics.csv\").drop(['Unnamed: 0'],axis=1)\n",
        "data_interaction_test = pd.read_csv(dir + \"data_interaction_test.csv\").drop(['Unnamed: 0'],axis=1)\n",
        "data_interaction_train = pd.read_csv(dir + \"data_interaction_train.csv\").drop(['Unnamed: 0'],axis=1)\n",
        "data_interaction_val = pd.read_csv(dir + \"data_interaction_val.csv\").drop(['Unnamed: 0'],axis=1)"
      ]
    },
    {
      "cell_type": "code",
      "source": [
        "pos2item = {i:v for i, v in enumerate(data_tracks_tags_lyrics.track_id.sort_values().unique())}\n",
        "item2pos = {v:i for i, v in enumerate(data_tracks_tags_lyrics.track_id.sort_values().unique())}\n",
        "\n",
        "id2user = {i:v for i, v in enumerate(data_interaction.user_id.sort_values().unique())}\n",
        "user2id = {v:i for i, v in enumerate(data_interaction.user_id.sort_values().unique())}"
      ],
      "metadata": {
        "id": "vjrZjQCIzTKn"
      },
      "execution_count": 13,
      "outputs": []
    },
    {
      "cell_type": "code",
      "source": [
        "BERT_MODEL_NAME = 'bert-base-uncased'\n",
        "tokenizer = BertTokenizer.from_pretrained(BERT_MODEL_NAME)"
      ],
      "metadata": {
        "id": "Po2m8XWxPylI"
      },
      "execution_count": 14,
      "outputs": []
    },
    {
      "cell_type": "markdown",
      "source": [
        "# Performance metrics"
      ],
      "metadata": {
        "id": "7GFow8h_ZaAK"
      }
    },
    {
      "cell_type": "code",
      "source": [
        "def get_ndcg(df, rel_pred, k):\n",
        "\n",
        "  rel_true = np.zeros(len(df))\n",
        "  rel_true[:k] = 1\n",
        "\n",
        "  def _dcg(rel):\n",
        "    i = np.arange(1, len(rel)+ 1)\n",
        "    denom = np.log2(i + 1)\n",
        "    dcg = np.sum(rel / denom)\n",
        "    return dcg\n",
        "\n",
        "  return _dcg(rel_pred) / _dcg(rel_true)\n",
        "\n"
      ],
      "metadata": {
        "id": "RNyclnHsnMMm"
      },
      "execution_count": 15,
      "outputs": []
    },
    {
      "cell_type": "markdown",
      "source": [
        "# Model Training"
      ],
      "metadata": {
        "id": "Ul1WDu8_Zy21"
      }
    },
    {
      "cell_type": "code",
      "source": [
        "from transformers import AutoConfig, AutoModel, AutoTokenizer\n",
        "MODEL_NAME = 'distilbert-base-uncased'\n",
        "config = AutoConfig.from_pretrained(MODEL_NAME, num_labels = 2)\n",
        "\n",
        "hidden_dense_layer_size=778\n",
        "\n",
        "MODEL_NAME = 'prajjwal1/bert-tiny'\n",
        "#MODEL_NAME = 'bert-base-uncased'"
      ],
      "metadata": {
        "id": "Im1yGgNA0RZX",
        "colab": {
          "base_uri": "https://localhost:8080/",
          "height": 49,
          "referenced_widgets": [
            "b0a762fe56ad495292e0a6d5f3658616",
            "e8ea55cd0a7a4b658e274d1b356a6cc4",
            "b66754f92681460387d160784868119c",
            "106f192531ba4659a7cdda3fb9047339",
            "46d304389a154259aabd48a4dc1833dc",
            "7c7d9f3f2f564127b6c946a647bcb56c",
            "bbe90c6f37d64596aa338974344c2dad",
            "7760d0f03e874dad98fc24ebb925abb8",
            "1499ff9ed7ab43a8ac7ea40858bbdab7",
            "79d190bb6d7b49d981ec6c23d3176a61",
            "b3127662000e4163a4f46c31500255f7"
          ]
        },
        "outputId": "2b3251f6-30eb-42a4-ea5a-1885845c2eab"
      },
      "execution_count": 10,
      "outputs": [
        {
          "output_type": "display_data",
          "data": {
            "text/plain": [
              "Downloading:   0%|          | 0.00/483 [00:00<?, ?B/s]"
            ],
            "application/vnd.jupyter.widget-view+json": {
              "version_major": 2,
              "version_minor": 0,
              "model_id": "b0a762fe56ad495292e0a6d5f3658616"
            }
          },
          "metadata": {}
        }
      ]
    },
    {
      "cell_type": "code",
      "execution_count": 16,
      "metadata": {
        "id": "OJdsCzCuqzHQ",
        "colab": {
          "base_uri": "https://localhost:8080/",
          "height": 121,
          "referenced_widgets": [
            "2da6c652a5a84a8c91da9ffbbfdc1a12",
            "da3efaad17a046fea60aba5de0023900",
            "67af67e6631e4817aa3b332d135b9dc8",
            "d029d6cc3d7c4e4db3138e63e68752ad",
            "434907ec5dcd490090a69d77e8deb34a",
            "3ec72d4712f944e4b014cdd46e832ac9",
            "96c793c3ee1d4e85a919e33d8c995779",
            "80ac9e3870e940d596fc76a6d08796c9",
            "0eef8604110a41dca1214331828dda33",
            "3c34f2e4476c4788960b40317b7e48d9",
            "78e4239201214c84b09fd3d5af18ce87"
          ]
        },
        "outputId": "def571a6-9420-4848-83e6-34d428a38480"
      },
      "outputs": [
        {
          "output_type": "display_data",
          "data": {
            "text/plain": [
              "Downloading:   0%|          | 0.00/420M [00:00<?, ?B/s]"
            ],
            "application/vnd.jupyter.widget-view+json": {
              "version_major": 2,
              "version_minor": 0,
              "model_id": "2da6c652a5a84a8c91da9ffbbfdc1a12"
            }
          },
          "metadata": {}
        },
        {
          "output_type": "stream",
          "name": "stderr",
          "text": [
            "Some weights of the model checkpoint at bert-base-uncased were not used when initializing BertModel: ['cls.predictions.decoder.weight', 'cls.predictions.transform.dense.bias', 'cls.seq_relationship.bias', 'cls.seq_relationship.weight', 'cls.predictions.transform.LayerNorm.bias', 'cls.predictions.transform.LayerNorm.weight', 'cls.predictions.bias', 'cls.predictions.transform.dense.weight']\n",
            "- This IS expected if you are initializing BertModel from the checkpoint of a model trained on another task or with another architecture (e.g. initializing a BertForSequenceClassification model from a BertForPreTraining model).\n",
            "- This IS NOT expected if you are initializing BertModel from the checkpoint of a model that you expect to be exactly identical (initializing a BertForSequenceClassification model from a BertForSequenceClassification model).\n"
          ]
        }
      ],
      "source": [
        "device = 'cuda'\n",
        "\n",
        "import numpy as np\n",
        "item_text_embeddings_size = 128\n",
        "user_embeddings_size = 100\n",
        "item_embeddings_size = 10#128\n",
        "text_col = 'lyrics_cleaned'#abstract'\n",
        "\n",
        "tokenizer = BertTokenizer.from_pretrained(BERT_MODEL_NAME) \n",
        "dataset_train= LFM2bDataset(data_interaction_train,tokenizer,item_text_embeddings_size, text_col,  item2pos, user2id)\n",
        "dataset_val= LFM2bDataset(data_interaction_val,tokenizer,item_text_embeddings_size, text_col,  item2pos, user2id)\n",
        "\n",
        "# dataset_train= LFM2bDatasetMulitpleText(data_interaction_train,tokenizer,item_text_embeddings_size,  item2pos, user2id)\n",
        "# dataset_val= LFM2bDatasetMulitpleText(data_interaction_val,tokenizer,item_text_embeddings_size,  item2pos, user2id)\n",
        "\n",
        "num_users = len(data_interaction['user_id'].drop_duplicates())\n",
        "num_items = len(pos2item)\n",
        "\n",
        "\n",
        "model = EasyBERTModel(item_embeddings_size, item_text_embeddings_size, user_embeddings_size, num_users, num_items, BERT_MODEL_NAME)\n",
        "\n"
      ]
    },
    {
      "cell_type": "code",
      "source": [
        "model_name = type(model).__name__\n",
        "data = \"_binary\"\n",
        "freeze = \"_freeze\"\n",
        "optim = \"_adamw\"\n",
        "text = text_col\n",
        "\n",
        "model_dir = f\"./results/movies/{text}{model_name}{data}{freeze}{optim}_{BERT_MODEL_NAME}/\"\n",
        "import os\n",
        "os.makedirs(model_dir, exist_ok=True)"
      ],
      "metadata": {
        "id": "WADY4G4HNmrP"
      },
      "execution_count": 22,
      "outputs": []
    },
    {
      "cell_type": "code",
      "execution_count": 14,
      "metadata": {
        "id": "FJz9Z9f38MQ4",
        "colab": {
          "base_uri": "https://localhost:8080/"
        },
        "outputId": "e874f3cd-71ff-4a08-832f-1d038e08cf5b"
      },
      "outputs": [
        {
          "output_type": "stream",
          "name": "stdout",
          "text": [
            "\n",
            "Saving best model for epoch: 0\n",
            "\n",
            "Epoch 0 | Average loss per epoch: Train: 0.7151291831627091 , Val: 0.6968177710680684, NDCG: 0.5057061479075686\n",
            "Epoch 1 | Average loss per epoch: Train: 0.6997153758557764 , Val: 0.6968869018536868, NDCG: 0.5048958447674886\n",
            "Epoch 2 | Average loss per epoch: Train: 0.6981249144344848 , Val: 0.6964120610501556, NDCG: 0.5049424992999738\n",
            "Epoch 3 | Average loss per epoch: Train: 0.6961352441494191 , Val: 0.6969779961935965, NDCG: 0.5053607839541526\n",
            "Epoch 4 | Average loss per epoch: Train: 0.6946696565648933 , Val: 0.6988962414731538, NDCG: 0.5048752679007339\n"
          ]
        }
      ],
      "source": [
        "from transformers import get_linear_schedule_with_warmup\n",
        "gc.collect()\n",
        "torch.cuda.empty_cache()\n",
        "\n",
        "model = model.to(device)\n",
        "\n",
        "# freeze bert model parameter\n",
        "if freeze == \"_freeze\":\n",
        "  for param in model.bert.parameters():\n",
        "    param.requires_grad = False   \n",
        "  # for param in model.bert1.parameters():\n",
        "  #   param.requires_grad = False   \n",
        "  # for param in model.bert2.parameters():\n",
        "  #   param.requires_grad = False   \n",
        "\n",
        "num_epochs=15\n",
        "batch_size=32\n",
        "\n",
        "dataloader_train=DataLoader(dataset=dataset_train,batch_size=batch_size, num_workers=4)\n",
        "dataloader_val=DataLoader(dataset=dataset_val,batch_size=batch_size, num_workers=4)\n",
        "\n",
        "criterion = nn.BCELoss()\n",
        "#criterion = nn.MSELoss()\n",
        "lr = 2e-5#1e-3\n",
        "num_total_steps = len(dataset_train) * num_epochs\n",
        "num_warmup_steps = 0\n",
        "warmup_proportion = float(num_warmup_steps) / float(num_total_steps)  \n",
        "#optimizer =  torch.optim.RMSprop(model.parameters(), lr= lr, alpha=0.9)\n",
        "optimizer = torch.optim.AdamW(model.parameters(), lr=lr)\n",
        "#optimizer = torch.optim.SGD(model.parameters(), lr=lr, momentum=0.9)\n",
        "\n",
        "\n",
        "scheduler = get_linear_schedule_with_warmup(\n",
        "  optimizer,\n",
        "  num_warmup_steps=num_warmup_steps,\n",
        "  num_training_steps=num_total_steps\n",
        ")\n",
        "\n",
        "\n",
        "loss_train = []\n",
        "loss_val = []\n",
        "ndcg_val = []\n",
        "\n",
        "best_ndcg = 0\n",
        "cnt = 0\n",
        "\n",
        "for e in range(num_epochs):\n",
        "\n",
        "  losses_train = []\n",
        "\n",
        "  model.train()\n",
        "\n",
        "  for data_train in dataloader_train:\n",
        "      gc.collect()\n",
        "      torch.cuda.empty_cache()\n",
        "      model.zero_grad()\n",
        "      #items positions\n",
        "      curr_items_ids_batch = data_train['track_id']\n",
        "      # items descriptions\n",
        "      curr_items_batch = data_train['input_ids_lyrics']\n",
        "      curr_attentions_batch = data_train['attention_mask_lyrics']\n",
        "\n",
        "      # additional items descriptions\n",
        "      # curr_items_batch1 = data_train['input_ids_tags']\n",
        "      # curr_attentions_batch1 = data_train['attention_mask_tags']\n",
        "      \n",
        "      # users ids\n",
        "      curr_users_batch =data_train['user_id']\n",
        "\n",
        "      # model inputs\n",
        "      inputs = [curr_items_ids_batch.type(torch.LongTensor).to(device), \n",
        "                curr_items_batch.type(torch.LongTensor).to(device), \n",
        "                curr_users_batch.type(torch.LongTensor).to(device), \n",
        "                curr_attentions_batch.type(torch.LongTensor).to(device),\n",
        "                # curr_items_batch1.type(torch.LongTensor).to(device),  \n",
        "                #curr_attentions_batch1.type(torch.LongTensor).to(device)\n",
        "                ]\n",
        "\n",
        "      # model targets\n",
        "      targets = data_train['target'].reshape(-1,1)\n",
        "\n",
        "      # backward propagation\n",
        "      outputs = model(inputs)\n",
        "\n",
        "      loss = criterion(outputs, targets.to(device))\n",
        "      optimizer.zero_grad()\n",
        "      loss.backward()\n",
        "      nn.utils.clip_grad_norm_(model.parameters(), max_norm=1.0)\n",
        "      optimizer.step()\n",
        "      scheduler.step()\n",
        "      \n",
        "      # evaluate current loss function value\n",
        "      losses_train.append(loss.item())\n",
        "\n",
        "  # compute loss on validation set\n",
        "  model.eval()\n",
        "\n",
        "  losses_val = []\n",
        "\n",
        "  res = pd.DataFrame(columns = ['user_id', 'track_id', 'count'])\n",
        "  for data_val in dataloader_val:\n",
        "    gc.collect()\n",
        "    torch.cuda.empty_cache()\n",
        "    #items positions\n",
        "    curr_items_ids_batch = data_val['track_id']\n",
        "    # items descriptions\n",
        "    curr_items_batch = data_val['input_ids_lyrics']\n",
        "    curr_attentions_batch = data_val['attention_mask_lyrics']\n",
        "\n",
        "    # additional items descriptions\n",
        "    # curr_items_batch1 = data_val['input_ids_tags']\n",
        "    # curr_attentions_batch1 = data_val['attention_mask_tags']\n",
        "    \n",
        "    # users ids\n",
        "    curr_users_batch =data_val['user_id']\n",
        "\n",
        "    # model inputs\n",
        "    inputs = [curr_items_ids_batch.type(torch.LongTensor).to(device), \n",
        "              curr_items_batch.type(torch.LongTensor).to(device), \n",
        "              curr_users_batch.type(torch.LongTensor).to(device), \n",
        "              curr_attentions_batch.type(torch.LongTensor).to(device),\n",
        "              # curr_items_batch1.type(torch.LongTensor).to(device), \n",
        "              # curr_attentions_batch1.type(torch.LongTensor).to(device)\n",
        "              ]\n",
        "\n",
        "    # model targets\n",
        "    targets = data_val['target'].reshape(-1,1)\n",
        "\n",
        "    with torch.no_grad():        \n",
        "      outputs_val = model(inputs)\n",
        "\n",
        "    loss = criterion(outputs_val, targets.to(device))\n",
        "    losses_val.append(loss.item())\n",
        "\n",
        "    for i in range(outputs_val.shape[0]):\n",
        "      res = res.append(pd.DataFrame({'user_id': id2user[curr_users_batch[i].item()], 'track_id': pos2item[curr_items_ids_batch[i].item()], 'count':  outputs_val[i].item()} , index=[0]))\n",
        "\n",
        "  # compute ndcg for each user\n",
        "  ndcg = []\n",
        "  for user, df in res.groupby('user_id'):\n",
        "    df = df.drop_duplicates(subset='track_id').sort_values('count', ascending=False)\n",
        "    y_true_sorted = data_interaction_val.loc[data_interaction_val['user_id'] == user].sort_values('count', ascending=False).drop_duplicates()\n",
        "    rel_pred = pd.merge(df[['track_id']], y_true_sorted[['track_id', 'count']].drop_duplicates(), 'left').fillna(0)['count'].values\n",
        "    rel_pred[rel_pred > 0] = 1\n",
        "    ndcg.append(get_ndcg(df, rel_pred, 10))\n",
        "\n",
        "  ndcg_e = np.mean(ndcg)\n",
        "\n",
        "  # save best model based on ndcg\n",
        "  if ndcg_e > best_ndcg:\n",
        "    best_ndcg = ndcg_e\n",
        "    print(f\"\\nSaving best model for epoch: {e}\\n\")\n",
        "    torch.save(model.state_dict(), model_dir + 'best_model.pth')\n",
        "    cnt = 0\n",
        "  else:\n",
        "    cnt = cnt+1\n",
        "  if cnt > 4:\n",
        "    break\n",
        "\n",
        "  average_los_val = np.mean(losses_val)\n",
        "  loss_val.append(average_los_val.item())    \n",
        "  ndcg_val.append(ndcg_e)\n",
        "\n",
        "  # evaluate average cost per epoch\n",
        "  average_loss_train = np.mean(losses_train)\n",
        "  loss_train.append(average_loss_train.item())\n",
        "  print(f\"Epoch {e} | Average loss per epoch: Train: {average_loss_train.item()} , Val: {average_los_val.item()}, NDCG: {ndcg_e}\")\n"
      ]
    },
    {
      "cell_type": "code",
      "execution_count": 15,
      "metadata": {
        "id": "CfR4uzskpgFt",
        "outputId": "6b57e62e-d929-41bd-f7de-738f852624a1",
        "colab": {
          "base_uri": "https://localhost:8080/",
          "height": 281
        }
      },
      "outputs": [
        {
          "output_type": "display_data",
          "data": {
            "text/plain": [
              "<Figure size 432x288 with 1 Axes>"
            ],
            "image/png": "[encoded data removed]"
          },
          "metadata": {
            "needs_background": "light"
          }
        }
      ],
      "source": [
        "plt.plot(ndcg_val)\n",
        "plt.title(\"Validation NDCG@10\")\n",
        "\n",
        "#from google.colab import files\n",
        "plt.savefig(model_dir + \"ndcg.png\")\n",
        "#files.download(model_dir + \"ndcg.png\") "
      ]
    },
    {
      "cell_type": "code",
      "source": [
        "plt.plot(loss_train, label='train')\n",
        "plt.plot(loss_val, label='val')\n",
        "plt.legend()\n",
        "plt.title(\"Training and Validation Loss\")\n",
        "\n",
        "#from google.colab import files\n",
        "plt.savefig(model_dir + \"loss.png\")\n",
        "#files.download(model_dir + \"loss.png\") "
      ],
      "metadata": {
        "id": "ol3t_0CLJ0jj",
        "outputId": "6aab64ce-b70f-46e0-e762-f4dcd50dbe14",
        "colab": {
          "base_uri": "https://localhost:8080/",
          "height": 281
        }
      },
      "execution_count": 16,
      "outputs": [
        {
          "output_type": "display_data",
          "data": {
            "text/plain": [
              "<Figure size 432x288 with 1 Axes>"
            ],
            "image/png": "[encoded data removed]"
          },
          "metadata": {
            "needs_background": "light"
          }
        }
      ]
    },
    {
      "cell_type": "markdown",
      "metadata": {
        "id": "SH1Njid6OwL8"
      },
      "source": [
        "## **BERT**: Get predictions"
      ]
    },
    {
      "cell_type": "code",
      "execution_count": 17,
      "metadata": {
        "id": "LCUid5ff91xI"
      },
      "outputs": [],
      "source": [
        "batch_size= 32\n",
        "res = pd.DataFrame(columns = ['user_id', 'track_id', 'count'])\n",
        "dataset_test= LFM2bDataset(data_interaction_test,tokenizer,item_text_embeddings_size, text_col,  item2pos, user2id)\n",
        "# dataset_test= LFM2bDatasetMulitpleText(data_interaction_test,tokenizer,item_text_embeddings_size,  item2pos, user2id)\n",
        "dataloader_test=DataLoader(dataset=dataset_test,batch_size=batch_size, num_workers=4)\n",
        "\n",
        "# model.load_state_dict(torch.load(model_dir + 'best_model.pth'))\n",
        "# model.to(device)\n",
        "model.eval()\n",
        "\n",
        "\n",
        "for data in dataloader_test:\n",
        "      gc.collect()\n",
        "      torch.cuda.empty_cache()\n",
        "      #items positions\n",
        "      curr_items_ids_batch = data['track_id']\n",
        "      # items descriptions\n",
        "      curr_items_batch = data['input_ids_lyrics']\n",
        "      curr_attentions_batch = data['attention_mask_lyrics']\n",
        "\n",
        "      # additional items descriptions\n",
        "      # curr_items_batch1 = data['input_ids_tags']\n",
        "      # curr_attentions_batch1 = data['attention_mask_tags']\n",
        "      \n",
        "      # users ids\n",
        "      curr_users_batch =data['user_id']\n",
        "\n",
        "      # model inputs\n",
        "      inputs = [curr_items_ids_batch.type(torch.LongTensor).to(device), \n",
        "                curr_items_batch.type(torch.LongTensor).to(device), \n",
        "                curr_users_batch.type(torch.LongTensor).to(device), \n",
        "                curr_attentions_batch.type(torch.LongTensor).to(device),\n",
        "                # curr_items_batch1.type(torch.LongTensor).to(device), \n",
        "                # curr_attentions_batch1.type(torch.LongTensor).to(device),\n",
        "                ]\n",
        "\n",
        "\n",
        "      with torch.no_grad():\n",
        "        outputs = model(inputs)\n",
        "\n",
        "      # save prediction for each user\n",
        "      for i in range(outputs.shape[0]):\n",
        "\n",
        "        res = res.append(pd.DataFrame({'user_id': id2user[curr_users_batch[i].item()], 'track_id': pos2item[curr_items_ids_batch[i].item()], 'count':  outputs[i].item()} , index=[0]))\n",
        "        "
      ]
    },
    {
      "cell_type": "code",
      "execution_count": 18,
      "metadata": {
        "id": "rFCptP7OEtI5"
      },
      "outputs": [],
      "source": [
        "topn=100\n",
        "results = []\n",
        "results_df = pd.DataFrame(columns = ['user_id', 'track_id', 'count'])\n",
        "\n",
        "for user, user_prediction in res.groupby('user_id'):\n",
        "    results_df = results_df.append(user_prediction.sort_values('count', ascending=False).head(topn))\n",
        "    "
      ]
    },
    {
      "cell_type": "code",
      "source": [
        "results_df.to_csv(model_dir + 'predictions.csv', encoding = 'utf-8-sig') "
      ],
      "metadata": {
        "id": "D-dWSMgqNu_2"
      },
      "execution_count": 19,
      "outputs": []
    },
    {
      "cell_type": "markdown",
      "metadata": {
        "id": "0c67LS6n1Y-A"
      },
      "source": [
        "# Most popular recommendation\n"
      ]
    },
    {
      "cell_type": "code",
      "source": [
        "data_interaction_test[data_interaction_test.user_id == 24988]['count'].sum()"
      ],
      "metadata": {
        "id": "3OQzUyIBwlrO",
        "outputId": "973e27c7-6d36-4c1f-8a13-31f95a3cd329",
        "colab": {
          "base_uri": "https://localhost:8080/"
        }
      },
      "execution_count": null,
      "outputs": [
        {
          "output_type": "execute_result",
          "data": {
            "text/plain": [
              "7"
            ]
          },
          "metadata": {},
          "execution_count": 12
        }
      ]
    },
    {
      "cell_type": "code",
      "execution_count": null,
      "metadata": {
        "id": "JyWJBqGz1blh"
      },
      "outputs": [],
      "source": [
        "topn = 100\n",
        "\n",
        "item_popularity_df = data_interaction_test.groupby('track_id')['count'].sum().sort_values(ascending=False).reset_index()\n",
        "\n",
        "predictions = {}\n",
        "\n",
        "for real_user_id in data_interaction_test.user_id.unique():\n",
        "    predictions[real_user_id] = []\n",
        "    items_to_ignore = data_interaction_train[data_interaction_train['user_id'] == real_user_id]['track_id'].values\n",
        "    item_popularity_df_user = item_popularity_df[~item_popularity_df['track_id'].isin(items_to_ignore)]\n",
        "    predictions[real_user_id].append(item_popularity_df_user.head(topn)['track_id'].values.tolist())"
      ]
    },
    {
      "cell_type": "code",
      "execution_count": null,
      "metadata": {
        "id": "qQ51-oYe1djY"
      },
      "outputs": [],
      "source": [
        "results = []\n",
        "results_df = pd.DataFrame(columns = ['user_id', 'track_id', 'count'])\n",
        "\n",
        "for user in predictions:\n",
        "    user_prediction = predictions[user][0]\n",
        "    for item in user_prediction:\n",
        "        rating = 1.\n",
        "        results_df = pd.concat((results_df, pd.DataFrame(data={'user_id':[user],'track_id':[item],'count':[rating]})))\n",
        "        results.append([user, item, rating])"
      ]
    },
    {
      "cell_type": "code",
      "source": [
        "results_df"
      ],
      "metadata": {
        "colab": {
          "base_uri": "https://localhost:8080/",
          "height": 424
        },
        "id": "vSr0xfbLRZJR",
        "outputId": "39add64f-f139-4de7-f56c-986054d7ec03"
      },
      "execution_count": null,
      "outputs": [
        {
          "output_type": "execute_result",
          "data": {
            "text/plain": [
              "   user_id track_id  count\n",
              "0    27960     1968    1.0\n",
              "0    27960  5837012    1.0\n",
              "0    27960  5833218    1.0\n",
              "0    27960  5834213    1.0\n",
              "0    27960  5834217    1.0\n",
              "..     ...      ...    ...\n",
              "0    38810  5616212    1.0\n",
              "0    38810  5628442    1.0\n",
              "0    38810  5819912    1.0\n",
              "0    38810  5628783    1.0\n",
              "0    38810  5629780    1.0\n",
              "\n",
              "[37000 rows x 3 columns]"
            ],
            "text/html": [
              "\n",
              "  <div id=\"df-0836c3f9-aef4-424a-b02e-78ae24b7fed7\">\n",
              "    <div class=\"colab-df-container\">\n",
              "      <div>\n",
              "<style scoped>\n",
              "    .dataframe tbody tr th:only-of-type {\n",
              "        vertical-align: middle;\n",
              "    }\n",
              "\n",
              "    .dataframe tbody tr th {\n",
              "        vertical-align: top;\n",
              "    }\n",
              "\n",
              "    .dataframe thead th {\n",
              "        text-align: right;\n",
              "    }\n",
              "</style>\n",
              "<table border=\"1\" class=\"dataframe\">\n",
              "  <thead>\n",
              "    <tr style=\"text-align: right;\">\n",
              "      <th></th>\n",
              "      <th>user_id</th>\n",
              "      <th>track_id</th>\n",
              "      <th>count</th>\n",
              "    </tr>\n",
              "  </thead>\n",
              "  <tbody>\n",
              "    <tr>\n",
              "      <th>0</th>\n",
              "      <td>27960</td>\n",
              "      <td>1968</td>\n",
              "      <td>1.0</td>\n",
              "    </tr>\n",
              "    <tr>\n",
              "      <th>0</th>\n",
              "      <td>27960</td>\n",
              "      <td>5837012</td>\n",
              "      <td>1.0</td>\n",
              "    </tr>\n",
              "    <tr>\n",
              "      <th>0</th>\n",
              "      <td>27960</td>\n",
              "      <td>5833218</td>\n",
              "      <td>1.0</td>\n",
              "    </tr>\n",
              "    <tr>\n",
              "      <th>0</th>\n",
              "      <td>27960</td>\n",
              "      <td>5834213</td>\n",
              "      <td>1.0</td>\n",
              "    </tr>\n",
              "    <tr>\n",
              "      <th>0</th>\n",
              "      <td>27960</td>\n",
              "      <td>5834217</td>\n",
              "      <td>1.0</td>\n",
              "    </tr>\n",
              "    <tr>\n",
              "      <th>...</th>\n",
              "      <td>...</td>\n",
              "      <td>...</td>\n",
              "      <td>...</td>\n",
              "    </tr>\n",
              "    <tr>\n",
              "      <th>0</th>\n",
              "      <td>38810</td>\n",
              "      <td>5616212</td>\n",
              "      <td>1.0</td>\n",
              "    </tr>\n",
              "    <tr>\n",
              "      <th>0</th>\n",
              "      <td>38810</td>\n",
              "      <td>5628442</td>\n",
              "      <td>1.0</td>\n",
              "    </tr>\n",
              "    <tr>\n",
              "      <th>0</th>\n",
              "      <td>38810</td>\n",
              "      <td>5819912</td>\n",
              "      <td>1.0</td>\n",
              "    </tr>\n",
              "    <tr>\n",
              "      <th>0</th>\n",
              "      <td>38810</td>\n",
              "      <td>5628783</td>\n",
              "      <td>1.0</td>\n",
              "    </tr>\n",
              "    <tr>\n",
              "      <th>0</th>\n",
              "      <td>38810</td>\n",
              "      <td>5629780</td>\n",
              "      <td>1.0</td>\n",
              "    </tr>\n",
              "  </tbody>\n",
              "</table>\n",
              "<p>37000 rows × 3 columns</p>\n",
              "</div>\n",
              "      <button class=\"colab-df-convert\" onclick=\"convertToInteractive('df-0836c3f9-aef4-424a-b02e-78ae24b7fed7')\"\n",
              "              title=\"Convert this dataframe to an interactive table.\"\n",
              "              style=\"display:none;\">\n",
              "        \n",
              "  <svg xmlns=\"http://www.w3.org/2000/svg\" height=\"24px\"viewBox=\"0 0 24 24\"\n",
              "       width=\"24px\">\n",
              "    <path d=\"M0 0h24v24H0V0z\" fill=\"none\"/>\n",
              "    <path d=\"M18.56 5.44l.94 2.06.94-2.06 2.06-.94-2.06-.94-.94-2.06-.94 2.06-2.06.94zm-11 1L8.5 8.5l.94-2.06 2.06-.94-2.06-.94L8.5 2.5l-.94 2.06-2.06.94zm10 10l.94 2.06.94-2.06 2.06-.94-2.06-.94-.94-2.06-.94 2.06-2.06.94z\"/><path d=\"M17.41 7.96l-1.37-1.37c-.4-.4-.92-.59-1.43-.59-.52 0-1.04.2-1.43.59L10.3 9.45l-7.72 7.72c-.78.78-.78 2.05 0 2.83L4 21.41c.39.39.9.59 1.41.59.51 0 1.02-.2 1.41-.59l7.78-7.78 2.81-2.81c.8-.78.8-2.07 0-2.86zM5.41 20L4 18.59l7.72-7.72 1.47 1.35L5.41 20z\"/>\n",
              "  </svg>\n",
              "      </button>\n",
              "      \n",
              "  <style>\n",
              "    .colab-df-container {\n",
              "      display:flex;\n",
              "      flex-wrap:wrap;\n",
              "      gap: 12px;\n",
              "    }\n",
              "\n",
              "    .colab-df-convert {\n",
              "      background-color: #E8F0FE;\n",
              "      border: none;\n",
              "      border-radius: 50%;\n",
              "      cursor: pointer;\n",
              "      display: none;\n",
              "      fill: #1967D2;\n",
              "      height: 32px;\n",
              "      padding: 0 0 0 0;\n",
              "      width: 32px;\n",
              "    }\n",
              "\n",
              "    .colab-df-convert:hover {\n",
              "      background-color: #E2EBFA;\n",
              "      box-shadow: 0px 1px 2px rgba(60, 64, 67, 0.3), 0px 1px 3px 1px rgba(60, 64, 67, 0.15);\n",
              "      fill: #174EA6;\n",
              "    }\n",
              "\n",
              "    [theme=dark] .colab-df-convert {\n",
              "      background-color: #3B4455;\n",
              "      fill: #D2E3FC;\n",
              "    }\n",
              "\n",
              "    [theme=dark] .colab-df-convert:hover {\n",
              "      background-color: #434B5C;\n",
              "      box-shadow: 0px 1px 3px 1px rgba(0, 0, 0, 0.15);\n",
              "      filter: drop-shadow(0px 1px 2px rgba(0, 0, 0, 0.3));\n",
              "      fill: #FFFFFF;\n",
              "    }\n",
              "  </style>\n",
              "\n",
              "      <script>\n",
              "        const buttonEl =\n",
              "          document.querySelector('#df-0836c3f9-aef4-424a-b02e-78ae24b7fed7 button.colab-df-convert');\n",
              "        buttonEl.style.display =\n",
              "          google.colab.kernel.accessAllowed ? 'block' : 'none';\n",
              "\n",
              "        async function convertToInteractive(key) {\n",
              "          const element = document.querySelector('#df-0836c3f9-aef4-424a-b02e-78ae24b7fed7');\n",
              "          const dataTable =\n",
              "            await google.colab.kernel.invokeFunction('convertToInteractive',\n",
              "                                                     [key], {});\n",
              "          if (!dataTable) return;\n",
              "\n",
              "          const docLinkHtml = 'Like what you see? Visit the ' +\n",
              "            '<a target=\"_blank\" href=https://colab.research.google.com/notebooks/data_table.ipynb>data table notebook</a>'\n",
              "            + ' to learn more about interactive tables.';\n",
              "          element.innerHTML = '';\n",
              "          dataTable['output_type'] = 'display_data';\n",
              "          await google.colab.output.renderOutput(dataTable, element);\n",
              "          const docLink = document.createElement('div');\n",
              "          docLink.innerHTML = docLinkHtml;\n",
              "          element.appendChild(docLink);\n",
              "        }\n",
              "      </script>\n",
              "    </div>\n",
              "  </div>\n",
              "  "
            ]
          },
          "metadata": {},
          "execution_count": 12
        }
      ]
    },
    {
      "cell_type": "markdown",
      "metadata": {
        "id": "K-A_VQKP1hFS"
      },
      "source": [
        "# Random recommendation"
      ]
    },
    {
      "cell_type": "code",
      "execution_count": null,
      "metadata": {
        "id": "68Z2iimV1pAk"
      },
      "outputs": [],
      "source": [
        "topn = 100\n",
        "import random\n",
        "\n",
        "predictions = {}\n",
        "\n",
        "for real_user_id in data_interaction_test.user_id.unique():\n",
        "    predictions[real_user_id] = []\n",
        "    items_to_ignore = data_interaction_train[data_interaction_train['user_id'] == real_user_id]['track_id'].values\n",
        "    item_df_user = data_interaction_test[~data_interaction_test['track_id'].isin(items_to_ignore)]\n",
        "    predictions[real_user_id].append(random.sample(set(item_df_user['track_id'].values), topn))"
      ]
    },
    {
      "cell_type": "code",
      "execution_count": null,
      "metadata": {
        "id": "T6xHh03Y1qFu"
      },
      "outputs": [],
      "source": [
        "results = []\n",
        "results_df = pd.DataFrame(columns = ['user_id', 'track_id', 'count'])\n",
        "\n",
        "for user in predictions:\n",
        "    user_prediction = predictions[user][0]\n",
        "    for item in user_prediction:\n",
        "        rating = 1.\n",
        "        results_df = pd.concat((results_df, pd.DataFrame(data={'user_id':[user],'track_id':[item],'count':[rating]})))\n",
        "        results.append([user, item, rating])"
      ]
    },
    {
      "cell_type": "markdown",
      "metadata": {
        "id": "RxzLZWaLAhUZ"
      },
      "source": [
        "# Evaluate predictions\n",
        "\n",
        "Scores: F1@10, ndcg@k, recall@k"
      ]
    },
    {
      "cell_type": "code",
      "source": [
        "topn=100"
      ],
      "metadata": {
        "id": "XS-AQqs-iXDP"
      },
      "execution_count": 20,
      "outputs": []
    },
    {
      "cell_type": "code",
      "execution_count": null,
      "metadata": {
        "id": "z-T1kV_Wk5as"
      },
      "outputs": [],
      "source": [
        "#results_df = pd.read_csv(model_dir + \"predictions.csv\").drop([\"Unnamed: 0\"], axis=1)"
      ]
    },
    {
      "cell_type": "code",
      "execution_count": 21,
      "metadata": {
        "id": "8DTstEsi72xS",
        "colab": {
          "base_uri": "https://localhost:8080/"
        },
        "outputId": "93aab597-5630-4bf7-f536-114e41af42e6"
      },
      "outputs": [
        {
          "output_type": "stream",
          "name": "stdout",
          "text": [
            "F1 Score:  0.004462969751351759\n",
            "Recall Score:  0.0300326202513548\n",
            "NDCG Score:  0.0023169139877047586\n"
          ]
        }
      ],
      "source": [
        "f1_scores = []\n",
        "recall_scores = []\n",
        "ndcg_scores = []\n",
        "\n",
        "for user, df in results_df.groupby('user_id'):\n",
        "  df = df.drop_duplicates(subset='track_id')\n",
        "\n",
        "  y_true_sorted = data_interaction_test.loc[data_interaction_test['user_id'] == user].sort_values('count', ascending=False).drop_duplicates()\n",
        "  rel = pd.merge(df[['track_id']], y_true_sorted[['track_id', 'count']].drop_duplicates(), 'left').fillna(0)['count'].values\n",
        "  y_true_df = pd.merge(data_tracks_tags_lyrics[['track_id']].drop_duplicates(), y_true_sorted[['track_id', 'count']].drop_duplicates(), 'left').fillna(0)\n",
        "  y_true_ndcg = y_true_df['count'].values\n",
        "  y_true_ndcg[y_true_ndcg > 0] = 1\n",
        "  y_true_df.loc[y_true_df['count'] > 0, 'count'] = 1\n",
        "  y_true = y_true_df['count'].values\n",
        "\n",
        "  y_pred_df = pd.merge(data_tracks_tags_lyrics[['track_id']].drop_duplicates(), df[['track_id', 'count']], 'left').fillna(0)\n",
        "  y_pred_ndcg = y_pred_df['count'].values\n",
        "  y_pred_ndcg[y_pred_ndcg > 0] = 1\n",
        "  y_pred_df.loc[y_pred_df['count'] > 0, 'count'] = 1\n",
        "  y_pred = y_pred_df['count'].values\n",
        "\n",
        "  if y_true.sum() >= 1:\n",
        "    f1_scores.append(f1_score(y_true, y_pred))\n",
        "    recall_scores.append(recall_score(y_true, y_pred))\n",
        "    ndcg_scores.append(get_ndcg(df, rel, topn))\n",
        "\n",
        "print(\"F1 Score: \", np.mean(f1_scores))\n",
        "print(\"Recall Score: \", np.mean(recall_scores))\n",
        "print(\"NDCG Score: \", np.mean(ndcg_scores))"
      ]
    },
    {
      "cell_type": "code",
      "source": [
        "pd.DataFrame({\"f1_score\": [np.mean(f1_scores)], 'recall': [np.mean(recall_scores)], 'ndcg': [np.mean(ndcg_scores)]}).to_csv(model_dir + 'evaluation_result.csv', encoding = 'utf-8-sig') "
      ],
      "metadata": {
        "id": "FVnaLOPiPmsC"
      },
      "execution_count": 22,
      "outputs": []
    }
  ],
  "metadata": {
    "accelerator": "GPU",
    "colab": {
      "collapsed_sections": [
        "0c67LS6n1Y-A",
        "K-A_VQKP1hFS",
        "jc6rPo1eHeca",
        "hgDbgyUFYVPF",
        "UEiaFN1bYdFE",
        "_W5yg61kZJOV",
        "xjjmSaKW-99W",
        "NtIQzQEH2vhy"
      ],
      "machine_shape": "hm",
      "name": "003_modelling.ipynb",
      "provenance": [],
      "mount_file_id": "1oLwqD4kIwkhfA4JSXv2yb_2VYFXGEB35",
      "authorship_tag": "ABX9TyPffbSQkrKyfluq9ylzqUqH",
      "include_colab_link": true
    },
    "kernelspec": {
      "display_name": "Python 3",
      "name": "python3"
    },
    "language_info": {
      "name": "python"
    },
    "widgets": {
      "application/vnd.jupyter.widget-state+json": {
        "b0a762fe56ad495292e0a6d5f3658616": {
          "model_module": "@jupyter-widgets/controls",
          "model_name": "HBoxModel",
          "model_module_version": "1.5.0",
          "state": {
            "_dom_classes": [],
            "_model_module": "@jupyter-widgets/controls",
            "_model_module_version": "1.5.0",
            "_model_name": "HBoxModel",
            "_view_count": null,
            "_view_module": "@jupyter-widgets/controls",
            "_view_module_version": "1.5.0",
            "_view_name": "HBoxView",
            "box_style": "",
            "children": [
              "IPY_MODEL_e8ea55cd0a7a4b658e274d1b356a6cc4",
              "IPY_MODEL_b66754f92681460387d160784868119c",
              "IPY_MODEL_106f192531ba4659a7cdda3fb9047339"
            ],
            "layout": "IPY_MODEL_46d304389a154259aabd48a4dc1833dc"
          }
        },
        "e8ea55cd0a7a4b658e274d1b356a6cc4": {
          "model_module": "@jupyter-widgets/controls",
          "model_name": "HTMLModel",
          "model_module_version": "1.5.0",
          "state": {
            "_dom_classes": [],
            "_model_module": "@jupyter-widgets/controls",
            "_model_module_version": "1.5.0",
            "_model_name": "HTMLModel",
            "_view_count": null,
            "_view_module": "@jupyter-widgets/controls",
            "_view_module_version": "1.5.0",
            "_view_name": "HTMLView",
            "description": "",
            "description_tooltip": null,
            "layout": "IPY_MODEL_7c7d9f3f2f564127b6c946a647bcb56c",
            "placeholder": "​",
            "style": "IPY_MODEL_bbe90c6f37d64596aa338974344c2dad",
            "value": "Downloading: 100%"
          }
        },
        "b66754f92681460387d160784868119c": {
          "model_module": "@jupyter-widgets/controls",
          "model_name": "FloatProgressModel",
          "model_module_version": "1.5.0",
          "state": {
            "_dom_classes": [],
            "_model_module": "@jupyter-widgets/controls",
            "_model_module_version": "1.5.0",
            "_model_name": "FloatProgressModel",
            "_view_count": null,
            "_view_module": "@jupyter-widgets/controls",
            "_view_module_version": "1.5.0",
            "_view_name": "ProgressView",
            "bar_style": "success",
            "description": "",
            "description_tooltip": null,
            "layout": "IPY_MODEL_7760d0f03e874dad98fc24ebb925abb8",
            "max": 483,
            "min": 0,
            "orientation": "horizontal",
            "style": "IPY_MODEL_1499ff9ed7ab43a8ac7ea40858bbdab7",
            "value": 483
          }
        },
        "106f192531ba4659a7cdda3fb9047339": {
          "model_module": "@jupyter-widgets/controls",
          "model_name": "HTMLModel",
          "model_module_version": "1.5.0",
          "state": {
            "_dom_classes": [],
            "_model_module": "@jupyter-widgets/controls",
            "_model_module_version": "1.5.0",
            "_model_name": "HTMLModel",
            "_view_count": null,
            "_view_module": "@jupyter-widgets/controls",
            "_view_module_version": "1.5.0",
            "_view_name": "HTMLView",
            "description": "",
            "description_tooltip": null,
            "layout": "IPY_MODEL_79d190bb6d7b49d981ec6c23d3176a61",
            "placeholder": "​",
            "style": "IPY_MODEL_b3127662000e4163a4f46c31500255f7",
            "value": " 483/483 [00:00&lt;00:00, 11.8kB/s]"
          }
        },
        "46d304389a154259aabd48a4dc1833dc": {
          "model_module": "@jupyter-widgets/base",
          "model_name": "LayoutModel",
          "model_module_version": "1.2.0",
          "state": {
            "_model_module": "@jupyter-widgets/base",
            "_model_module_version": "1.2.0",
            "_model_name": "LayoutModel",
            "_view_count": null,
            "_view_module": "@jupyter-widgets/base",
            "_view_module_version": "1.2.0",
            "_view_name": "LayoutView",
            "align_content": null,
            "align_items": null,
            "align_self": null,
            "border": null,
            "bottom": null,
            "display": null,
            "flex": null,
            "flex_flow": null,
            "grid_area": null,
            "grid_auto_columns": null,
            "grid_auto_flow": null,
            "grid_auto_rows": null,
            "grid_column": null,
            "grid_gap": null,
            "grid_row": null,
            "grid_template_areas": null,
            "grid_template_columns": null,
            "grid_template_rows": null,
            "height": null,
            "justify_content": null,
            "justify_items": null,
            "left": null,
            "margin": null,
            "max_height": null,
            "max_width": null,
            "min_height": null,
            "min_width": null,
            "object_fit": null,
            "object_position": null,
            "order": null,
            "overflow": null,
            "overflow_x": null,
            "overflow_y": null,
            "padding": null,
            "right": null,
            "top": null,
            "visibility": null,
            "width": null
          }
        },
        "7c7d9f3f2f564127b6c946a647bcb56c": {
          "model_module": "@jupyter-widgets/base",
          "model_name": "LayoutModel",
          "model_module_version": "1.2.0",
          "state": {
            "_model_module": "@jupyter-widgets/base",
            "_model_module_version": "1.2.0",
            "_model_name": "LayoutModel",
            "_view_count": null,
            "_view_module": "@jupyter-widgets/base",
            "_view_module_version": "1.2.0",
            "_view_name": "LayoutView",
            "align_content": null,
            "align_items": null,
            "align_self": null,
            "border": null,
            "bottom": null,
            "display": null,
            "flex": null,
            "flex_flow": null,
            "grid_area": null,
            "grid_auto_columns": null,
            "grid_auto_flow": null,
            "grid_auto_rows": null,
            "grid_column": null,
            "grid_gap": null,
            "grid_row": null,
            "grid_template_areas": null,
            "grid_template_columns": null,
            "grid_template_rows": null,
            "height": null,
            "justify_content": null,
            "justify_items": null,
            "left": null,
            "margin": null,
            "max_height": null,
            "max_width": null,
            "min_height": null,
            "min_width": null,
            "object_fit": null,
            "object_position": null,
            "order": null,
            "overflow": null,
            "overflow_x": null,
            "overflow_y": null,
            "padding": null,
            "right": null,
            "top": null,
            "visibility": null,
            "width": null
          }
        },
        "bbe90c6f37d64596aa338974344c2dad": {
          "model_module": "@jupyter-widgets/controls",
          "model_name": "DescriptionStyleModel",
          "model_module_version": "1.5.0",
          "state": {
            "_model_module": "@jupyter-widgets/controls",
            "_model_module_version": "1.5.0",
            "_model_name": "DescriptionStyleModel",
            "_view_count": null,
            "_view_module": "@jupyter-widgets/base",
            "_view_module_version": "1.2.0",
            "_view_name": "StyleView",
            "description_width": ""
          }
        },
        "7760d0f03e874dad98fc24ebb925abb8": {
          "model_module": "@jupyter-widgets/base",
          "model_name": "LayoutModel",
          "model_module_version": "1.2.0",
          "state": {
            "_model_module": "@jupyter-widgets/base",
            "_model_module_version": "1.2.0",
            "_model_name": "LayoutModel",
            "_view_count": null,
            "_view_module": "@jupyter-widgets/base",
            "_view_module_version": "1.2.0",
            "_view_name": "LayoutView",
            "align_content": null,
            "align_items": null,
            "align_self": null,
            "border": null,
            "bottom": null,
            "display": null,
            "flex": null,
            "flex_flow": null,
            "grid_area": null,
            "grid_auto_columns": null,
            "grid_auto_flow": null,
            "grid_auto_rows": null,
            "grid_column": null,
            "grid_gap": null,
            "grid_row": null,
            "grid_template_areas": null,
            "grid_template_columns": null,
            "grid_template_rows": null,
            "height": null,
            "justify_content": null,
            "justify_items": null,
            "left": null,
            "margin": null,
            "max_height": null,
            "max_width": null,
            "min_height": null,
            "min_width": null,
            "object_fit": null,
            "object_position": null,
            "order": null,
            "overflow": null,
            "overflow_x": null,
            "overflow_y": null,
            "padding": null,
            "right": null,
            "top": null,
            "visibility": null,
            "width": null
          }
        },
        "1499ff9ed7ab43a8ac7ea40858bbdab7": {
          "model_module": "@jupyter-widgets/controls",
          "model_name": "ProgressStyleModel",
          "model_module_version": "1.5.0",
          "state": {
            "_model_module": "@jupyter-widgets/controls",
            "_model_module_version": "1.5.0",
            "_model_name": "ProgressStyleModel",
            "_view_count": null,
            "_view_module": "@jupyter-widgets/base",
            "_view_module_version": "1.2.0",
            "_view_name": "StyleView",
            "bar_color": null,
            "description_width": ""
          }
        },
        "79d190bb6d7b49d981ec6c23d3176a61": {
          "model_module": "@jupyter-widgets/base",
          "model_name": "LayoutModel",
          "model_module_version": "1.2.0",
          "state": {
            "_model_module": "@jupyter-widgets/base",
            "_model_module_version": "1.2.0",
            "_model_name": "LayoutModel",
            "_view_count": null,
            "_view_module": "@jupyter-widgets/base",
            "_view_module_version": "1.2.0",
            "_view_name": "LayoutView",
            "align_content": null,
            "align_items": null,
            "align_self": null,
            "border": null,
            "bottom": null,
            "display": null,
            "flex": null,
            "flex_flow": null,
            "grid_area": null,
            "grid_auto_columns": null,
            "grid_auto_flow": null,
            "grid_auto_rows": null,
            "grid_column": null,
            "grid_gap": null,
            "grid_row": null,
            "grid_template_areas": null,
            "grid_template_columns": null,
            "grid_template_rows": null,
            "height": null,
            "justify_content": null,
            "justify_items": null,
            "left": null,
            "margin": null,
            "max_height": null,
            "max_width": null,
            "min_height": null,
            "min_width": null,
            "object_fit": null,
            "object_position": null,
            "order": null,
            "overflow": null,
            "overflow_x": null,
            "overflow_y": null,
            "padding": null,
            "right": null,
            "top": null,
            "visibility": null,
            "width": null
          }
        },
        "b3127662000e4163a4f46c31500255f7": {
          "model_module": "@jupyter-widgets/controls",
          "model_name": "DescriptionStyleModel",
          "model_module_version": "1.5.0",
          "state": {
            "_model_module": "@jupyter-widgets/controls",
            "_model_module_version": "1.5.0",
            "_model_name": "DescriptionStyleModel",
            "_view_count": null,
            "_view_module": "@jupyter-widgets/base",
            "_view_module_version": "1.2.0",
            "_view_name": "StyleView",
            "description_width": ""
          }
        },
        "2da6c652a5a84a8c91da9ffbbfdc1a12": {
          "model_module": "@jupyter-widgets/controls",
          "model_name": "HBoxModel",
          "model_module_version": "1.5.0",
          "state": {
            "_dom_classes": [],
            "_model_module": "@jupyter-widgets/controls",
            "_model_module_version": "1.5.0",
            "_model_name": "HBoxModel",
            "_view_count": null,
            "_view_module": "@jupyter-widgets/controls",
            "_view_module_version": "1.5.0",
            "_view_name": "HBoxView",
            "box_style": "",
            "children": [
              "IPY_MODEL_da3efaad17a046fea60aba5de0023900",
              "IPY_MODEL_67af67e6631e4817aa3b332d135b9dc8",
              "IPY_MODEL_d029d6cc3d7c4e4db3138e63e68752ad"
            ],
            "layout": "IPY_MODEL_434907ec5dcd490090a69d77e8deb34a"
          }
        },
        "da3efaad17a046fea60aba5de0023900": {
          "model_module": "@jupyter-widgets/controls",
          "model_name": "HTMLModel",
          "model_module_version": "1.5.0",
          "state": {
            "_dom_classes": [],
            "_model_module": "@jupyter-widgets/controls",
            "_model_module_version": "1.5.0",
            "_model_name": "HTMLModel",
            "_view_count": null,
            "_view_module": "@jupyter-widgets/controls",
            "_view_module_version": "1.5.0",
            "_view_name": "HTMLView",
            "description": "",
            "description_tooltip": null,
            "layout": "IPY_MODEL_3ec72d4712f944e4b014cdd46e832ac9",
            "placeholder": "​",
            "style": "IPY_MODEL_96c793c3ee1d4e85a919e33d8c995779",
            "value": "Downloading: 100%"
          }
        },
        "67af67e6631e4817aa3b332d135b9dc8": {
          "model_module": "@jupyter-widgets/controls",
          "model_name": "FloatProgressModel",
          "model_module_version": "1.5.0",
          "state": {
            "_dom_classes": [],
            "_model_module": "@jupyter-widgets/controls",
            "_model_module_version": "1.5.0",
            "_model_name": "FloatProgressModel",
            "_view_count": null,
            "_view_module": "@jupyter-widgets/controls",
            "_view_module_version": "1.5.0",
            "_view_name": "ProgressView",
            "bar_style": "success",
            "description": "",
            "description_tooltip": null,
            "layout": "IPY_MODEL_80ac9e3870e940d596fc76a6d08796c9",
            "max": 440473133,
            "min": 0,
            "orientation": "horizontal",
            "style": "IPY_MODEL_0eef8604110a41dca1214331828dda33",
            "value": 440473133
          }
        },
        "d029d6cc3d7c4e4db3138e63e68752ad": {
          "model_module": "@jupyter-widgets/controls",
          "model_name": "HTMLModel",
          "model_module_version": "1.5.0",
          "state": {
            "_dom_classes": [],
            "_model_module": "@jupyter-widgets/controls",
            "_model_module_version": "1.5.0",
            "_model_name": "HTMLModel",
            "_view_count": null,
            "_view_module": "@jupyter-widgets/controls",
            "_view_module_version": "1.5.0",
            "_view_name": "HTMLView",
            "description": "",
            "description_tooltip": null,
            "layout": "IPY_MODEL_3c34f2e4476c4788960b40317b7e48d9",
            "placeholder": "​",
            "style": "IPY_MODEL_78e4239201214c84b09fd3d5af18ce87",
            "value": " 420M/420M [00:06&lt;00:00, 65.4MB/s]"
          }
        },
        "434907ec5dcd490090a69d77e8deb34a": {
          "model_module": "@jupyter-widgets/base",
          "model_name": "LayoutModel",
          "model_module_version": "1.2.0",
          "state": {
            "_model_module": "@jupyter-widgets/base",
            "_model_module_version": "1.2.0",
            "_model_name": "LayoutModel",
            "_view_count": null,
            "_view_module": "@jupyter-widgets/base",
            "_view_module_version": "1.2.0",
            "_view_name": "LayoutView",
            "align_content": null,
            "align_items": null,
            "align_self": null,
            "border": null,
            "bottom": null,
            "display": null,
            "flex": null,
            "flex_flow": null,
            "grid_area": null,
            "grid_auto_columns": null,
            "grid_auto_flow": null,
            "grid_auto_rows": null,
            "grid_column": null,
            "grid_gap": null,
            "grid_row": null,
            "grid_template_areas": null,
            "grid_template_columns": null,
            "grid_template_rows": null,
            "height": null,
            "justify_content": null,
            "justify_items": null,
            "left": null,
            "margin": null,
            "max_height": null,
            "max_width": null,
            "min_height": null,
            "min_width": null,
            "object_fit": null,
            "object_position": null,
            "order": null,
            "overflow": null,
            "overflow_x": null,
            "overflow_y": null,
            "padding": null,
            "right": null,
            "top": null,
            "visibility": null,
            "width": null
          }
        },
        "3ec72d4712f944e4b014cdd46e832ac9": {
          "model_module": "@jupyter-widgets/base",
          "model_name": "LayoutModel",
          "model_module_version": "1.2.0",
          "state": {
            "_model_module": "@jupyter-widgets/base",
            "_model_module_version": "1.2.0",
            "_model_name": "LayoutModel",
            "_view_count": null,
            "_view_module": "@jupyter-widgets/base",
            "_view_module_version": "1.2.0",
            "_view_name": "LayoutView",
            "align_content": null,
            "align_items": null,
            "align_self": null,
            "border": null,
            "bottom": null,
            "display": null,
            "flex": null,
            "flex_flow": null,
            "grid_area": null,
            "grid_auto_columns": null,
            "grid_auto_flow": null,
            "grid_auto_rows": null,
            "grid_column": null,
            "grid_gap": null,
            "grid_row": null,
            "grid_template_areas": null,
            "grid_template_columns": null,
            "grid_template_rows": null,
            "height": null,
            "justify_content": null,
            "justify_items": null,
            "left": null,
            "margin": null,
            "max_height": null,
            "max_width": null,
            "min_height": null,
            "min_width": null,
            "object_fit": null,
            "object_position": null,
            "order": null,
            "overflow": null,
            "overflow_x": null,
            "overflow_y": null,
            "padding": null,
            "right": null,
            "top": null,
            "visibility": null,
            "width": null
          }
        },
        "96c793c3ee1d4e85a919e33d8c995779": {
          "model_module": "@jupyter-widgets/controls",
          "model_name": "DescriptionStyleModel",
          "model_module_version": "1.5.0",
          "state": {
            "_model_module": "@jupyter-widgets/controls",
            "_model_module_version": "1.5.0",
            "_model_name": "DescriptionStyleModel",
            "_view_count": null,
            "_view_module": "@jupyter-widgets/base",
            "_view_module_version": "1.2.0",
            "_view_name": "StyleView",
            "description_width": ""
          }
        },
        "80ac9e3870e940d596fc76a6d08796c9": {
          "model_module": "@jupyter-widgets/base",
          "model_name": "LayoutModel",
          "model_module_version": "1.2.0",
          "state": {
            "_model_module": "@jupyter-widgets/base",
            "_model_module_version": "1.2.0",
            "_model_name": "LayoutModel",
            "_view_count": null,
            "_view_module": "@jupyter-widgets/base",
            "_view_module_version": "1.2.0",
            "_view_name": "LayoutView",
            "align_content": null,
            "align_items": null,
            "align_self": null,
            "border": null,
            "bottom": null,
            "display": null,
            "flex": null,
            "flex_flow": null,
            "grid_area": null,
            "grid_auto_columns": null,
            "grid_auto_flow": null,
            "grid_auto_rows": null,
            "grid_column": null,
            "grid_gap": null,
            "grid_row": null,
            "grid_template_areas": null,
            "grid_template_columns": null,
            "grid_template_rows": null,
            "height": null,
            "justify_content": null,
            "justify_items": null,
            "left": null,
            "margin": null,
            "max_height": null,
            "max_width": null,
            "min_height": null,
            "min_width": null,
            "object_fit": null,
            "object_position": null,
            "order": null,
            "overflow": null,
            "overflow_x": null,
            "overflow_y": null,
            "padding": null,
            "right": null,
            "top": null,
            "visibility": null,
            "width": null
          }
        },
        "0eef8604110a41dca1214331828dda33": {
          "model_module": "@jupyter-widgets/controls",
          "model_name": "ProgressStyleModel",
          "model_module_version": "1.5.0",
          "state": {
            "_model_module": "@jupyter-widgets/controls",
            "_model_module_version": "1.5.0",
            "_model_name": "ProgressStyleModel",
            "_view_count": null,
            "_view_module": "@jupyter-widgets/base",
            "_view_module_version": "1.2.0",
            "_view_name": "StyleView",
            "bar_color": null,
            "description_width": ""
          }
        },
        "3c34f2e4476c4788960b40317b7e48d9": {
          "model_module": "@jupyter-widgets/base",
          "model_name": "LayoutModel",
          "model_module_version": "1.2.0",
          "state": {
            "_model_module": "@jupyter-widgets/base",
            "_model_module_version": "1.2.0",
            "_model_name": "LayoutModel",
            "_view_count": null,
            "_view_module": "@jupyter-widgets/base",
            "_view_module_version": "1.2.0",
            "_view_name": "LayoutView",
            "align_content": null,
            "align_items": null,
            "align_self": null,
            "border": null,
            "bottom": null,
            "display": null,
            "flex": null,
            "flex_flow": null,
            "grid_area": null,
            "grid_auto_columns": null,
            "grid_auto_flow": null,
            "grid_auto_rows": null,
            "grid_column": null,
            "grid_gap": null,
            "grid_row": null,
            "grid_template_areas": null,
            "grid_template_columns": null,
            "grid_template_rows": null,
            "height": null,
            "justify_content": null,
            "justify_items": null,
            "left": null,
            "margin": null,
            "max_height": null,
            "max_width": null,
            "min_height": null,
            "min_width": null,
            "object_fit": null,
            "object_position": null,
            "order": null,
            "overflow": null,
            "overflow_x": null,
            "overflow_y": null,
            "padding": null,
            "right": null,
            "top": null,
            "visibility": null,
            "width": null
          }
        },
        "78e4239201214c84b09fd3d5af18ce87": {
          "model_module": "@jupyter-widgets/controls",
          "model_name": "DescriptionStyleModel",
          "model_module_version": "1.5.0",
          "state": {
            "_model_module": "@jupyter-widgets/controls",
            "_model_module_version": "1.5.0",
            "_model_name": "DescriptionStyleModel",
            "_view_count": null,
            "_view_module": "@jupyter-widgets/base",
            "_view_module_version": "1.2.0",
            "_view_name": "StyleView",
            "description_width": ""
          }
        }
      }
    }
  },
  "nbformat": 4,
  "nbformat_minor": 0
}