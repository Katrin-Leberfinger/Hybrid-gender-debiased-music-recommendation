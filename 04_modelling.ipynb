{
  "cells": [
    {
      "cell_type": "markdown",
      "metadata": {
        "id": "view-in-github",
        "colab_type": "text"
      },
      "source": [
        "<a href=\"https://colab.research.google.com/github/Katrin-Leberfinger/Hybrid-gender-debiased-music-recommendation/blob/main/04_modelling.ipynb\" target=\"_parent\"><img src=\"https://colab.research.google.com/assets/colab-badge.svg\" alt=\"Open In Colab\"/></a>"
      ]
    },
    {
      "cell_type": "code",
      "execution_count": 1,
      "metadata": {
        "colab": {
          "base_uri": "https://localhost:8080/"
        },
        "id": "RWHMmzSHaV4j",
        "outputId": "8af0a178-0804-48b9-dd89-d00166a0739e"
      },
      "outputs": [
        {
          "output_type": "stream",
          "name": "stdout",
          "text": [
            "Looking in indexes: https://pypi.org/simple, https://us-python.pkg.dev/colab-wheels/public/simple/\n",
            "Collecting transformers\n",
            "  Downloading transformers-4.20.1-py3-none-any.whl (4.4 MB)\n",
            "\u001b[K     |████████████████████████████████| 4.4 MB 6.6 MB/s \n",
            "\u001b[?25hRequirement already satisfied: regex!=2019.12.17 in /usr/local/lib/python3.7/dist-packages (from transformers) (2022.6.2)\n",
            "Requirement already satisfied: importlib-metadata in /usr/local/lib/python3.7/dist-packages (from transformers) (4.11.4)\n",
            "Requirement already satisfied: numpy>=1.17 in /usr/local/lib/python3.7/dist-packages (from transformers) (1.21.6)\n",
            "Requirement already satisfied: tqdm>=4.27 in /usr/local/lib/python3.7/dist-packages (from transformers) (4.64.0)\n",
            "Collecting huggingface-hub<1.0,>=0.1.0\n",
            "  Downloading huggingface_hub-0.8.1-py3-none-any.whl (101 kB)\n",
            "\u001b[K     |████████████████████████████████| 101 kB 10.6 MB/s \n",
            "\u001b[?25hRequirement already satisfied: requests in /usr/local/lib/python3.7/dist-packages (from transformers) (2.23.0)\n",
            "Collecting tokenizers!=0.11.3,<0.13,>=0.11.1\n",
            "  Downloading tokenizers-0.12.1-cp37-cp37m-manylinux_2_12_x86_64.manylinux2010_x86_64.whl (6.6 MB)\n",
            "\u001b[K     |████████████████████████████████| 6.6 MB 75.3 MB/s \n",
            "\u001b[?25hRequirement already satisfied: packaging>=20.0 in /usr/local/lib/python3.7/dist-packages (from transformers) (21.3)\n",
            "Collecting pyyaml>=5.1\n",
            "  Downloading PyYAML-6.0-cp37-cp37m-manylinux_2_5_x86_64.manylinux1_x86_64.manylinux_2_12_x86_64.manylinux2010_x86_64.whl (596 kB)\n",
            "\u001b[K     |████████████████████████████████| 596 kB 86.2 MB/s \n",
            "\u001b[?25hRequirement already satisfied: filelock in /usr/local/lib/python3.7/dist-packages (from transformers) (3.7.1)\n",
            "Requirement already satisfied: typing-extensions>=3.7.4.3 in /usr/local/lib/python3.7/dist-packages (from huggingface-hub<1.0,>=0.1.0->transformers) (4.1.1)\n",
            "Requirement already satisfied: pyparsing!=3.0.5,>=2.0.2 in /usr/local/lib/python3.7/dist-packages (from packaging>=20.0->transformers) (3.0.9)\n",
            "Requirement already satisfied: zipp>=0.5 in /usr/local/lib/python3.7/dist-packages (from importlib-metadata->transformers) (3.8.0)\n",
            "Requirement already satisfied: idna<3,>=2.5 in /usr/local/lib/python3.7/dist-packages (from requests->transformers) (2.10)\n",
            "Requirement already satisfied: certifi>=2017.4.17 in /usr/local/lib/python3.7/dist-packages (from requests->transformers) (2022.6.15)\n",
            "Requirement already satisfied: chardet<4,>=3.0.2 in /usr/local/lib/python3.7/dist-packages (from requests->transformers) (3.0.4)\n",
            "Requirement already satisfied: urllib3!=1.25.0,!=1.25.1,<1.26,>=1.21.1 in /usr/local/lib/python3.7/dist-packages (from requests->transformers) (1.24.3)\n",
            "Installing collected packages: pyyaml, tokenizers, huggingface-hub, transformers\n",
            "  Attempting uninstall: pyyaml\n",
            "    Found existing installation: PyYAML 3.13\n",
            "    Uninstalling PyYAML-3.13:\n",
            "      Successfully uninstalled PyYAML-3.13\n",
            "Successfully installed huggingface-hub-0.8.1 pyyaml-6.0 tokenizers-0.12.1 transformers-4.20.1\n"
          ]
        }
      ],
      "source": [
        "!pip install transformers"
      ]
    },
    {
      "cell_type": "code",
      "execution_count": 2,
      "metadata": {
        "id": "L9D-5zOmltBw"
      },
      "outputs": [],
      "source": [
        "import torch\n",
        "import numpy as np\n",
        "import torch.nn as nn\n",
        "from torch.autograd import Variable\n",
        "from transformers import BertConfig, BertPreTrainedModel, BertModel, BertForSequenceClassification\n",
        "import pandas as pd\n",
        "import torch\n",
        "from sklearn.model_selection import train_test_split\n",
        "from transformers import BertTokenizer, BertModel, AdamW\n",
        "from torch import nn\n",
        "from transformers import BertModel\n",
        "from sklearn.metrics import f1_score\n",
        "from sklearn.metrics import recall_score\n",
        "from sklearn.utils import shuffle\n",
        "import matplotlib.pyplot as plt\n",
        "import gc                                                                                                                                                                                                                                                                                                                                                                                                                                                                                                                                                                                                                                                                                                                                                                                                                                                                                                                                                                                                                                                                                                                                                                                                                                                                                                                                                                                                                                                                                                                                                                                                                                                                                                                                                                                                                                                                                                                                                                                                                                                                                                                                                                                                                                                                                                                                                                                                                                                                                                                                                                                                                                                                                                                                                                                                                                                                                                                                                                                                                                                                                                                                                                                                                                                                                                                                                                                                                                                                                                                                                                                                                                                                                                                                                                                                                                                                                                                                                                                                                                                                                                                                                                                                                                                                                                                                                                                                                                                                                                                                                                                                                                                                                                                                                                                                                                                                                                                                                                                                                                                                                                                                                                                                                                                                                                                                                                                                                                                                                                                                                                                                                                                                                                                                                                                                                                                                                                                                                                                                                                                                                                                                                                                                                                                                                                                                                                                                                                                                                                                                                                                                                                                                                                                                                                                                                                                                                                                                                                                                                                                                                                                                                                                                                                                                                                                                                                                                                                                                                                                                                                                                                                                                                                                                                                                                                                                                                                                                                                                                                                                                                                                                                                                                                                                                                                                                                                                                                                                                                                                                                                                                                                                                                                                                                                                                                                                                                                                                                                                                                                                                                                                                                                                                                                                                                                                                                                                                                                                                                                                                                                                                                                                                                                                                                                                                                                                                                                                                                                                                                                                                                                                                                                                                                                                                                                                                                                                                                                                                                                                                                                                                                                                                                                                                                                                                                                                                                                                                                                                                                                                                                                                                                                                                                                                                                                                                                                                                                                                                                                                                                                                                                                                                                                                                                                                                                                                                                                                                                                                                                                                                                                                                                                                                                                                                                                                                                                                                                                                                                                                                                                                                                                                                                                                                                                                                                                                                                                                                                                         "
      ]
    },
    {
      "cell_type": "markdown",
      "metadata": {
        "id": "sXEH2KDKXjCM"
      },
      "source": [
        "# Read Data"
      ]
    },
    {
      "cell_type": "markdown",
      "source": [
        "## Datasets"
      ],
      "metadata": {
        "id": "xrv1WB2C6l-f"
      }
    },
    {
      "cell_type": "code",
      "execution_count": 3,
      "metadata": {
        "id": "XlA7ckWp1_mg"
      },
      "outputs": [],
      "source": [
        "from torch.utils.data import Dataset\n",
        "from torch.utils.data import DataLoader\n",
        "\n",
        "class LFM2bDataset(Dataset):\n",
        "    def __init__(self, data_all,tokenizer,max_length, text_col, item2pos, user2id):\n",
        "        super(LFM2bDataset, self).__init__()\n",
        "        self.data_all = data_all\n",
        "        self.max_length = max_length\n",
        "        self.tokenizer = tokenizer\n",
        "        self.text_col = text_col\n",
        "        self.item2pos = item2pos\n",
        "        self.user2id = user2id\n",
        "        \n",
        "    def __len__(self):\n",
        "        return len(self.data_all)\n",
        "    \n",
        "    def __getitem__(self, index):\n",
        "        \n",
        "        text1 = self.data_all.iloc[index][self.text_col]\n",
        "        user_id = self.user2id[ self.data_all.iloc[index]['user_id']]\n",
        "        track_id = self.item2pos[ self.data_all.iloc[index]['track_id']]\n",
        "        target = self.data_all.iloc[index]['count']\n",
        "\n",
        "        inputs = tokenizer.encode_plus(\n",
        "                text1, \n",
        "                add_special_tokens=True,\n",
        "                padding='max_length',\n",
        "                max_length = self.max_length,\n",
        "                return_tensors='pt',\n",
        "                truncation=True,\n",
        "                return_attention_mask=True\n",
        "                )\n",
        "        ids = inputs[\"input_ids\"]\n",
        "        mask = inputs[\"attention_mask\"]\n",
        "\n",
        "        return {\n",
        "            'input_ids_lyrics': ids.flatten(),\n",
        "            'attention_mask_lyrics': mask.flatten(),\n",
        "            'user_id': torch.tensor(user_id, dtype=torch.long),\n",
        "             'track_id': torch.tensor(track_id, dtype=torch.long),\n",
        "            'target': torch.FloatTensor([target])\n",
        "            }\n"
      ]
    },
    {
      "cell_type": "code",
      "execution_count": 4,
      "metadata": {
        "id": "r5XACwlUqC9Z"
      },
      "outputs": [],
      "source": [
        "from torch.utils.data import Dataset\n",
        "from torch.utils.data import DataLoader\n",
        "\n",
        "class LFM2bDatasetMulitpleText(Dataset):\n",
        "    def __init__(self, data_all,tokenizer,max_length, item2pos, user2id):\n",
        "        super(LFM2bDatasetMulitpleText, self).__init__()\n",
        "        self.data_all = data_all\n",
        "        self.max_length = max_length\n",
        "        self.tokenizer = tokenizer\n",
        "        self.item2pos = item2pos\n",
        "        self.user2id = user2id\n",
        "        \n",
        "    def __len__(self):\n",
        "        return len(self.data_all)\n",
        "    \n",
        "    def __getitem__(self, index):\n",
        "        \n",
        "        text1 = self.data_all.iloc[index]['lyrics_cleaned']\n",
        "        text2 = self.data_all.iloc[index]['tags']\n",
        "        text3 = self.data_all.iloc[index]['abstract']\n",
        "        user_id = self.user2id[ self.data_all.iloc[index]['user_id']]\n",
        "        track_id = self.item2pos[ self.data_all.iloc[index]['track_id']]\n",
        "        \n",
        "        inputs1 = tokenizer.encode_plus(\n",
        "            text1, \n",
        "            add_special_tokens=True,\n",
        "            padding='max_length',\n",
        "            max_length = self.max_length,\n",
        "            return_tensors='pt',\n",
        "            truncation=True,\n",
        "            return_attention_mask=True\n",
        "            \n",
        "        )\n",
        "        ids1 = inputs1[\"input_ids\"]\n",
        "        mask1 = inputs1[\"attention_mask\"]\n",
        "\n",
        "        inputs2 = tokenizer.encode_plus(\n",
        "            text2, \n",
        "            add_special_tokens=True,\n",
        "            padding='max_length',\n",
        "            max_length = self.max_length,\n",
        "            return_tensors='pt',\n",
        "            truncation=True,\n",
        "            return_attention_mask=True\n",
        "            \n",
        "        )\n",
        "        ids2 = inputs2[\"input_ids\"]\n",
        "        mask2 = inputs2[\"attention_mask\"]\n",
        "\n",
        "        inputs3 = tokenizer.encode_plus(\n",
        "            text3, \n",
        "            add_special_tokens=True,\n",
        "            padding='max_length',\n",
        "            max_length = self.max_length,\n",
        "            return_tensors='pt',\n",
        "            truncation=True,\n",
        "            return_attention_mask=True\n",
        "            \n",
        "        )\n",
        "        ids3 = inputs1[\"input_ids\"]\n",
        "        mask3 = inputs1[\"attention_mask\"]\n",
        "\n",
        "        return {\n",
        "            'input_ids_lyrics': torch.tensor(ids1, dtype=torch.long),\n",
        "            'attention_mask_lyrics': torch.tensor(mask1, dtype=torch.long),\n",
        "            'input_ids_tags': torch.tensor(ids2, dtype=torch.long),\n",
        "            'attention_mask_tags': torch.tensor(mask2, dtype=torch.long),\n",
        "            'input_ids_abstract': torch.tensor(ids3, dtype=torch.long),\n",
        "            'attention_mask_abstract': torch.tensor(mask3, dtype=torch.long),\n",
        "            'user_id': torch.tensor(user_id, dtype=torch.long),\n",
        "            'track_id': torch.tensor(track_id, dtype=torch.long),\n",
        "            'target': torch.tensor(self.data_all.iloc[index]['count'], dtype=torch.float)\n",
        "            }\n"
      ]
    },
    {
      "cell_type": "code",
      "execution_count": 5,
      "metadata": {
        "colab": {
          "base_uri": "https://localhost:8080/"
        },
        "id": "GzTFm7XWXmXv",
        "outputId": "322bff94-2808-419c-e6d4-8caf111cd2a7"
      },
      "outputs": [
        {
          "output_type": "stream",
          "name": "stdout",
          "text": [
            "Mounted at /content/drive\n"
          ]
        }
      ],
      "source": [
        "from google.colab import drive\n",
        "drive.mount('/content/drive')"
      ]
    },
    {
      "cell_type": "code",
      "execution_count": 6,
      "metadata": {
        "colab": {
          "base_uri": "https://localhost:8080/"
        },
        "id": "iWWKtwJxXmQC",
        "outputId": "886694a8-4fbc-4d0c-a12d-fad6a0e33bd5"
      },
      "outputs": [
        {
          "output_type": "stream",
          "name": "stdout",
          "text": [
            "/content/drive/MyDrive/Master Thesis/data\n"
          ]
        }
      ],
      "source": [
        "%cd /content/drive/MyDrive/Master\\ Thesis/data"
      ]
    },
    {
      "cell_type": "code",
      "source": [
        "from model import EasyBERTModel, AMARBertEmbeddings, AMARBert, MatrixFactorizationModel"
      ],
      "metadata": {
        "id": "itk8YB0kVgVj"
      },
      "execution_count": 7,
      "outputs": []
    },
    {
      "cell_type": "markdown",
      "metadata": {
        "id": "Vf103qDF0cNv"
      },
      "source": [
        "## Read Data: Lyrics "
      ]
    },
    {
      "cell_type": "code",
      "execution_count": 8,
      "metadata": {
        "id": "lTSGXhgqhfXI"
      },
      "outputs": [],
      "source": [
        "dir = \"preprocessed_data_binary_movies/\"\n",
        "\n",
        "data_interaction = pd.read_csv(dir + \"data_interaction.csv\").drop(['Unnamed: 0'],axis=1)\n",
        "data_tracks_tags_lyrics = pd.read_csv(dir + \"data_tracks_tags_lyrics.csv\").drop(['Unnamed: 0'],axis=1)\n",
        "data_interaction_test = pd.read_csv(dir + \"data_interaction_test.csv\").drop(['Unnamed: 0'],axis=1)\n",
        "data_interaction_train = pd.read_csv(dir + \"data_interaction_train.csv\").drop(['Unnamed: 0'],axis=1)\n",
        "data_interaction_val = pd.read_csv(dir + \"data_interaction_val.csv\").drop(['Unnamed: 0'],axis=1)"
      ]
    },
    {
      "cell_type": "code",
      "source": [
        "data_interaction_train[\"abstract\"] = data_interaction_train[\"abstract\"].str.lower()\n",
        "data_interaction_test[\"abstract\"] = data_interaction_test[\"abstract\"].str.lower()\n",
        "data_interaction_val[\"abstract\"] = data_interaction_val[\"abstract\"].str.lower()"
      ],
      "metadata": {
        "id": "rzNYZFDuwo-G"
      },
      "execution_count": 9,
      "outputs": []
    },
    {
      "cell_type": "code",
      "source": [
        "pos2item = {i:v for i, v in enumerate(data_tracks_tags_lyrics.track_id.sort_values().unique())}\n",
        "item2pos = {v:i for i, v in enumerate(data_tracks_tags_lyrics.track_id.sort_values().unique())}\n",
        "\n",
        "id2user = {i:v for i, v in enumerate(data_interaction.user_id.sort_values().unique())}\n",
        "user2id = {v:i for i, v in enumerate(data_interaction.user_id.sort_values().unique())}"
      ],
      "metadata": {
        "id": "vjrZjQCIzTKn"
      },
      "execution_count": 10,
      "outputs": []
    },
    {
      "cell_type": "code",
      "source": [
        "data_interaction_test"
      ],
      "metadata": {
        "colab": {
          "base_uri": "https://localhost:8080/",
          "height": 424
        },
        "id": "6I4yBdXrrmuS",
        "outputId": "ecbe0c08-dc9e-4b14-8a21-970906b7e553"
      },
      "execution_count": 11,
      "outputs": [
        {
          "output_type": "execute_result",
          "data": {
            "text/plain": [
              "        user_id  track_id  count                           lyrics_cleaned  \\\n",
              "0           260     95167    0.0                             Brave (2012)   \n",
              "1           534      6711    0.0               Lost in Translation (2003)   \n",
              "2           387      1586    0.0                         G.I. Jane (1997)   \n",
              "3           337    118900    0.0                              Wild (2014)   \n",
              "4           167     92938    0.0  Ghost Rider: Spirit of Vengeance (2012)   \n",
              "...         ...       ...    ...                                      ...   \n",
              "722173      539      2664    0.0    Invasion of the Body Snatchers (1956)   \n",
              "722174      561      3549    0.0                    Guys and Dolls (1955)   \n",
              "722175      464      2949    0.0                            Dr. No (1962)   \n",
              "722176      200      1713    0.0                        Mouse Hunt (1997)   \n",
              "722177      191      6796    0.0                   Boyz N the Hood (1991)   \n",
              "\n",
              "                                       tags  \\\n",
              "0       action adventure animation children   \n",
              "1                      comedy drama romance   \n",
              "2                              action drama   \n",
              "3                                     drama   \n",
              "4                   action fantasy thriller   \n",
              "...                                     ...   \n",
              "722173               horror sci-fi thriller   \n",
              "722174               comedy musical romance   \n",
              "722175            action adventure thriller   \n",
              "722176                      children comedy   \n",
              "722177                          crime drama   \n",
              "\n",
              "                                                 abstract  \n",
              "0       gamera the brave (小さき勇者たち〜ガメラ〜, chiisaki yūsha...  \n",
              "1       lost in translation is a 2003 romantic comedy-...  \n",
              "2       g.i. jane is a 1997 american war drama film di...  \n",
              "3       cry of the wild is a 1972 feature-length docum...  \n",
              "4       ghost rider: spirit of vengeance is a 2011 ame...  \n",
              "...                                                   ...  \n",
              "722173  invasion of the body snatchers is a 1956 ameri...  \n",
              "722174  guys and dolls is a 1955 american musical film...  \n",
              "722175  un padre no tan padre is a 2016 mexican comedy...  \n",
              "722176  mouse hunt is a 1997 american slapstick black ...  \n",
              "722177  boyz n the hood is a 1991 american coming-of-a...  \n",
              "\n",
              "[722178 rows x 6 columns]"
            ],
            "text/html": [
              "\n",
              "  <div id=\"df-a0e5eb1c-6be3-410a-9efe-32d55a186007\">\n",
              "    <div class=\"colab-df-container\">\n",
              "      <div>\n",
              "<style scoped>\n",
              "    .dataframe tbody tr th:only-of-type {\n",
              "        vertical-align: middle;\n",
              "    }\n",
              "\n",
              "    .dataframe tbody tr th {\n",
              "        vertical-align: top;\n",
              "    }\n",
              "\n",
              "    .dataframe thead th {\n",
              "        text-align: right;\n",
              "    }\n",
              "</style>\n",
              "<table border=\"1\" class=\"dataframe\">\n",
              "  <thead>\n",
              "    <tr style=\"text-align: right;\">\n",
              "      <th></th>\n",
              "      <th>user_id</th>\n",
              "      <th>track_id</th>\n",
              "      <th>count</th>\n",
              "      <th>lyrics_cleaned</th>\n",
              "      <th>tags</th>\n",
              "      <th>abstract</th>\n",
              "    </tr>\n",
              "  </thead>\n",
              "  <tbody>\n",
              "    <tr>\n",
              "      <th>0</th>\n",
              "      <td>260</td>\n",
              "      <td>95167</td>\n",
              "      <td>0.0</td>\n",
              "      <td>Brave (2012)</td>\n",
              "      <td>action adventure animation children</td>\n",
              "      <td>gamera the brave (小さき勇者たち〜ガメラ〜, chiisaki yūsha...</td>\n",
              "    </tr>\n",
              "    <tr>\n",
              "      <th>1</th>\n",
              "      <td>534</td>\n",
              "      <td>6711</td>\n",
              "      <td>0.0</td>\n",
              "      <td>Lost in Translation (2003)</td>\n",
              "      <td>comedy drama romance</td>\n",
              "      <td>lost in translation is a 2003 romantic comedy-...</td>\n",
              "    </tr>\n",
              "    <tr>\n",
              "      <th>2</th>\n",
              "      <td>387</td>\n",
              "      <td>1586</td>\n",
              "      <td>0.0</td>\n",
              "      <td>G.I. Jane (1997)</td>\n",
              "      <td>action drama</td>\n",
              "      <td>g.i. jane is a 1997 american war drama film di...</td>\n",
              "    </tr>\n",
              "    <tr>\n",
              "      <th>3</th>\n",
              "      <td>337</td>\n",
              "      <td>118900</td>\n",
              "      <td>0.0</td>\n",
              "      <td>Wild (2014)</td>\n",
              "      <td>drama</td>\n",
              "      <td>cry of the wild is a 1972 feature-length docum...</td>\n",
              "    </tr>\n",
              "    <tr>\n",
              "      <th>4</th>\n",
              "      <td>167</td>\n",
              "      <td>92938</td>\n",
              "      <td>0.0</td>\n",
              "      <td>Ghost Rider: Spirit of Vengeance (2012)</td>\n",
              "      <td>action fantasy thriller</td>\n",
              "      <td>ghost rider: spirit of vengeance is a 2011 ame...</td>\n",
              "    </tr>\n",
              "    <tr>\n",
              "      <th>...</th>\n",
              "      <td>...</td>\n",
              "      <td>...</td>\n",
              "      <td>...</td>\n",
              "      <td>...</td>\n",
              "      <td>...</td>\n",
              "      <td>...</td>\n",
              "    </tr>\n",
              "    <tr>\n",
              "      <th>722173</th>\n",
              "      <td>539</td>\n",
              "      <td>2664</td>\n",
              "      <td>0.0</td>\n",
              "      <td>Invasion of the Body Snatchers (1956)</td>\n",
              "      <td>horror sci-fi thriller</td>\n",
              "      <td>invasion of the body snatchers is a 1956 ameri...</td>\n",
              "    </tr>\n",
              "    <tr>\n",
              "      <th>722174</th>\n",
              "      <td>561</td>\n",
              "      <td>3549</td>\n",
              "      <td>0.0</td>\n",
              "      <td>Guys and Dolls (1955)</td>\n",
              "      <td>comedy musical romance</td>\n",
              "      <td>guys and dolls is a 1955 american musical film...</td>\n",
              "    </tr>\n",
              "    <tr>\n",
              "      <th>722175</th>\n",
              "      <td>464</td>\n",
              "      <td>2949</td>\n",
              "      <td>0.0</td>\n",
              "      <td>Dr. No (1962)</td>\n",
              "      <td>action adventure thriller</td>\n",
              "      <td>un padre no tan padre is a 2016 mexican comedy...</td>\n",
              "    </tr>\n",
              "    <tr>\n",
              "      <th>722176</th>\n",
              "      <td>200</td>\n",
              "      <td>1713</td>\n",
              "      <td>0.0</td>\n",
              "      <td>Mouse Hunt (1997)</td>\n",
              "      <td>children comedy</td>\n",
              "      <td>mouse hunt is a 1997 american slapstick black ...</td>\n",
              "    </tr>\n",
              "    <tr>\n",
              "      <th>722177</th>\n",
              "      <td>191</td>\n",
              "      <td>6796</td>\n",
              "      <td>0.0</td>\n",
              "      <td>Boyz N the Hood (1991)</td>\n",
              "      <td>crime drama</td>\n",
              "      <td>boyz n the hood is a 1991 american coming-of-a...</td>\n",
              "    </tr>\n",
              "  </tbody>\n",
              "</table>\n",
              "<p>722178 rows × 6 columns</p>\n",
              "</div>\n",
              "      <button class=\"colab-df-convert\" onclick=\"convertToInteractive('df-a0e5eb1c-6be3-410a-9efe-32d55a186007')\"\n",
              "              title=\"Convert this dataframe to an interactive table.\"\n",
              "              style=\"display:none;\">\n",
              "        \n",
              "  <svg xmlns=\"http://www.w3.org/2000/svg\" height=\"24px\"viewBox=\"0 0 24 24\"\n",
              "       width=\"24px\">\n",
              "    <path d=\"M0 0h24v24H0V0z\" fill=\"none\"/>\n",
              "    <path d=\"M18.56 5.44l.94 2.06.94-2.06 2.06-.94-2.06-.94-.94-2.06-.94 2.06-2.06.94zm-11 1L8.5 8.5l.94-2.06 2.06-.94-2.06-.94L8.5 2.5l-.94 2.06-2.06.94zm10 10l.94 2.06.94-2.06 2.06-.94-2.06-.94-.94-2.06-.94 2.06-2.06.94z\"/><path d=\"M17.41 7.96l-1.37-1.37c-.4-.4-.92-.59-1.43-.59-.52 0-1.04.2-1.43.59L10.3 9.45l-7.72 7.72c-.78.78-.78 2.05 0 2.83L4 21.41c.39.39.9.59 1.41.59.51 0 1.02-.2 1.41-.59l7.78-7.78 2.81-2.81c.8-.78.8-2.07 0-2.86zM5.41 20L4 18.59l7.72-7.72 1.47 1.35L5.41 20z\"/>\n",
              "  </svg>\n",
              "      </button>\n",
              "      \n",
              "  <style>\n",
              "    .colab-df-container {\n",
              "      display:flex;\n",
              "      flex-wrap:wrap;\n",
              "      gap: 12px;\n",
              "    }\n",
              "\n",
              "    .colab-df-convert {\n",
              "      background-color: #E8F0FE;\n",
              "      border: none;\n",
              "      border-radius: 50%;\n",
              "      cursor: pointer;\n",
              "      display: none;\n",
              "      fill: #1967D2;\n",
              "      height: 32px;\n",
              "      padding: 0 0 0 0;\n",
              "      width: 32px;\n",
              "    }\n",
              "\n",
              "    .colab-df-convert:hover {\n",
              "      background-color: #E2EBFA;\n",
              "      box-shadow: 0px 1px 2px rgba(60, 64, 67, 0.3), 0px 1px 3px 1px rgba(60, 64, 67, 0.15);\n",
              "      fill: #174EA6;\n",
              "    }\n",
              "\n",
              "    [theme=dark] .colab-df-convert {\n",
              "      background-color: #3B4455;\n",
              "      fill: #D2E3FC;\n",
              "    }\n",
              "\n",
              "    [theme=dark] .colab-df-convert:hover {\n",
              "      background-color: #434B5C;\n",
              "      box-shadow: 0px 1px 3px 1px rgba(0, 0, 0, 0.15);\n",
              "      filter: drop-shadow(0px 1px 2px rgba(0, 0, 0, 0.3));\n",
              "      fill: #FFFFFF;\n",
              "    }\n",
              "  </style>\n",
              "\n",
              "      <script>\n",
              "        const buttonEl =\n",
              "          document.querySelector('#df-a0e5eb1c-6be3-410a-9efe-32d55a186007 button.colab-df-convert');\n",
              "        buttonEl.style.display =\n",
              "          google.colab.kernel.accessAllowed ? 'block' : 'none';\n",
              "\n",
              "        async function convertToInteractive(key) {\n",
              "          const element = document.querySelector('#df-a0e5eb1c-6be3-410a-9efe-32d55a186007');\n",
              "          const dataTable =\n",
              "            await google.colab.kernel.invokeFunction('convertToInteractive',\n",
              "                                                     [key], {});\n",
              "          if (!dataTable) return;\n",
              "\n",
              "          const docLinkHtml = 'Like what you see? Visit the ' +\n",
              "            '<a target=\"_blank\" href=https://colab.research.google.com/notebooks/data_table.ipynb>data table notebook</a>'\n",
              "            + ' to learn more about interactive tables.';\n",
              "          element.innerHTML = '';\n",
              "          dataTable['output_type'] = 'display_data';\n",
              "          await google.colab.output.renderOutput(dataTable, element);\n",
              "          const docLink = document.createElement('div');\n",
              "          docLink.innerHTML = docLinkHtml;\n",
              "          element.appendChild(docLink);\n",
              "        }\n",
              "      </script>\n",
              "    </div>\n",
              "  </div>\n",
              "  "
            ]
          },
          "metadata": {},
          "execution_count": 11
        }
      ]
    },
    {
      "cell_type": "markdown",
      "source": [
        "# Performance metrics"
      ],
      "metadata": {
        "id": "7GFow8h_ZaAK"
      }
    },
    {
      "cell_type": "code",
      "source": [
        "def get_artist_gender_diversity():\n",
        "  pass"
      ],
      "metadata": {
        "id": "qg_dS5lge7oL"
      },
      "execution_count": 39,
      "outputs": []
    },
    {
      "cell_type": "code",
      "source": [
        "def get_coverage(df_rec, data_tracks_tags_lyrics):\n",
        "  return len(df_rec['track_id'].drop_duplicates()) / len(data_tracks_tags_lyrics['track_id'].drop_duplicates())"
      ],
      "metadata": {
        "id": "aU4ydkCLe59p"
      },
      "execution_count": 12,
      "outputs": []
    },
    {
      "cell_type": "code",
      "source": [
        "def get_ndcg(rel_true, k):\n",
        "\n",
        "  rel_opt = np.zeros(len(rel_true))\n",
        "  rel_opt[:k] = 1\n",
        "  #rel_opt = rel_opt[:k]\n",
        "  #rel_true = rel_true[:k]\n",
        "\n",
        "  def _dcg(rel):\n",
        "    i = np.arange(1, len(rel)+ 1)\n",
        "    denom = np.log2(i + 1)\n",
        "    dcg = np.sum(rel / denom)\n",
        "    return dcg\n",
        "\n",
        "  return _dcg(rel_true) / _dcg(rel_opt)\n",
        "\n"
      ],
      "metadata": {
        "id": "RNyclnHsnMMm"
      },
      "execution_count": 13,
      "outputs": []
    },
    {
      "cell_type": "markdown",
      "source": [
        "# Model Training"
      ],
      "metadata": {
        "id": "Ul1WDu8_Zy21"
      }
    },
    {
      "cell_type": "code",
      "source": [
        "BERT_MODEL_NAME = 'bert-base-uncased'\n",
        "MODEL_NAME = 'prajjwal1/bert-tiny'"
      ],
      "metadata": {
        "id": "Po2m8XWxPylI"
      },
      "execution_count": 14,
      "outputs": []
    },
    {
      "cell_type": "code",
      "execution_count": 16,
      "metadata": {
        "id": "OJdsCzCuqzHQ",
        "colab": {
          "base_uri": "https://localhost:8080/"
        },
        "outputId": "3b8215c1-4d38-48f3-93d8-0624ed4da13c"
      },
      "outputs": [
        {
          "output_type": "stream",
          "name": "stderr",
          "text": [
            "Some weights of the model checkpoint at bert-base-uncased were not used when initializing BertModel: ['cls.predictions.transform.LayerNorm.bias', 'cls.seq_relationship.bias', 'cls.predictions.transform.dense.bias', 'cls.predictions.decoder.weight', 'cls.predictions.transform.LayerNorm.weight', 'cls.seq_relationship.weight', 'cls.predictions.bias', 'cls.predictions.transform.dense.weight']\n",
            "- This IS expected if you are initializing BertModel from the checkpoint of a model trained on another task or with another architecture (e.g. initializing a BertForSequenceClassification model from a BertForPreTraining model).\n",
            "- This IS NOT expected if you are initializing BertModel from the checkpoint of a model that you expect to be exactly identical (initializing a BertForSequenceClassification model from a BertForSequenceClassification model).\n"
          ]
        }
      ],
      "source": [
        "device = torch.device('cuda' if torch.cuda.is_available() else 'cpu')\n",
        "\n",
        "import numpy as np\n",
        "item_text_embeddings_size = 128\n",
        "user_embeddings_size = 100\n",
        "item_embeddings_size = 10#128\n",
        "text_col = 'tags'\n",
        "\n",
        "tokenizer = BertTokenizer.from_pretrained(BERT_MODEL_NAME) \n",
        "dataset_train= LFM2bDataset(data_interaction_train,tokenizer,item_text_embeddings_size, text_col,  item2pos, user2id)\n",
        "dataset_val= LFM2bDataset(data_interaction_val,tokenizer,item_text_embeddings_size, text_col,  item2pos, user2id)\n",
        "\n",
        "# dataset_train= LFM2bDatasetMulitpleText(data_interaction_train,tokenizer,item_text_embeddings_size,  item2pos, user2id)\n",
        "# dataset_val= LFM2bDatasetMulitpleText(data_interaction_val,tokenizer,item_text_embeddings_size,  item2pos, user2id)\n",
        "\n",
        "num_users = len(data_interaction['user_id'].drop_duplicates())\n",
        "num_items = len(pos2item)\n",
        "\n",
        "modelBert = AMARBert(item_embeddings_size, item_text_embeddings_size, user_embeddings_size, num_users, num_items, BERT_MODEL_NAME)\n",
        "\n",
        "model_name = type(modelBert).__name__\n",
        "data = \"_binary\"\n",
        "freeze = \"\"#\"_freeze\"\n",
        "optim = \"_adamw\"\n",
        "text = text_col\n",
        "\n",
        "model_dir = f\"./results/movies/{text}{model_name}{data}{freeze}{optim}_{BERT_MODEL_NAME}/\"\n",
        "import os\n",
        "os.makedirs(model_dir, exist_ok=True)"
      ]
    },
    {
      "cell_type": "code",
      "execution_count": 17,
      "metadata": {
        "id": "FJz9Z9f38MQ4",
        "colab": {
          "base_uri": "https://localhost:8080/"
        },
        "outputId": "52339184-1bd8-46de-8c5e-da91475a67d8"
      },
      "outputs": [
        {
          "output_type": "stream",
          "name": "stdout",
          "text": [
            "\n",
            "Saving best model for epoch: 0\n",
            "\n",
            "Epoch 0 | Average loss per epoch: Train: 0.685911311162987 , Val: 0.7043598230126538, NDCG: 0.5970882017380877\n",
            "\n",
            "Saving best model for epoch: 1\n",
            "\n",
            "Epoch 1 | Average loss per epoch: Train: 0.679800957091596 , Val: 0.6994759023944034, NDCG: 0.5984526936267421\n",
            "\n",
            "Saving best model for epoch: 2\n",
            "\n",
            "Epoch 2 | Average loss per epoch: Train: 0.6723529940029201 , Val: 0.6967724180674251, NDCG: 0.6035951874026786\n",
            "Epoch 3 | Average loss per epoch: Train: 0.6647895146145705 , Val: 0.685044590053679, NDCG: 0.5979704145546012\n",
            "Epoch 4 | Average loss per epoch: Train: 0.656475493614152 , Val: 0.6828127468688578, NDCG: 0.5983540912336539\n",
            "Epoch 5 | Average loss per epoch: Train: 0.6478875758312174 , Val: 0.666871805055232, NDCG: 0.6000317289728558\n",
            "Epoch 6 | Average loss per epoch: Train: 0.6385353095423546 , Val: 0.6536775774593595, NDCG: 0.5996044010973438\n"
          ]
        }
      ],
      "source": [
        "from transformers import get_linear_schedule_with_warmup\n",
        "gc.collect()\n",
        "torch.cuda.empty_cache()\n",
        "\n",
        "modelBert = modelBert.to(device)\n",
        "\n",
        "# freeze bert model parameter\n",
        "if freeze == \"_freeze\":\n",
        "  for param in modelBert.bert.parameters():\n",
        "    param.requires_grad = False   \n",
        "  # for param in modelBert.bert1.parameters():\n",
        "  #   param.requires_grad = False   \n",
        "  # for param in modelBert.bert2.parameters():\n",
        "  #   param.requires_grad = False   \n",
        "\n",
        "num_epochs=15\n",
        "batch_size=32\n",
        "\n",
        "dataloader_train=DataLoader(dataset=dataset_train,batch_size=batch_size, num_workers=4)\n",
        "dataloader_val=DataLoader(dataset=dataset_val,batch_size=batch_size, num_workers=4)\n",
        "\n",
        "criterion = nn.BCELoss()\n",
        "lr = 2e-5#1e-3\n",
        "num_total_steps = len(dataset_train) * num_epochs\n",
        "num_warmup_steps = 0\n",
        "warmup_proportion = float(num_warmup_steps) / float(num_total_steps)  \n",
        "#optimizer =  torch.optim.RMSprop(model.parameters(), lr= lr, alpha=0.9)\n",
        "optimizer = torch.optim.AdamW(modelBert.parameters(), lr=lr)\n",
        "\n",
        "\n",
        "scheduler = get_linear_schedule_with_warmup(\n",
        "  optimizer,\n",
        "  num_warmup_steps=num_warmup_steps,\n",
        "  num_training_steps=num_total_steps\n",
        ")\n",
        "\n",
        "\n",
        "loss_train = []\n",
        "loss_val = []\n",
        "ndcg_val = []\n",
        "\n",
        "best_ndcg = 0\n",
        "cnt = 0\n",
        "\n",
        "for e in range(num_epochs):\n",
        "\n",
        "  losses_train = []\n",
        "\n",
        "  modelBert.train()\n",
        "\n",
        "  for data_train in dataloader_train:\n",
        "      gc.collect()\n",
        "      torch.cuda.empty_cache()\n",
        "      modelBert.zero_grad()\n",
        "      #items positions\n",
        "      curr_items_ids_batch = data_train['track_id']\n",
        "      # items descriptions\n",
        "      curr_items_batch = data_train['input_ids_lyrics']\n",
        "      curr_attentions_batch = data_train['attention_mask_lyrics']\n",
        "\n",
        "      # additional items descriptions\n",
        "      # curr_items_batch1 = data_train['input_ids_tags']\n",
        "      # curr_attentions_batch1 = data_train['attention_mask_tags']\n",
        "      \n",
        "      # users ids\n",
        "      curr_users_batch =data_train['user_id']\n",
        "\n",
        "      # model inputs\n",
        "      inputs = [curr_items_ids_batch.type(torch.LongTensor).to(device), \n",
        "                curr_items_batch.type(torch.LongTensor).to(device), \n",
        "                curr_users_batch.type(torch.LongTensor).to(device), \n",
        "                curr_attentions_batch.type(torch.LongTensor).to(device),\n",
        "                # curr_items_batch1.type(torch.LongTensor).to(device),  \n",
        "                #curr_attentions_batch1.type(torch.LongTensor).to(device)\n",
        "                ]\n",
        "\n",
        "      user_id = curr_users_batch.type(torch.LongTensor).to(device)\n",
        "      input_id = curr_items_ids_batch.type(torch.LongTensor).to(device)\n",
        "      input_text_ids = curr_items_batch.type(torch.LongTensor).to(device)\n",
        "      attention_mask = curr_attentions_batch.type(torch.LongTensor).to(device) \n",
        "\n",
        "      # model targets\n",
        "      targets = data_train['target'].reshape(-1,1)\n",
        "\n",
        "      # backward propagation\n",
        "      # outputs = model(inputs)\n",
        "      outputs = modelBert(user_id, input_id, input_text_ids, attention_mask)\n",
        "\n",
        "      loss = criterion(outputs, targets.to(device))\n",
        "      optimizer.zero_grad()\n",
        "      loss.backward()\n",
        "      nn.utils.clip_grad_norm_(modelBert.parameters(), max_norm=1.0)\n",
        "      optimizer.step()\n",
        "      scheduler.step()\n",
        "      \n",
        "      # evaluate current loss function value\n",
        "      losses_train.append(loss.item())\n",
        "\n",
        "  # compute loss on validation set\n",
        "  modelBert.eval()\n",
        "\n",
        "  losses_val = []\n",
        "\n",
        "  res = pd.DataFrame(columns = ['user_id', 'track_id', 'count'])\n",
        "  for data_val in dataloader_val:\n",
        "    gc.collect()\n",
        "    torch.cuda.empty_cache()\n",
        "    #items positions\n",
        "    curr_items_ids_batch = data_val['track_id']\n",
        "    # items descriptions\n",
        "    curr_items_batch = data_val['input_ids_lyrics']\n",
        "    curr_attentions_batch = data_val['attention_mask_lyrics']\n",
        "\n",
        "    # additional items descriptions\n",
        "    # curr_items_batch1 = data_val['input_ids_tags']\n",
        "    # curr_attentions_batch1 = data_val['attention_mask_tags']\n",
        "    \n",
        "    # users ids\n",
        "    curr_users_batch =data_val['user_id']\n",
        "\n",
        "    # model inputs\n",
        "    inputs = [curr_items_ids_batch.type(torch.LongTensor).to(device), \n",
        "              curr_items_batch.type(torch.LongTensor).to(device), \n",
        "              curr_users_batch.type(torch.LongTensor).to(device), \n",
        "              curr_attentions_batch.type(torch.LongTensor).to(device),\n",
        "              # curr_items_batch1.type(torch.LongTensor).to(device), \n",
        "              # curr_attentions_batch1.type(torch.LongTensor).to(device)\n",
        "              ]\n",
        "\n",
        "    user_id = curr_users_batch.type(torch.LongTensor).to(device)\n",
        "    input_id = curr_items_ids_batch.type(torch.LongTensor).to(device)\n",
        "    input_text_ids = curr_items_batch.type(torch.LongTensor).to(device)\n",
        "    attention_mask = curr_attentions_batch.type(torch.LongTensor).to(device) \n",
        "\n",
        "    # model targets\n",
        "    targets_val = data_val['target'].reshape(-1,1)\n",
        "\n",
        "    \n",
        "    with torch.no_grad():        \n",
        "      outputs_val = modelBert(user_id, input_id, input_text_ids, attention_mask)\n",
        "\n",
        "    loss = criterion(outputs_val, targets_val.to(device))\n",
        "    losses_val.append(loss.item())\n",
        "\n",
        "    for i in range(outputs_val.shape[0]):\n",
        "      res = res.append(pd.DataFrame({'user_id': id2user[curr_users_batch[i].item()], 'track_id': pos2item[curr_items_ids_batch[i].item()], 'count':  outputs_val[i].item()} , index=[0]))\n",
        "\n",
        "  # compute ndcg for each user\n",
        "  ndcg = []\n",
        "  for user, df in res.groupby('user_id'):\n",
        "    df = df.drop_duplicates(subset='track_id').sort_values('count', ascending=False).head(10)\n",
        "    y_true_sorted = data_interaction_val.loc[data_interaction_val['user_id'] == user].sort_values('count', ascending=False).drop_duplicates()\n",
        "    rel_true = pd.merge(df[['track_id']], y_true_sorted[['track_id', 'count']].drop_duplicates(), 'left').fillna(0)['count'].values\n",
        "    rel_true[rel_true > 0] = 1\n",
        "    ndcg.append(get_ndcg(rel_true, 10))\n",
        "\n",
        "  ndcg_e = np.mean(ndcg)\n",
        "\n",
        "  # save best model based on ndcg\n",
        "  if ndcg_e > best_ndcg:\n",
        "    best_ndcg = ndcg_e\n",
        "    print(f\"\\nSaving best model for epoch: {e}\\n\")\n",
        "    torch.save(modelBert.state_dict(), model_dir + 'best_model.pth')\n",
        "    cnt = 0\n",
        "  else:\n",
        "    cnt = cnt+1\n",
        "  if cnt > 4:\n",
        "    break\n",
        "\n",
        "  average_los_val = np.mean(losses_val)\n",
        "  loss_val.append(average_los_val.item())    \n",
        "  ndcg_val.append(ndcg_e)\n",
        "\n",
        "  # evaluate average cost per epoch\n",
        "  average_loss_train = np.mean(losses_train)\n",
        "  loss_train.append(average_loss_train.item())\n",
        "  print(f\"Epoch {e} | Average loss per epoch: Train: {average_loss_train.item()} , Val: {average_los_val.item()}, NDCG: {ndcg_e}\")\n"
      ]
    },
    {
      "cell_type": "code",
      "execution_count": 18,
      "metadata": {
        "id": "CfR4uzskpgFt",
        "outputId": "75bed998-884c-43b9-b08e-6bfde71a7f51",
        "colab": {
          "base_uri": "https://localhost:8080/",
          "height": 281
        }
      },
      "outputs": [
        {
          "output_type": "display_data",
          "data": {
            "text/plain": [
              "<Figure size 432x288 with 1 Axes>"
            ],
            "image/png": "[encoded data removed]"
          },
          "metadata": {
            "needs_background": "light"
          }
        }
      ],
      "source": [
        "plt.plot(ndcg_val)\n",
        "plt.title(\"Validation NDCG@10\")\n",
        "# \n",
        "#from google.colab import files\n",
        "plt.savefig(model_dir + \"ndcg.png\")\n",
        "#files.download(model_dir + \"ndcg.png\") "
      ]
    },
    {
      "cell_type": "code",
      "source": [
        "plt.plot(loss_train, label='train')\n",
        "plt.plot(loss_val, label='val')\n",
        "plt.legend()\n",
        "plt.title(\"Training and Validation Loss\")\n",
        "\n",
        "#from google.colab import files\n",
        "plt.savefig(model_dir + \"loss.png\")\n",
        "#files.download(model_dir + \"loss.png\") "
      ],
      "metadata": {
        "id": "ol3t_0CLJ0jj",
        "outputId": "2329ead8-b967-4d7b-86e3-4977fdf4bdbb",
        "colab": {
          "base_uri": "https://localhost:8080/",
          "height": 281
        }
      },
      "execution_count": 19,
      "outputs": [
        {
          "output_type": "display_data",
          "data": {
            "text/plain": [
              "<Figure size 432x288 with 1 Axes>"
            ],
            "image/png": "[encoded data removed]"
          },
          "metadata": {
            "needs_background": "light"
          }
        }
      ]
    },
    {
      "cell_type": "markdown",
      "metadata": {
        "id": "SH1Njid6OwL8"
      },
      "source": [
        "## **BERT**: Get predictions"
      ]
    },
    {
      "cell_type": "code",
      "execution_count": 20,
      "metadata": {
        "id": "LCUid5ff91xI",
        "colab": {
          "base_uri": "https://localhost:8080/"
        },
        "outputId": "eab32749-4933-477e-f707-96f8c9bf8c21"
      },
      "outputs": [
        {
          "output_type": "stream",
          "name": "stderr",
          "text": [
            "Some weights of the model checkpoint at bert-base-uncased were not used when initializing BertModel: ['cls.predictions.transform.LayerNorm.bias', 'cls.seq_relationship.bias', 'cls.predictions.transform.dense.bias', 'cls.predictions.decoder.weight', 'cls.predictions.transform.LayerNorm.weight', 'cls.seq_relationship.weight', 'cls.predictions.bias', 'cls.predictions.transform.dense.weight']\n",
            "- This IS expected if you are initializing BertModel from the checkpoint of a model trained on another task or with another architecture (e.g. initializing a BertForSequenceClassification model from a BertForPreTraining model).\n",
            "- This IS NOT expected if you are initializing BertModel from the checkpoint of a model that you expect to be exactly identical (initializing a BertForSequenceClassification model from a BertForSequenceClassification model).\n"
          ]
        }
      ],
      "source": [
        "batch_size= 32\n",
        "res = pd.DataFrame(columns = ['user_id', 'track_id', 'count'])\n",
        "dataset_test= LFM2bDataset(data_interaction_test,tokenizer,item_text_embeddings_size, text_col,  item2pos, user2id)\n",
        "# dataset_test= LFM2bDatasetMulitpleText(data_interaction_test,tokenizer,item_text_embeddings_size,  item2pos, user2id)\n",
        "dataloader_test=DataLoader(dataset=dataset_test,batch_size=batch_size, num_workers=4)\n",
        "\n",
        "model = AMARBert(item_embeddings_size, item_text_embeddings_size, user_embeddings_size, num_users, num_items, BERT_MODEL_NAME)\n",
        "\n",
        "model.load_state_dict(torch.load(model_dir + 'best_model.pth'))\n",
        "model.to(device)\n",
        "model.eval()\n",
        "\n",
        "\n",
        "for data in dataloader_test:\n",
        "      gc.collect()\n",
        "      torch.cuda.empty_cache()\n",
        "      #items positions\n",
        "      curr_items_ids_batch = data['track_id']\n",
        "      # items descriptions\n",
        "      curr_items_batch = data['input_ids_lyrics']\n",
        "      curr_attentions_batch = data['attention_mask_lyrics']\n",
        "\n",
        "      # additional items descriptions\n",
        "      # curr_items_batch1 = data['input_ids_tags']\n",
        "      # curr_attentions_batch1 = data['attention_mask_tags']\n",
        "      \n",
        "      # users ids\n",
        "      curr_users_batch =data['user_id']\n",
        "\n",
        "      # model inputs\n",
        "      inputs = [curr_items_ids_batch.type(torch.LongTensor).to(device), \n",
        "                curr_items_batch.type(torch.LongTensor).to(device), \n",
        "                curr_users_batch.type(torch.LongTensor).to(device), \n",
        "                curr_attentions_batch.type(torch.LongTensor).to(device),\n",
        "                # curr_items_batch1.type(torch.LongTensor).to(device), \n",
        "                # curr_attentions_batch1.type(torch.LongTensor).to(device),\n",
        "                ]\n",
        "      user_id = curr_users_batch.type(torch.LongTensor).to(device)\n",
        "      input_id = curr_items_ids_batch.type(torch.LongTensor).to(device)\n",
        "      input_text_ids = curr_items_batch.type(torch.LongTensor).to(device)\n",
        "      attention_mask = curr_attentions_batch.type(torch.LongTensor).to(device) \n",
        "\n",
        "\n",
        "      with torch.no_grad():\n",
        "        outputs = model(user_id, input_id, input_text_ids, attention_mask)\n",
        "\n",
        "      # save prediction for each user\n",
        "      for i in range(outputs.shape[0]):\n",
        "\n",
        "        res = res.append(pd.DataFrame({'user_id': id2user[curr_users_batch[i].item()], 'track_id': pos2item[curr_items_ids_batch[i].item()], 'count':  outputs[i].item()} , index=[0]))\n",
        "        "
      ]
    },
    {
      "cell_type": "code",
      "execution_count": 21,
      "metadata": {
        "id": "rFCptP7OEtI5"
      },
      "outputs": [],
      "source": [
        "topn=100\n",
        "results = []\n",
        "results_df = pd.DataFrame(columns = ['user_id', 'track_id', 'count'])\n",
        "\n",
        "for user, user_prediction in res.groupby('user_id'):\n",
        "    results_df = results_df.append(user_prediction.sort_values('count', ascending=False).head(topn))\n",
        "    "
      ]
    },
    {
      "cell_type": "code",
      "source": [
        "results_df.to_csv(model_dir + 'predictions.csv', encoding = 'utf-8-sig') "
      ],
      "metadata": {
        "id": "D-dWSMgqNu_2"
      },
      "execution_count": 22,
      "outputs": []
    },
    {
      "cell_type": "markdown",
      "metadata": {
        "id": "0c67LS6n1Y-A"
      },
      "source": [
        "# Most popular recommendation\n"
      ]
    },
    {
      "cell_type": "code",
      "execution_count": 22,
      "metadata": {
        "id": "JyWJBqGz1blh"
      },
      "outputs": [],
      "source": [
        "topn = 100\n",
        "\n",
        "item_popularity_df = data_interaction.groupby('track_id')['count'].sum().sort_values(ascending=False).reset_index()\n",
        "\n",
        "predictions = {}\n",
        "\n",
        "for real_user_id in data_interaction_test.user_id.unique():\n",
        "    predictions[real_user_id] = []\n",
        "    items_to_ignore = data_interaction_train[data_interaction_train['user_id'] == real_user_id]['track_id'].values\n",
        "    item_popularity_df_user = item_popularity_df#[~item_popularity_df['track_id'].isin(items_to_ignore)]\n",
        "    predictions[real_user_id].append(item_popularity_df_user.head(topn)['track_id'].values.tolist())"
      ]
    },
    {
      "cell_type": "code",
      "execution_count": 23,
      "metadata": {
        "id": "qQ51-oYe1djY"
      },
      "outputs": [],
      "source": [
        "results = []\n",
        "results_df = pd.DataFrame(columns = ['user_id', 'track_id', 'count'])\n",
        "\n",
        "for user in predictions:\n",
        "    user_prediction = predictions[user][0]\n",
        "    for item in user_prediction:\n",
        "        rating = 1.\n",
        "        results_df = pd.concat((results_df, pd.DataFrame(data={'user_id':[user],'track_id':[item],'count':[rating]})))\n",
        "        results.append([user, item, rating])"
      ]
    },
    {
      "cell_type": "markdown",
      "metadata": {
        "id": "K-A_VQKP1hFS"
      },
      "source": [
        "# Random recommendation"
      ]
    },
    {
      "cell_type": "code",
      "execution_count": 25,
      "metadata": {
        "id": "68Z2iimV1pAk"
      },
      "outputs": [],
      "source": [
        "topn = 100\n",
        "import random\n",
        "\n",
        "predictions = {}\n",
        "\n",
        "for real_user_id in data_interaction_test.user_id.unique():\n",
        "    predictions[real_user_id] = []\n",
        "    items_to_ignore = data_interaction_train[data_interaction_train['user_id'] == real_user_id]['track_id'].values\n",
        "    item_df_user = data_interaction#[~data_interaction_test['track_id'].isin(items_to_ignore)]\n",
        "    predictions[real_user_id].append(random.sample(set(item_df_user['track_id'].values), topn))"
      ]
    },
    {
      "cell_type": "code",
      "execution_count": 26,
      "metadata": {
        "id": "T6xHh03Y1qFu"
      },
      "outputs": [],
      "source": [
        "results = []\n",
        "results_df = pd.DataFrame(columns = ['user_id', 'track_id', 'count'])\n",
        "\n",
        "for user in predictions:\n",
        "    user_prediction = predictions[user][0]\n",
        "    for item in user_prediction:\n",
        "        rating = 1.\n",
        "        results_df = pd.concat((results_df, pd.DataFrame(data={'user_id':[user],'track_id':[item],'count':[rating]})))\n",
        "        results.append([user, item, rating])"
      ]
    },
    {
      "cell_type": "markdown",
      "metadata": {
        "id": "RxzLZWaLAhUZ"
      },
      "source": [
        "# Evaluate predictions\n",
        "\n",
        "Scores: F1@10, ndcg@k, recall@k"
      ]
    },
    {
      "cell_type": "code",
      "source": [
        "topn=100"
      ],
      "metadata": {
        "id": "XS-AQqs-iXDP"
      },
      "execution_count": 23,
      "outputs": []
    },
    {
      "cell_type": "code",
      "source": [
        "# model_dir = f\"./results/movies/abstractAMARBertEmbeddings_binary_adamw_bert-base-uncased/\"\n"
      ],
      "metadata": {
        "id": "zyq3M3FMqNJW"
      },
      "execution_count": null,
      "outputs": []
    },
    {
      "cell_type": "code",
      "execution_count": null,
      "metadata": {
        "id": "z-T1kV_Wk5as"
      },
      "outputs": [],
      "source": [
        "# results_df = pd.read_csv(model_dir + \"predictions.csv\").drop([\"Unnamed: 0\"], axis=1)"
      ]
    },
    {
      "cell_type": "code",
      "execution_count": 24,
      "metadata": {
        "id": "8DTstEsi72xS",
        "colab": {
          "base_uri": "https://localhost:8080/"
        },
        "outputId": "4c57ce4f-9d50-41aa-8f99-fb3c40f89314"
      },
      "outputs": [
        {
          "output_type": "stream",
          "name": "stdout",
          "text": [
            "F1 Score:  0.015352846610364143\n",
            "NDCG Score:  0.009143322836283621\n",
            "Coverage: ,  0.054693560899922423\n"
          ]
        }
      ],
      "source": [
        "f1_scores = []\n",
        "recall_scores = []\n",
        "ndcg_scores = []\n",
        "\n",
        "for user, df in results_df.groupby('user_id'):\n",
        "  df = df.drop_duplicates(subset='track_id').head(topn)\n",
        "\n",
        "  y_true_sorted = data_interaction_test.loc[data_interaction_test['user_id'] == user].sort_values('count', ascending=False).drop_duplicates()\n",
        "  y_ndcg = pd.merge(df[['track_id']], y_true_sorted[['track_id', 'count']].drop_duplicates(), 'left').fillna(0)['count'].values\n",
        "  y_true_df = pd.merge(data_tracks_tags_lyrics[['track_id']].drop_duplicates(), y_true_sorted[['track_id', 'count']].drop_duplicates(), 'left').fillna(0)\n",
        "  y_ndcg[y_ndcg > 0] = 1\n",
        "  y_true_df.loc[y_true_df['count'] > 0, 'count'] = 1\n",
        "  y_true = y_true_df['count'].values\n",
        "\n",
        "  y_pred_df = pd.merge(data_tracks_tags_lyrics[['track_id']].drop_duplicates(), df[['track_id', 'count']], 'left').fillna(0)\n",
        "  y_pred_df.loc[y_pred_df['count'] > 0, 'count'] = 1\n",
        "  y_pred = y_pred_df['count'].values\n",
        "\n",
        "  if y_true.sum() >= 1:\n",
        "    f1_scores.append(f1_score(y_true, y_pred))\n",
        "    recall_scores.append(recall_score(y_true, y_pred))\n",
        "    ndcg_scores.append(get_ndcg(y_ndcg, topn))\n",
        "\n",
        "coverage = get_coverage(results_df, data_tracks_tags_lyrics)\n",
        "\n",
        "print(\"F1 Score: \", np.mean(f1_scores))\n",
        "#print(\"Recall Score: \", np.mean(recall_scores))\n",
        "print(\"NDCG Score: \", np.mean(ndcg_scores))\n",
        "print(\"Coverage: , \", coverage)"
      ]
    },
    {
      "cell_type": "code",
      "source": [
        "pd.DataFrame({\"f1_score\": [np.mean(f1_scores)], \n",
        "             # 'recall': [np.mean(recall_scores)], \n",
        "              'ndcg': [np.mean(ndcg_scores)],\n",
        "              'coverage': [coverage]}).to_csv(model_dir + 'evaluation_result.csv', encoding = 'utf-8-sig') "
      ],
      "metadata": {
        "id": "FVnaLOPiPmsC"
      },
      "execution_count": 25,
      "outputs": []
    }
  ],
  "metadata": {
    "accelerator": "GPU",
    "colab": {
      "collapsed_sections": [
        "0c67LS6n1Y-A",
        "K-A_VQKP1hFS",
        "jc6rPo1eHeca",
        "hgDbgyUFYVPF",
        "UEiaFN1bYdFE",
        "_W5yg61kZJOV",
        "xjjmSaKW-99W",
        "NtIQzQEH2vhy"
      ],
      "machine_shape": "hm",
      "name": "04_modelling.ipynb",
      "provenance": [],
      "mount_file_id": "1oLwqD4kIwkhfA4JSXv2yb_2VYFXGEB35",
      "authorship_tag": "ABX9TyN87fp58VRFW5CV5aL/81j6",
      "include_colab_link": true
    },
    "kernelspec": {
      "display_name": "Python 3",
      "name": "python3"
    },
    "language_info": {
      "name": "python"
    }
  },
  "nbformat": 4,
  "nbformat_minor": 0
}