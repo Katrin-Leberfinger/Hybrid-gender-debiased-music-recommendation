{
  "cells": [
    {
      "cell_type": "markdown",
      "metadata": {
        "id": "view-in-github",
        "colab_type": "text"
      },
      "source": [
        "<a href=\"https://colab.research.google.com/github/Katrin-Leberfinger/Hybrid-gender-debiased-music-recommendation/blob/main/01_data_preprocessing.ipynb\" target=\"_parent\"><img src=\"https://colab.research.google.com/assets/colab-badge.svg\" alt=\"Open In Colab\"/></a>"
      ]
    },
    {
      "cell_type": "code",
      "execution_count": 1,
      "metadata": {
        "id": "L9D-5zOmltBw"
      },
      "outputs": [],
      "source": [
        "import torch\n",
        "import numpy as np\n",
        "import torch.nn as nn\n",
        "from torch.autograd import Variable\n",
        "import pandas as pd\n",
        "import torch\n",
        "from sklearn.model_selection import train_test_split\n",
        "from torch import nn\n",
        "from sklearn.metrics import f1_score\n",
        "from sklearn.metrics import recall_score\n",
        "from sklearn.utils import shuffle\n",
        "import matplotlib.pyplot as plt\n",
        "                                                                                                                                                                                                                                                                                                                                                                                                                                                                                                                                                                                                                                                                                                                                                                                                                                                                                                                                                                                                                                                                                                                                                                                                                                                                                                                                                                                                                                                                                                                                                                                                                                                                                                                                                                                                                                                                                                                                                                                                                                                                                                                                                                                                                                                                                                                                                                                                                                                                                                                                                                                                                                                                                                                                                                                                                                                                                                                                                                                                                                                                                                                                                                                                                                                                                                                                                                                                                                                                                                                                                                                                                                                                                                                                                                                                                                                                                                                                                                                                                                                                                                                                                                                                                                                                                                                                                                                                                                                                                                                                                                                                                                                                                                                                                                                                                                                                                                                                                                                                                                                                                                                                                                                                                                                                                                                                                                                                                                                                                                                                                                                                                                                                                                                                                                                                                                                                                                                                                                                                                                                                                                                                                                                                                                                                                                                                                                                                                                                                                                                                                                                                                                                                                                                                                                                                                                                                                                                                                                                                                                                                                                                                                                                                                                                                                                                                                                                                                                                                                                                                                                                                                                                                                                                                                                                                                                                                                                                                                                                                                                                                                                                                                                                                                                                                                                                                                                                                                                                                                                                                                                                                                                                                                                                                                                                                                                                                                                                                                                                                                                                                                                                                                                                                                                                                                                                                                                                                                                                                                                                                                                                                                                                                                                                                                                                                                                                                                                                                                                                                                                                                                                                                                                                                                                                                                                                                                                                                                                                                                                                                                                                                                                                                                                                                                                                                                                                                                                                                                                                                                                                                                                                                                                                                                                                                                                                                                                                                                                                                                                                                                                                                                                                                                                                                                                                                                                                                                                                                                                                                                                                                                                                                                                                                                                                                                                                                                                                                                                                                                                                                                                                                                                                                                                                                                                                                                                                                                                                                                                      "
      ]
    },
    {
      "cell_type": "markdown",
      "metadata": {
        "id": "sXEH2KDKXjCM"
      },
      "source": [
        "# Read Data"
      ]
    },
    {
      "cell_type": "code",
      "execution_count": 2,
      "metadata": {
        "colab": {
          "base_uri": "https://localhost:8080/"
        },
        "id": "GzTFm7XWXmXv",
        "outputId": "3da07ba5-d669-42c6-a0cf-73227408a780"
      },
      "outputs": [
        {
          "output_type": "stream",
          "name": "stdout",
          "text": [
            "Mounted at /content/drive\n"
          ]
        }
      ],
      "source": [
        "from google.colab import drive\n",
        "drive.mount('/content/drive')"
      ]
    },
    {
      "cell_type": "code",
      "execution_count": 3,
      "metadata": {
        "colab": {
          "base_uri": "https://localhost:8080/"
        },
        "id": "iWWKtwJxXmQC",
        "outputId": "c035980c-83f6-4c75-81c4-795e09f36925"
      },
      "outputs": [
        {
          "output_type": "stream",
          "name": "stdout",
          "text": [
            "/content/drive/MyDrive/Master Thesis/data\n"
          ]
        }
      ],
      "source": [
        "%cd /content/drive/MyDrive/Master\\ Thesis/data"
      ]
    },
    {
      "cell_type": "code",
      "execution_count": 4,
      "metadata": {
        "id": "lTSGXhgqhfXI"
      },
      "outputs": [],
      "source": [
        "data_tracks_lyrics = pd.read_csv(\"music/data_tracks_lyrics.txt\", sep=\"\\t\").drop(['Unnamed: 0'],axis=1).dropna()\n",
        "data_tracks_tags_lyrics = pd.read_csv(\"music/data_tracks_tags_lyrics.txt\", sep=\"\\t\").drop(['Unnamed: 0'],axis=1).dropna().drop_duplicates('track_id')\n",
        "data_bio = pd.read_csv(\"music/data_artists_biography.txt\", sep=\",\").drop(['Unnamed: 0'],axis=1).dropna()\n",
        "data_interaction = pd.read_csv(\"music/data_user_track_interaction.txt\", sep=\"\\t\").drop(['Unnamed: 0'],axis=1)\n",
        "\n",
        "data_tracks_tags_lyrics = data_tracks_tags_lyrics.merge(data_bio)\n",
        "data_interaction = data_interaction.merge(data_tracks_tags_lyrics[['track_id']].drop_duplicates(), on = 'track_id', how = 'inner').drop_duplicates()\n",
        "data_tracks_tags_lyrics = data_tracks_tags_lyrics.merge(data_interaction[['track_id']], on = 'track_id', how = 'inner').drop_duplicates()\n",
        "\n",
        "data_user = pd.read_csv(\"music/data_user.txt\", sep=\"\\t\").drop(['Unnamed: 0'],axis=1)"
      ]
    },
    {
      "cell_type": "code",
      "source": [
        "# data_movies = pd.read_csv(\"movies/movies_abstracts.csv\").drop(['Unnamed: 0'],axis=1).dropna()\n",
        "# data_interaction = pd.read_csv(\"movies/ratings.csv\").drop(['timestamp'],axis=1)\n",
        "\n",
        "# data_movies = pd.merge(data_movies, data_interaction[['movieId']], 'inner').drop_duplicates()\n",
        "# data_interaction = pd.merge(data_interaction, data_movies[['movieId']], 'inner')\n",
        "\n",
        "# data_movies.columns = ['track_id', 'lyrics_cleaned', 'tags', 'abstract']\n",
        "# data_tracks_tags_lyrics = data_movies\n",
        "\n",
        "# data_interaction.columns = ['user_id', 'track_id', 'count']"
      ],
      "metadata": {
        "id": "vjrZjQCIzTKn"
      },
      "execution_count": null,
      "outputs": []
    },
    {
      "cell_type": "code",
      "execution_count": null,
      "metadata": {
        "id": "TtZh4wlvnLGy",
        "colab": {
          "base_uri": "https://localhost:8080/",
          "height": 351
        },
        "outputId": "dd11b05a-22c2-4b9f-fbbd-b4224f9f973d"
      },
      "outputs": [
        {
          "output_type": "stream",
          "name": "stderr",
          "text": [
            "/usr/local/lib/python3.7/dist-packages/seaborn/distributions.py:1699: FutureWarning: The `bw` parameter is deprecated in favor of `bw_method` and `bw_adjust`. Using 0.5 for `bw_method`, but please see the docs for the new parameters and update your code.\n",
            "  warnings.warn(msg, FutureWarning)\n"
          ]
        },
        {
          "output_type": "execute_result",
          "data": {
            "text/plain": [
              "<matplotlib.axes._subplots.AxesSubplot at 0x7f972f0507d0>"
            ]
          },
          "metadata": {},
          "execution_count": 6
        },
        {
          "output_type": "display_data",
          "data": {
            "text/plain": [
              "<Figure size 432x288 with 1 Axes>"
            ],
            "image/png": "[encoded data removed]"
          },
          "metadata": {}
        }
      ],
      "source": [
        "import seaborn as sns\n",
        "sns.set_style('whitegrid')\n",
        "sns.kdeplot(data_interaction['count'], bw=0.5)"
      ]
    },
    {
      "cell_type": "code",
      "source": [
        ""
      ],
      "metadata": {
        "id": "BHPQEQKbLx44"
      },
      "execution_count": null,
      "outputs": []
    },
    {
      "cell_type": "code",
      "source": [
        "data_interaction"
      ],
      "metadata": {
        "id": "TdejgWPbAQc1",
        "outputId": "5ef3d0b9-674b-4bfb-b17f-fdf5305c36e1",
        "colab": {
          "base_uri": "https://localhost:8080/",
          "height": 424
        }
      },
      "execution_count": null,
      "outputs": [
        {
          "output_type": "execute_result",
          "data": {
            "text/plain": [
              "        user_id  track_id  count\n",
              "0         11095   6258001      2\n",
              "1         22431   6258001      6\n",
              "2         84649   6258001      2\n",
              "3         40037   6258001      8\n",
              "4         41988   6258001     14\n",
              "...         ...       ...    ...\n",
              "431872     7733   6693897      3\n",
              "431873    90271  33362113      3\n",
              "431874    14333   3164587      2\n",
              "431875    14333  33751823      2\n",
              "431876    21743  28098806     40\n",
              "\n",
              "[431877 rows x 3 columns]"
            ],
            "text/html": [
              "\n",
              "  <div id=\"df-5e4c3f0c-ef2f-416c-a8cb-1d6ff7b8fb16\">\n",
              "    <div class=\"colab-df-container\">\n",
              "      <div>\n",
              "<style scoped>\n",
              "    .dataframe tbody tr th:only-of-type {\n",
              "        vertical-align: middle;\n",
              "    }\n",
              "\n",
              "    .dataframe tbody tr th {\n",
              "        vertical-align: top;\n",
              "    }\n",
              "\n",
              "    .dataframe thead th {\n",
              "        text-align: right;\n",
              "    }\n",
              "</style>\n",
              "<table border=\"1\" class=\"dataframe\">\n",
              "  <thead>\n",
              "    <tr style=\"text-align: right;\">\n",
              "      <th></th>\n",
              "      <th>user_id</th>\n",
              "      <th>track_id</th>\n",
              "      <th>count</th>\n",
              "    </tr>\n",
              "  </thead>\n",
              "  <tbody>\n",
              "    <tr>\n",
              "      <th>0</th>\n",
              "      <td>11095</td>\n",
              "      <td>6258001</td>\n",
              "      <td>2</td>\n",
              "    </tr>\n",
              "    <tr>\n",
              "      <th>1</th>\n",
              "      <td>22431</td>\n",
              "      <td>6258001</td>\n",
              "      <td>6</td>\n",
              "    </tr>\n",
              "    <tr>\n",
              "      <th>2</th>\n",
              "      <td>84649</td>\n",
              "      <td>6258001</td>\n",
              "      <td>2</td>\n",
              "    </tr>\n",
              "    <tr>\n",
              "      <th>3</th>\n",
              "      <td>40037</td>\n",
              "      <td>6258001</td>\n",
              "      <td>8</td>\n",
              "    </tr>\n",
              "    <tr>\n",
              "      <th>4</th>\n",
              "      <td>41988</td>\n",
              "      <td>6258001</td>\n",
              "      <td>14</td>\n",
              "    </tr>\n",
              "    <tr>\n",
              "      <th>...</th>\n",
              "      <td>...</td>\n",
              "      <td>...</td>\n",
              "      <td>...</td>\n",
              "    </tr>\n",
              "    <tr>\n",
              "      <th>431872</th>\n",
              "      <td>7733</td>\n",
              "      <td>6693897</td>\n",
              "      <td>3</td>\n",
              "    </tr>\n",
              "    <tr>\n",
              "      <th>431873</th>\n",
              "      <td>90271</td>\n",
              "      <td>33362113</td>\n",
              "      <td>3</td>\n",
              "    </tr>\n",
              "    <tr>\n",
              "      <th>431874</th>\n",
              "      <td>14333</td>\n",
              "      <td>3164587</td>\n",
              "      <td>2</td>\n",
              "    </tr>\n",
              "    <tr>\n",
              "      <th>431875</th>\n",
              "      <td>14333</td>\n",
              "      <td>33751823</td>\n",
              "      <td>2</td>\n",
              "    </tr>\n",
              "    <tr>\n",
              "      <th>431876</th>\n",
              "      <td>21743</td>\n",
              "      <td>28098806</td>\n",
              "      <td>40</td>\n",
              "    </tr>\n",
              "  </tbody>\n",
              "</table>\n",
              "<p>431877 rows × 3 columns</p>\n",
              "</div>\n",
              "      <button class=\"colab-df-convert\" onclick=\"convertToInteractive('df-5e4c3f0c-ef2f-416c-a8cb-1d6ff7b8fb16')\"\n",
              "              title=\"Convert this dataframe to an interactive table.\"\n",
              "              style=\"display:none;\">\n",
              "        \n",
              "  <svg xmlns=\"http://www.w3.org/2000/svg\" height=\"24px\"viewBox=\"0 0 24 24\"\n",
              "       width=\"24px\">\n",
              "    <path d=\"M0 0h24v24H0V0z\" fill=\"none\"/>\n",
              "    <path d=\"M18.56 5.44l.94 2.06.94-2.06 2.06-.94-2.06-.94-.94-2.06-.94 2.06-2.06.94zm-11 1L8.5 8.5l.94-2.06 2.06-.94-2.06-.94L8.5 2.5l-.94 2.06-2.06.94zm10 10l.94 2.06.94-2.06 2.06-.94-2.06-.94-.94-2.06-.94 2.06-2.06.94z\"/><path d=\"M17.41 7.96l-1.37-1.37c-.4-.4-.92-.59-1.43-.59-.52 0-1.04.2-1.43.59L10.3 9.45l-7.72 7.72c-.78.78-.78 2.05 0 2.83L4 21.41c.39.39.9.59 1.41.59.51 0 1.02-.2 1.41-.59l7.78-7.78 2.81-2.81c.8-.78.8-2.07 0-2.86zM5.41 20L4 18.59l7.72-7.72 1.47 1.35L5.41 20z\"/>\n",
              "  </svg>\n",
              "      </button>\n",
              "      \n",
              "  <style>\n",
              "    .colab-df-container {\n",
              "      display:flex;\n",
              "      flex-wrap:wrap;\n",
              "      gap: 12px;\n",
              "    }\n",
              "\n",
              "    .colab-df-convert {\n",
              "      background-color: #E8F0FE;\n",
              "      border: none;\n",
              "      border-radius: 50%;\n",
              "      cursor: pointer;\n",
              "      display: none;\n",
              "      fill: #1967D2;\n",
              "      height: 32px;\n",
              "      padding: 0 0 0 0;\n",
              "      width: 32px;\n",
              "    }\n",
              "\n",
              "    .colab-df-convert:hover {\n",
              "      background-color: #E2EBFA;\n",
              "      box-shadow: 0px 1px 2px rgba(60, 64, 67, 0.3), 0px 1px 3px 1px rgba(60, 64, 67, 0.15);\n",
              "      fill: #174EA6;\n",
              "    }\n",
              "\n",
              "    [theme=dark] .colab-df-convert {\n",
              "      background-color: #3B4455;\n",
              "      fill: #D2E3FC;\n",
              "    }\n",
              "\n",
              "    [theme=dark] .colab-df-convert:hover {\n",
              "      background-color: #434B5C;\n",
              "      box-shadow: 0px 1px 3px 1px rgba(0, 0, 0, 0.15);\n",
              "      filter: drop-shadow(0px 1px 2px rgba(0, 0, 0, 0.3));\n",
              "      fill: #FFFFFF;\n",
              "    }\n",
              "  </style>\n",
              "\n",
              "      <script>\n",
              "        const buttonEl =\n",
              "          document.querySelector('#df-5e4c3f0c-ef2f-416c-a8cb-1d6ff7b8fb16 button.colab-df-convert');\n",
              "        buttonEl.style.display =\n",
              "          google.colab.kernel.accessAllowed ? 'block' : 'none';\n",
              "\n",
              "        async function convertToInteractive(key) {\n",
              "          const element = document.querySelector('#df-5e4c3f0c-ef2f-416c-a8cb-1d6ff7b8fb16');\n",
              "          const dataTable =\n",
              "            await google.colab.kernel.invokeFunction('convertToInteractive',\n",
              "                                                     [key], {});\n",
              "          if (!dataTable) return;\n",
              "\n",
              "          const docLinkHtml = 'Like what you see? Visit the ' +\n",
              "            '<a target=\"_blank\" href=https://colab.research.google.com/notebooks/data_table.ipynb>data table notebook</a>'\n",
              "            + ' to learn more about interactive tables.';\n",
              "          element.innerHTML = '';\n",
              "          dataTable['output_type'] = 'display_data';\n",
              "          await google.colab.output.renderOutput(dataTable, element);\n",
              "          const docLink = document.createElement('div');\n",
              "          docLink.innerHTML = docLinkHtml;\n",
              "          element.appendChild(docLink);\n",
              "        }\n",
              "      </script>\n",
              "    </div>\n",
              "  </div>\n",
              "  "
            ]
          },
          "metadata": {},
          "execution_count": 7
        }
      ]
    },
    {
      "cell_type": "code",
      "execution_count": null,
      "metadata": {
        "id": "ZLT9a8oHXhwr"
      },
      "outputs": [],
      "source": [
        "# filter out playcount 1\n",
        "data_interaction = data_interaction[data_interaction['count'] != 1]"
      ]
    },
    {
      "cell_type": "code",
      "source": [
        "# data_interaction.loc[data_interaction['count']<4., 'count'] = 0.\n",
        "# data_interaction.loc[data_interaction['count']>=4., 'count'] = 1."
      ],
      "metadata": {
        "id": "M6Kgjib426p4"
      },
      "execution_count": null,
      "outputs": []
    },
    {
      "cell_type": "code",
      "source": [
        "data_interaction"
      ],
      "metadata": {
        "id": "GrAmR2Yzc3F2",
        "outputId": "a93c221a-7399-40eb-ec01-0a88e91cbf94",
        "colab": {
          "base_uri": "https://localhost:8080/",
          "height": 424
        }
      },
      "execution_count": null,
      "outputs": [
        {
          "output_type": "execute_result",
          "data": {
            "text/plain": [
              "        user_id  track_id  count\n",
              "0         11095   6258001      2\n",
              "1         22431   6258001      6\n",
              "2         84649   6258001      2\n",
              "3         40037   6258001      8\n",
              "4         41988   6258001     14\n",
              "...         ...       ...    ...\n",
              "431872     7733   6693897      3\n",
              "431873    90271  33362113      3\n",
              "431874    14333   3164587      2\n",
              "431875    14333  33751823      2\n",
              "431876    21743  28098806     40\n",
              "\n",
              "[431877 rows x 3 columns]"
            ],
            "text/html": [
              "\n",
              "  <div id=\"df-90e95b07-b0d0-40e1-8838-2f40de78affa\">\n",
              "    <div class=\"colab-df-container\">\n",
              "      <div>\n",
              "<style scoped>\n",
              "    .dataframe tbody tr th:only-of-type {\n",
              "        vertical-align: middle;\n",
              "    }\n",
              "\n",
              "    .dataframe tbody tr th {\n",
              "        vertical-align: top;\n",
              "    }\n",
              "\n",
              "    .dataframe thead th {\n",
              "        text-align: right;\n",
              "    }\n",
              "</style>\n",
              "<table border=\"1\" class=\"dataframe\">\n",
              "  <thead>\n",
              "    <tr style=\"text-align: right;\">\n",
              "      <th></th>\n",
              "      <th>user_id</th>\n",
              "      <th>track_id</th>\n",
              "      <th>count</th>\n",
              "    </tr>\n",
              "  </thead>\n",
              "  <tbody>\n",
              "    <tr>\n",
              "      <th>0</th>\n",
              "      <td>11095</td>\n",
              "      <td>6258001</td>\n",
              "      <td>2</td>\n",
              "    </tr>\n",
              "    <tr>\n",
              "      <th>1</th>\n",
              "      <td>22431</td>\n",
              "      <td>6258001</td>\n",
              "      <td>6</td>\n",
              "    </tr>\n",
              "    <tr>\n",
              "      <th>2</th>\n",
              "      <td>84649</td>\n",
              "      <td>6258001</td>\n",
              "      <td>2</td>\n",
              "    </tr>\n",
              "    <tr>\n",
              "      <th>3</th>\n",
              "      <td>40037</td>\n",
              "      <td>6258001</td>\n",
              "      <td>8</td>\n",
              "    </tr>\n",
              "    <tr>\n",
              "      <th>4</th>\n",
              "      <td>41988</td>\n",
              "      <td>6258001</td>\n",
              "      <td>14</td>\n",
              "    </tr>\n",
              "    <tr>\n",
              "      <th>...</th>\n",
              "      <td>...</td>\n",
              "      <td>...</td>\n",
              "      <td>...</td>\n",
              "    </tr>\n",
              "    <tr>\n",
              "      <th>431872</th>\n",
              "      <td>7733</td>\n",
              "      <td>6693897</td>\n",
              "      <td>3</td>\n",
              "    </tr>\n",
              "    <tr>\n",
              "      <th>431873</th>\n",
              "      <td>90271</td>\n",
              "      <td>33362113</td>\n",
              "      <td>3</td>\n",
              "    </tr>\n",
              "    <tr>\n",
              "      <th>431874</th>\n",
              "      <td>14333</td>\n",
              "      <td>3164587</td>\n",
              "      <td>2</td>\n",
              "    </tr>\n",
              "    <tr>\n",
              "      <th>431875</th>\n",
              "      <td>14333</td>\n",
              "      <td>33751823</td>\n",
              "      <td>2</td>\n",
              "    </tr>\n",
              "    <tr>\n",
              "      <th>431876</th>\n",
              "      <td>21743</td>\n",
              "      <td>28098806</td>\n",
              "      <td>40</td>\n",
              "    </tr>\n",
              "  </tbody>\n",
              "</table>\n",
              "<p>431877 rows × 3 columns</p>\n",
              "</div>\n",
              "      <button class=\"colab-df-convert\" onclick=\"convertToInteractive('df-90e95b07-b0d0-40e1-8838-2f40de78affa')\"\n",
              "              title=\"Convert this dataframe to an interactive table.\"\n",
              "              style=\"display:none;\">\n",
              "        \n",
              "  <svg xmlns=\"http://www.w3.org/2000/svg\" height=\"24px\"viewBox=\"0 0 24 24\"\n",
              "       width=\"24px\">\n",
              "    <path d=\"M0 0h24v24H0V0z\" fill=\"none\"/>\n",
              "    <path d=\"M18.56 5.44l.94 2.06.94-2.06 2.06-.94-2.06-.94-.94-2.06-.94 2.06-2.06.94zm-11 1L8.5 8.5l.94-2.06 2.06-.94-2.06-.94L8.5 2.5l-.94 2.06-2.06.94zm10 10l.94 2.06.94-2.06 2.06-.94-2.06-.94-.94-2.06-.94 2.06-2.06.94z\"/><path d=\"M17.41 7.96l-1.37-1.37c-.4-.4-.92-.59-1.43-.59-.52 0-1.04.2-1.43.59L10.3 9.45l-7.72 7.72c-.78.78-.78 2.05 0 2.83L4 21.41c.39.39.9.59 1.41.59.51 0 1.02-.2 1.41-.59l7.78-7.78 2.81-2.81c.8-.78.8-2.07 0-2.86zM5.41 20L4 18.59l7.72-7.72 1.47 1.35L5.41 20z\"/>\n",
              "  </svg>\n",
              "      </button>\n",
              "      \n",
              "  <style>\n",
              "    .colab-df-container {\n",
              "      display:flex;\n",
              "      flex-wrap:wrap;\n",
              "      gap: 12px;\n",
              "    }\n",
              "\n",
              "    .colab-df-convert {\n",
              "      background-color: #E8F0FE;\n",
              "      border: none;\n",
              "      border-radius: 50%;\n",
              "      cursor: pointer;\n",
              "      display: none;\n",
              "      fill: #1967D2;\n",
              "      height: 32px;\n",
              "      padding: 0 0 0 0;\n",
              "      width: 32px;\n",
              "    }\n",
              "\n",
              "    .colab-df-convert:hover {\n",
              "      background-color: #E2EBFA;\n",
              "      box-shadow: 0px 1px 2px rgba(60, 64, 67, 0.3), 0px 1px 3px 1px rgba(60, 64, 67, 0.15);\n",
              "      fill: #174EA6;\n",
              "    }\n",
              "\n",
              "    [theme=dark] .colab-df-convert {\n",
              "      background-color: #3B4455;\n",
              "      fill: #D2E3FC;\n",
              "    }\n",
              "\n",
              "    [theme=dark] .colab-df-convert:hover {\n",
              "      background-color: #434B5C;\n",
              "      box-shadow: 0px 1px 3px 1px rgba(0, 0, 0, 0.15);\n",
              "      filter: drop-shadow(0px 1px 2px rgba(0, 0, 0, 0.3));\n",
              "      fill: #FFFFFF;\n",
              "    }\n",
              "  </style>\n",
              "\n",
              "      <script>\n",
              "        const buttonEl =\n",
              "          document.querySelector('#df-90e95b07-b0d0-40e1-8838-2f40de78affa button.colab-df-convert');\n",
              "        buttonEl.style.display =\n",
              "          google.colab.kernel.accessAllowed ? 'block' : 'none';\n",
              "\n",
              "        async function convertToInteractive(key) {\n",
              "          const element = document.querySelector('#df-90e95b07-b0d0-40e1-8838-2f40de78affa');\n",
              "          const dataTable =\n",
              "            await google.colab.kernel.invokeFunction('convertToInteractive',\n",
              "                                                     [key], {});\n",
              "          if (!dataTable) return;\n",
              "\n",
              "          const docLinkHtml = 'Like what you see? Visit the ' +\n",
              "            '<a target=\"_blank\" href=https://colab.research.google.com/notebooks/data_table.ipynb>data table notebook</a>'\n",
              "            + ' to learn more about interactive tables.';\n",
              "          element.innerHTML = '';\n",
              "          dataTable['output_type'] = 'display_data';\n",
              "          await google.colab.output.renderOutput(dataTable, element);\n",
              "          const docLink = document.createElement('div');\n",
              "          docLink.innerHTML = docLinkHtml;\n",
              "          element.appendChild(docLink);\n",
              "        }\n",
              "      </script>\n",
              "    </div>\n",
              "  </div>\n",
              "  "
            ]
          },
          "metadata": {},
          "execution_count": 10
        }
      ]
    },
    {
      "cell_type": "code",
      "source": [
        "# filter out users with too little playcount\n",
        "df_per_users = data_interaction.groupby(['user_id']).size().reset_index(name='counts')\n",
        "users = df_per_users[df_per_users['counts'] >= 25]['user_id'].values\n",
        "data_interaction = data_interaction[data_interaction['user_id'].isin(users)]"
      ],
      "metadata": {
        "id": "wHAKeNfsPNDs"
      },
      "execution_count": null,
      "outputs": []
    },
    {
      "cell_type": "code",
      "source": [
        "# filter out tracks with too little playcount\n",
        "df_per_track = data_interaction.groupby(['track_id']).size().reset_index(name='counts')\n",
        "tracks = df_per_track[df_per_track['counts'] >= 25]['track_id'].values\n",
        "data_interaction = data_interaction[data_interaction['track_id'].isin(tracks)]"
      ],
      "metadata": {
        "id": "PMgXFuqUPMql"
      },
      "execution_count": null,
      "outputs": []
    },
    {
      "cell_type": "code",
      "source": [
        "data_interaction_plot = data_interaction.copy()"
      ],
      "metadata": {
        "id": "Nbgpps2vMBah"
      },
      "execution_count": null,
      "outputs": []
    },
    {
      "cell_type": "code",
      "source": [
        "data_interaction.loc[data_interaction['count']>=2., 'count'] = 1."
      ],
      "metadata": {
        "id": "B-MSN3VPML30"
      },
      "execution_count": null,
      "outputs": []
    },
    {
      "cell_type": "markdown",
      "metadata": {
        "id": "ylBY96MuqFyc"
      },
      "source": [
        "## CV and balance data set"
      ]
    },
    {
      "cell_type": "code",
      "source": [
        "# add negative samples\n",
        "import random\n",
        "random.seed(123)\n",
        "data_interaction_new = pd.DataFrame(columns = data_interaction.columns)\n",
        "for user_id,df in data_interaction.groupby('user_id'):\n",
        "  n_diff = len(df[df['count'] >= 1]) - len(df[df['count'] == 0])\n",
        "  if n_diff > 1:\n",
        "    df_tmp = df.merge(data_interaction[['track_id']], how = 'right')\n",
        "    neg_list = random.sample(list(df_tmp[np.isnan(df_tmp.user_id)].track_id.values), n_diff)\n",
        "    df_neg = pd.DataFrame({'user_id': user_id, 'track_id':neg_list, 'count':0})\n",
        "    data_interaction_new=data_interaction_new.append(df)\n",
        "    data_interaction_new=data_interaction_new.append(df_neg)\n",
        "  else:\n",
        "    data_interaction_new = data_interaction_new.append(df)\n",
        "\n",
        "data_interaction_new = shuffle(data_interaction_new)"
      ],
      "metadata": {
        "id": "xQxTlqXGZqYo"
      },
      "execution_count": null,
      "outputs": []
    },
    {
      "cell_type": "code",
      "source": [
        "# data_interaction_new = data_interaction\n",
        "# data_interaction_new = shuffle(data_interaction_new)"
      ],
      "metadata": {
        "id": "ORDXqILwhCc4"
      },
      "execution_count": null,
      "outputs": []
    },
    {
      "cell_type": "code",
      "execution_count": null,
      "metadata": {
        "id": "vgNXpip-7pN6"
      },
      "outputs": [],
      "source": [
        "data_interaction_new = data_interaction_new.merge(data_tracks_tags_lyrics[['track_id', 'lyrics_cleaned', 'tags', 'abstract']]).drop_duplicates()"
      ]
    },
    {
      "cell_type": "code",
      "execution_count": null,
      "metadata": {
        "id": "n2XOZyN3LZte"
      },
      "outputs": [],
      "source": [
        "data_tracks_tags_lyrics = data_tracks_tags_lyrics.merge(data_interaction_new[['track_id']]).drop_duplicates()"
      ]
    },
    {
      "cell_type": "code",
      "execution_count": null,
      "metadata": {
        "id": "MR65uPJ6qE9R"
      },
      "outputs": [],
      "source": [
        "np.random.seed(123)\n",
        "data_interaction_new['fold'] = np.random.randint(1, 6, data_interaction_new.shape[0])"
      ]
    },
    {
      "cell_type": "code",
      "source": [
        "test_fold = 1\n",
        "val_fold = 2\n",
        "\n",
        "data_interaction_train = data_interaction_new.loc[((data_interaction_new.fold != test_fold) & (data_interaction_new.fold != val_fold)), ['user_id', 'track_id', 'count', 'lyrics_cleaned', 'tags', 'abstract']]\n",
        "data_interaction_test = data_interaction_new.loc[data_interaction_new.fold == test_fold, ['user_id', 'track_id', 'count', 'lyrics_cleaned', 'tags', 'abstract']]\n",
        "data_interaction_val = data_interaction_new.loc[data_interaction_new.fold == val_fold,  ['user_id', 'track_id', 'count', 'lyrics_cleaned', 'tags', 'abstract']]"
      ],
      "metadata": {
        "id": "StCFnT0dTifD"
      },
      "execution_count": null,
      "outputs": []
    },
    {
      "cell_type": "code",
      "execution_count": null,
      "metadata": {
        "id": "kVsfyhSr7IcO"
      },
      "outputs": [],
      "source": [
        "# itermin solution (maybe change later)\n",
        "selected_user = []\n",
        "data_interaction_test_new = pd.DataFrame()\n",
        "for user_id,df in data_interaction_test.groupby('user_id'):\n",
        "  if len(df[df['count'] > 0]) >= 10:\n",
        "    df_tmp = df.merge(data_interaction_new[['track_id']].drop_duplicates(), how = 'right').drop_duplicates()\n",
        "    items_to_ignore = data_interaction_train[(data_interaction_train['user_id'] == user_id) & (data_interaction_train['count'] > 0)]['track_id'].values\n",
        "    df_tmp = df_tmp[~df_tmp['track_id'].isin(items_to_ignore)]\n",
        "    neg_list = list(set(df_tmp.loc[df_tmp.isna().any(axis=1),].track_id.values))\n",
        "    df_neg = pd.DataFrame({'user_id': user_id, 'track_id':neg_list, 'count':0})\n",
        "    data_interaction_test_new=data_interaction_test_new.append(df_neg)\n",
        "    data_interaction_test_new=data_interaction_test_new.append(df)\n",
        "    selected_user.append(user_id)\n",
        "    \n",
        "  \n",
        "data_interaction_test = data_interaction_test_new\n",
        "data_interaction_test = data_interaction_test[['user_id', 'track_id', 'count']].merge(data_tracks_tags_lyrics[['track_id', 'lyrics_cleaned', 'tags', 'abstract']], on = 'track_id', how = 'left').drop_duplicates()\n",
        "data_interaction_test = data_interaction_test.loc[(data_interaction_test.user_id.isin(selected_user))]\n",
        "data_interaction_test = shuffle(data_interaction_test)"
      ]
    },
    {
      "cell_type": "code",
      "source": [
        "dir = \"preprocessed_data_binary/\""
      ],
      "metadata": {
        "id": "EwgW4wJSVwJJ"
      },
      "execution_count": null,
      "outputs": []
    },
    {
      "cell_type": "code",
      "source": [
        "data_interaction_test.to_csv(dir + 'data_interaction_test.csv', encoding = 'utf-8-sig') "
      ],
      "metadata": {
        "id": "65qGrYJgo0E7"
      },
      "execution_count": null,
      "outputs": []
    },
    {
      "cell_type": "code",
      "source": [
        "data_interaction_test.to_csv(dir + 'data_interaction_test.csv', encoding = 'utf-8-sig') \n",
        "data_interaction_train.to_csv(dir + 'data_interaction_train.csv', encoding = 'utf-8-sig') \n",
        "data_interaction_val.to_csv(dir + 'data_interaction_val.csv', encoding = 'utf-8-sig') \n",
        "\n",
        "data_interaction.to_csv(dir + 'data_interaction.csv', encoding = 'utf-8-sig') \n",
        "data_tracks_tags_lyrics.to_csv(dir + 'data_tracks_tags_lyrics.csv', encoding = 'utf-8-sig') "
      ],
      "metadata": {
        "id": "rr_zocjCVghq"
      },
      "execution_count": null,
      "outputs": []
    },
    {
      "cell_type": "markdown",
      "source": [
        "# Visualize data"
      ],
      "metadata": {
        "id": "leD52fqYM-FE"
      }
    },
    {
      "cell_type": "code",
      "source": [
        "dir = \"preprocessed_data_binary/\"\n",
        "\n",
        "data_interaction = pd.read_csv(dir + \"data_interaction.csv\").drop(['Unnamed: 0'],axis=1)\n",
        "data_tracks_tags_lyrics = pd.read_csv(dir + \"data_tracks_tags_lyrics.csv\").drop(['Unnamed: 0'],axis=1)\n",
        "data_interaction_test = pd.read_csv(dir + \"data_interaction_test.csv\").drop(['Unnamed: 0'],axis=1)\n",
        "data_interaction_train = pd.read_csv(dir + \"data_interaction_train.csv\").drop(['Unnamed: 0'],axis=1)\n",
        "data_interaction_val = pd.read_csv(dir + \"data_interaction_val.csv\").drop(['Unnamed: 0'],axis=1)"
      ],
      "metadata": {
        "id": "YNKMqcVMuYnw"
      },
      "execution_count": 5,
      "outputs": []
    },
    {
      "cell_type": "code",
      "source": [
        "data_interaction_plot.loc[data_interaction_plot['count']>=100., 'count'] = 100.\n",
        "plt.hist(data_interaction_plot['count'], 50, density=True, histtype='step', cumulative=True)\n",
        "plt.show()"
      ],
      "metadata": {
        "id": "q-M-viP8M_hg"
      },
      "execution_count": null,
      "outputs": []
    },
    {
      "cell_type": "code",
      "source": [
        "data_interaction_plot_per_user = data_interaction.groupby(['user_id']).size().reset_index(name='counts')\n",
        "plt.hist(data_interaction_plot_per_user['counts'], 100, density=True, histtype='step', cumulative=True)\n",
        "plt.show()"
      ],
      "metadata": {
        "colab": {
          "base_uri": "https://localhost:8080/",
          "height": 265
        },
        "id": "mXEdMd1CNa_W",
        "outputId": "493243d4-1e4c-4f88-eb3c-25b272629d7d"
      },
      "execution_count": null,
      "outputs": [
        {
          "output_type": "display_data",
          "data": {
            "text/plain": [
              "<Figure size 432x288 with 1 Axes>"
            ],
            "image/png": "[encoded data removed]"
          },
          "metadata": {}
        }
      ]
    },
    {
      "cell_type": "code",
      "source": [
        "plt.boxplot(data_interaction_plot_per_user['counts'])\n",
        "plt.show()"
      ],
      "metadata": {
        "colab": {
          "base_uri": "https://localhost:8080/",
          "height": 265
        },
        "id": "kJIT1V0tN6-q",
        "outputId": "61594db0-be88-44c5-de69-05477c4793b6"
      },
      "execution_count": null,
      "outputs": [
        {
          "output_type": "display_data",
          "data": {
            "text/plain": [
              "<Figure size 432x288 with 1 Axes>"
            ],
            "image/png": "[encoded data removed]"
          },
          "metadata": {}
        }
      ]
    },
    {
      "cell_type": "code",
      "source": [
        "data_interaction_plot_per_user[['counts']].describe()"
      ],
      "metadata": {
        "colab": {
          "base_uri": "https://localhost:8080/",
          "height": 300
        },
        "id": "1uTCR1EROVGp",
        "outputId": "a84ccd45-2394-4b46-edb0-43a11de68905"
      },
      "execution_count": null,
      "outputs": [
        {
          "output_type": "execute_result",
          "data": {
            "text/plain": [
              "            counts\n",
              "count  5486.000000\n",
              "mean     38.479584\n",
              "std      29.092783\n",
              "min       2.000000\n",
              "25%      22.000000\n",
              "50%      30.000000\n",
              "75%      45.000000\n",
              "max     449.000000"
            ],
            "text/html": [
              "\n",
              "  <div id=\"df-db087b67-5d34-452b-a498-0e9d12e69480\">\n",
              "    <div class=\"colab-df-container\">\n",
              "      <div>\n",
              "<style scoped>\n",
              "    .dataframe tbody tr th:only-of-type {\n",
              "        vertical-align: middle;\n",
              "    }\n",
              "\n",
              "    .dataframe tbody tr th {\n",
              "        vertical-align: top;\n",
              "    }\n",
              "\n",
              "    .dataframe thead th {\n",
              "        text-align: right;\n",
              "    }\n",
              "</style>\n",
              "<table border=\"1\" class=\"dataframe\">\n",
              "  <thead>\n",
              "    <tr style=\"text-align: right;\">\n",
              "      <th></th>\n",
              "      <th>counts</th>\n",
              "    </tr>\n",
              "  </thead>\n",
              "  <tbody>\n",
              "    <tr>\n",
              "      <th>count</th>\n",
              "      <td>5486.000000</td>\n",
              "    </tr>\n",
              "    <tr>\n",
              "      <th>mean</th>\n",
              "      <td>38.479584</td>\n",
              "    </tr>\n",
              "    <tr>\n",
              "      <th>std</th>\n",
              "      <td>29.092783</td>\n",
              "    </tr>\n",
              "    <tr>\n",
              "      <th>min</th>\n",
              "      <td>2.000000</td>\n",
              "    </tr>\n",
              "    <tr>\n",
              "      <th>25%</th>\n",
              "      <td>22.000000</td>\n",
              "    </tr>\n",
              "    <tr>\n",
              "      <th>50%</th>\n",
              "      <td>30.000000</td>\n",
              "    </tr>\n",
              "    <tr>\n",
              "      <th>75%</th>\n",
              "      <td>45.000000</td>\n",
              "    </tr>\n",
              "    <tr>\n",
              "      <th>max</th>\n",
              "      <td>449.000000</td>\n",
              "    </tr>\n",
              "  </tbody>\n",
              "</table>\n",
              "</div>\n",
              "      <button class=\"colab-df-convert\" onclick=\"convertToInteractive('df-db087b67-5d34-452b-a498-0e9d12e69480')\"\n",
              "              title=\"Convert this dataframe to an interactive table.\"\n",
              "              style=\"display:none;\">\n",
              "        \n",
              "  <svg xmlns=\"http://www.w3.org/2000/svg\" height=\"24px\"viewBox=\"0 0 24 24\"\n",
              "       width=\"24px\">\n",
              "    <path d=\"M0 0h24v24H0V0z\" fill=\"none\"/>\n",
              "    <path d=\"M18.56 5.44l.94 2.06.94-2.06 2.06-.94-2.06-.94-.94-2.06-.94 2.06-2.06.94zm-11 1L8.5 8.5l.94-2.06 2.06-.94-2.06-.94L8.5 2.5l-.94 2.06-2.06.94zm10 10l.94 2.06.94-2.06 2.06-.94-2.06-.94-.94-2.06-.94 2.06-2.06.94z\"/><path d=\"M17.41 7.96l-1.37-1.37c-.4-.4-.92-.59-1.43-.59-.52 0-1.04.2-1.43.59L10.3 9.45l-7.72 7.72c-.78.78-.78 2.05 0 2.83L4 21.41c.39.39.9.59 1.41.59.51 0 1.02-.2 1.41-.59l7.78-7.78 2.81-2.81c.8-.78.8-2.07 0-2.86zM5.41 20L4 18.59l7.72-7.72 1.47 1.35L5.41 20z\"/>\n",
              "  </svg>\n",
              "      </button>\n",
              "      \n",
              "  <style>\n",
              "    .colab-df-container {\n",
              "      display:flex;\n",
              "      flex-wrap:wrap;\n",
              "      gap: 12px;\n",
              "    }\n",
              "\n",
              "    .colab-df-convert {\n",
              "      background-color: #E8F0FE;\n",
              "      border: none;\n",
              "      border-radius: 50%;\n",
              "      cursor: pointer;\n",
              "      display: none;\n",
              "      fill: #1967D2;\n",
              "      height: 32px;\n",
              "      padding: 0 0 0 0;\n",
              "      width: 32px;\n",
              "    }\n",
              "\n",
              "    .colab-df-convert:hover {\n",
              "      background-color: #E2EBFA;\n",
              "      box-shadow: 0px 1px 2px rgba(60, 64, 67, 0.3), 0px 1px 3px 1px rgba(60, 64, 67, 0.15);\n",
              "      fill: #174EA6;\n",
              "    }\n",
              "\n",
              "    [theme=dark] .colab-df-convert {\n",
              "      background-color: #3B4455;\n",
              "      fill: #D2E3FC;\n",
              "    }\n",
              "\n",
              "    [theme=dark] .colab-df-convert:hover {\n",
              "      background-color: #434B5C;\n",
              "      box-shadow: 0px 1px 3px 1px rgba(0, 0, 0, 0.15);\n",
              "      filter: drop-shadow(0px 1px 2px rgba(0, 0, 0, 0.3));\n",
              "      fill: #FFFFFF;\n",
              "    }\n",
              "  </style>\n",
              "\n",
              "      <script>\n",
              "        const buttonEl =\n",
              "          document.querySelector('#df-db087b67-5d34-452b-a498-0e9d12e69480 button.colab-df-convert');\n",
              "        buttonEl.style.display =\n",
              "          google.colab.kernel.accessAllowed ? 'block' : 'none';\n",
              "\n",
              "        async function convertToInteractive(key) {\n",
              "          const element = document.querySelector('#df-db087b67-5d34-452b-a498-0e9d12e69480');\n",
              "          const dataTable =\n",
              "            await google.colab.kernel.invokeFunction('convertToInteractive',\n",
              "                                                     [key], {});\n",
              "          if (!dataTable) return;\n",
              "\n",
              "          const docLinkHtml = 'Like what you see? Visit the ' +\n",
              "            '<a target=\"_blank\" href=https://colab.research.google.com/notebooks/data_table.ipynb>data table notebook</a>'\n",
              "            + ' to learn more about interactive tables.';\n",
              "          element.innerHTML = '';\n",
              "          dataTable['output_type'] = 'display_data';\n",
              "          await google.colab.output.renderOutput(dataTable, element);\n",
              "          const docLink = document.createElement('div');\n",
              "          docLink.innerHTML = docLinkHtml;\n",
              "          element.appendChild(docLink);\n",
              "        }\n",
              "      </script>\n",
              "    </div>\n",
              "  </div>\n",
              "  "
            ]
          },
          "metadata": {},
          "execution_count": 150
        }
      ]
    },
    {
      "cell_type": "markdown",
      "source": [
        "# Data statistics"
      ],
      "metadata": {
        "id": "HTyTllhDEzMB"
      }
    },
    {
      "cell_type": "code",
      "source": [
        "# Unique numbers\n",
        "print(\"Unique users: \", len(data_interaction.user_id.unique()))\n",
        "print(\"Unique tracks: \", len(data_interaction.track_id.unique()))\n",
        "print(\"Unique artists: \", len(data_tracks_tags_lyrics.track_artist.unique()))\n",
        "print(\"Listening events: \", len(data_interaction))\n"
      ],
      "metadata": {
        "colab": {
          "base_uri": "https://localhost:8080/"
        },
        "id": "PXFKx3-NE0u3",
        "outputId": "d03c76a4-060d-4ebc-9aca-20faf75a024f"
      },
      "execution_count": 7,
      "outputs": [
        {
          "output_type": "stream",
          "name": "stdout",
          "text": [
            "Unique users:  5486\n",
            "Unique tracks:  3214\n",
            "Unique artists:  886\n",
            "Listening events:  211099\n"
          ]
        }
      ]
    },
    {
      "cell_type": "code",
      "source": [
        "# User gender split\n",
        "data_all_info = pd.read_csv(\"music/data_all_info.txt\", sep=\"\\t\").drop(['Unnamed: 0'],axis=1)\n",
        "data_user = pd.read_csv(\"music/data_user.txt\", sep=\"\\t\").drop(['Unnamed: 0'],axis=1)\n",
        "data_user.columns = ['user_id', 'gender_user']\n",
        "data_interaction.merge(data_user)[['user_id', 'gender_user']].drop_duplicates()[['gender_user']].value_counts()"
      ],
      "metadata": {
        "colab": {
          "base_uri": "https://localhost:8080/"
        },
        "id": "7_uJ2KnCFR02",
        "outputId": "3610324c-405c-4d40-975b-b6d6b6729888"
      },
      "execution_count": 8,
      "outputs": [
        {
          "output_type": "execute_result",
          "data": {
            "text/plain": [
              "gender_user\n",
              "m              4560\n",
              "f               926\n",
              "dtype: int64"
            ]
          },
          "metadata": {},
          "execution_count": 8
        }
      ]
    },
    {
      "cell_type": "code",
      "source": [
        "data_interaction.merge(data_user)[['user_id', 'gender_user']].drop_duplicates()[['gender_user']].value_counts() / len(data_interaction.user_id.unique())"
      ],
      "metadata": {
        "id": "M8vPm13XWudE",
        "outputId": "f1b24624-ace6-4abd-84f7-f8a9cc867bd7",
        "colab": {
          "base_uri": "https://localhost:8080/"
        }
      },
      "execution_count": 9,
      "outputs": [
        {
          "output_type": "execute_result",
          "data": {
            "text/plain": [
              "gender_user\n",
              "m              0.831207\n",
              "f              0.168793\n",
              "dtype: float64"
            ]
          },
          "metadata": {},
          "execution_count": 9
        }
      ]
    },
    {
      "cell_type": "code",
      "source": [
        "# Artist gender split\n",
        "data_interaction.merge(data_all_info)[['track_artist', 'gender_artist']].drop_duplicates()[['gender_artist']].value_counts()"
      ],
      "metadata": {
        "colab": {
          "base_uri": "https://localhost:8080/"
        },
        "id": "7TTyh8g9Fo-m",
        "outputId": "aece2588-8e88-48a5-e5d8-906f8f568d15"
      },
      "execution_count": 10,
      "outputs": [
        {
          "output_type": "execute_result",
          "data": {
            "text/plain": [
              "gender_artist\n",
              "male             705\n",
              "female           181\n",
              "dtype: int64"
            ]
          },
          "metadata": {},
          "execution_count": 10
        }
      ]
    },
    {
      "cell_type": "code",
      "source": [
        "data_interaction.merge(data_all_info)[['track_artist', 'gender_artist']].drop_duplicates()[['gender_artist']].value_counts() / len(data_tracks_tags_lyrics.track_artist.unique())"
      ],
      "metadata": {
        "id": "9wsK5FbvXX0-",
        "outputId": "6e60f65b-b0be-4c9a-a57a-efc0fa9a50e2",
        "colab": {
          "base_uri": "https://localhost:8080/"
        }
      },
      "execution_count": 11,
      "outputs": [
        {
          "output_type": "execute_result",
          "data": {
            "text/plain": [
              "gender_artist\n",
              "male             0.795711\n",
              "female           0.204289\n",
              "dtype: float64"
            ]
          },
          "metadata": {},
          "execution_count": 11
        }
      ]
    },
    {
      "cell_type": "code",
      "source": [
        "# Track gender split\n",
        "data_interaction.merge(data_all_info)[['track_id', 'gender_artist']].drop_duplicates()[['gender_artist']].value_counts()"
      ],
      "metadata": {
        "id": "wFCiRFVrvhtQ",
        "outputId": "6f867d98-84f4-4867-eb6b-612b596d1e90",
        "colab": {
          "base_uri": "https://localhost:8080/"
        }
      },
      "execution_count": 12,
      "outputs": [
        {
          "output_type": "execute_result",
          "data": {
            "text/plain": [
              "gender_artist\n",
              "male             2740\n",
              "female            474\n",
              "dtype: int64"
            ]
          },
          "metadata": {},
          "execution_count": 12
        }
      ]
    },
    {
      "cell_type": "code",
      "source": [
        "data_interaction.merge(data_all_info)[['track_id', 'gender_artist']].drop_duplicates()[['gender_artist']].value_counts() / len(data_tracks_tags_lyrics.track_id.unique())"
      ],
      "metadata": {
        "id": "QoobNGMJvmgg",
        "outputId": "b7988931-a957-4a5e-8573-44dfa17074d4",
        "colab": {
          "base_uri": "https://localhost:8080/"
        }
      },
      "execution_count": 14,
      "outputs": [
        {
          "output_type": "execute_result",
          "data": {
            "text/plain": [
              "gender_artist\n",
              "male             0.85252\n",
              "female           0.14748\n",
              "dtype: float64"
            ]
          },
          "metadata": {},
          "execution_count": 14
        }
      ]
    },
    {
      "cell_type": "code",
      "source": [
        "# Artist gender split in listening events\n",
        "data_interaction.merge(data_all_info).drop_duplicates()[['gender_artist']].value_counts()\n"
      ],
      "metadata": {
        "colab": {
          "base_uri": "https://localhost:8080/"
        },
        "id": "bMubFDLVFq5f",
        "outputId": "a3fd05c0-3828-4903-e037-12a634a82363"
      },
      "execution_count": 17,
      "outputs": [
        {
          "output_type": "execute_result",
          "data": {
            "text/plain": [
              "gender_artist\n",
              "male             179932\n",
              "female            31286\n",
              "dtype: int64"
            ]
          },
          "metadata": {},
          "execution_count": 17
        }
      ]
    },
    {
      "cell_type": "code",
      "source": [
        "data_interaction.merge(data_all_info)[['gender_artist']].value_counts() / len(data_interaction)"
      ],
      "metadata": {
        "id": "oBW9E67JJTl5",
        "outputId": "066cfc63-a4a1-430b-df03-16aadc0ca36d",
        "colab": {
          "base_uri": "https://localhost:8080/"
        }
      },
      "execution_count": null,
      "outputs": [
        {
          "output_type": "execute_result",
          "data": {
            "text/plain": [
              "gender_artist\n",
              "male             0.861090\n",
              "female           0.182586\n",
              "dtype: float64"
            ]
          },
          "metadata": {},
          "execution_count": 49
        }
      ]
    },
    {
      "cell_type": "code",
      "source": [
        "# User gender vs artist gender in listening events\n",
        "df = data_interaction.merge(data_all_info[[\"track_id\",\t\"track_artist\",\t\"gender_artist\"]]).merge(data_user).drop_duplicates()\n",
        "df.gender_artist.groupby([df.gender_user, df.gender_artist]).count() / len(df) * 100"
      ],
      "metadata": {
        "colab": {
          "base_uri": "https://localhost:8080/"
        },
        "id": "TUCgj7VpFuG-",
        "outputId": "811b277d-0d79-466b-d2a1-ed53d6a02d57"
      },
      "execution_count": 91,
      "outputs": [
        {
          "output_type": "execute_result",
          "data": {
            "text/plain": [
              "gender_user  gender_artist\n",
              "f            female            3.340613\n",
              "             male             10.359594\n",
              "m            female           11.479922\n",
              "             male             74.819871\n",
              "Name: gender_artist, dtype: float64"
            ]
          },
          "metadata": {},
          "execution_count": 91
        }
      ]
    },
    {
      "cell_type": "code",
      "source": [
        "df[['gender_user']].value_counts() / len(df) * 100"
      ],
      "metadata": {
        "colab": {
          "base_uri": "https://localhost:8080/"
        },
        "id": "obao_p5CJDrn",
        "outputId": "3383fecc-10e3-4d9d-dc35-0f9ba3ec1694"
      },
      "execution_count": 92,
      "outputs": [
        {
          "output_type": "execute_result",
          "data": {
            "text/plain": [
              "gender_user\n",
              "m              86.299793\n",
              "f              13.700207\n",
              "dtype: float64"
            ]
          },
          "metadata": {},
          "execution_count": 92
        }
      ]
    },
    {
      "cell_type": "code",
      "source": [
        "df[['gender_artist']].value_counts() / len(df) * 100"
      ],
      "metadata": {
        "id": "6Ch5K-sw0otn",
        "outputId": "0a20273a-5c4a-40d0-fee3-791eaf41c9f3",
        "colab": {
          "base_uri": "https://localhost:8080/"
        }
      },
      "execution_count": 93,
      "outputs": [
        {
          "output_type": "execute_result",
          "data": {
            "text/plain": [
              "gender_artist\n",
              "male             85.179466\n",
              "female           14.820534\n",
              "dtype: float64"
            ]
          },
          "metadata": {},
          "execution_count": 93
        }
      ]
    },
    {
      "cell_type": "code",
      "source": [
        "# Plot: Distribution of listening events per artist gender (x-axis number of listening events, y-axis number of tracks, split up by gender)\n",
        "df_female = df[df.gender_user == \"f\"]\n",
        "df_female = df_female.groupby(['user_id']).size().reset_index(name='counts')\n",
        "df_male = df[df.gender_user == \"m\"]\n",
        "df_male = df_male.groupby(['user_id']).size().reset_index(name='counts')\n",
        "sns.kdeplot(df_male['counts'], bw=0.5, label=f\"male (median = {df_male['counts'].median()})\")\n",
        "sns.kdeplot(df_female['counts'], bw=0.5, label=f\"female (median = {df_female['counts'].median()})\")\n",
        "plt.legend()\n",
        "plt.title(\"Number of listening events per user gender\")"
      ],
      "metadata": {
        "id": "KJjuBVfvGCSA"
      },
      "execution_count": null,
      "outputs": []
    },
    {
      "cell_type": "code",
      "source": [
        "df_female = df[df.gender_user == \"f\"]\n",
        "df_female = df_female.groupby(['track_artist']).size().reset_index(name='counts')\n",
        "df_female.loc[df_female['counts']>500, 'counts'] = 500\n",
        "df_male = df[df.gender_user == \"m\"]\n",
        "df_male = df_male.groupby(['track_artist']).size().reset_index(name='counts')\n",
        "df_male.loc[df_male['counts']>500, 'counts'] = 500\n",
        "sns.kdeplot(df_male['counts'], bw=0.5, label=f\"male (median = {df_male['counts'].median()})\")\n",
        "sns.kdeplot(df_female['counts'], bw=0.5, label=f\"female (median = {df_female['counts'].median()})\")\n",
        "plt.legend()\n",
        "plt.title(\"Number of listening events per artist gender\")"
      ],
      "metadata": {
        "colab": {
          "base_uri": "https://localhost:8080/",
          "height": 402
        },
        "id": "ugV0MxWnMKZs",
        "outputId": "6be4feee-9781-4dda-d7f6-19815d51ba16"
      },
      "execution_count": null,
      "outputs": [
        {
          "output_type": "stream",
          "name": "stderr",
          "text": [
            "/usr/local/lib/python3.7/dist-packages/seaborn/distributions.py:1699: FutureWarning: The `bw` parameter is deprecated in favor of `bw_method` and `bw_adjust`. Using 0.5 for `bw_method`, but please see the docs for the new parameters and update your code.\n",
            "  warnings.warn(msg, FutureWarning)\n",
            "/usr/local/lib/python3.7/dist-packages/seaborn/distributions.py:1699: FutureWarning: The `bw` parameter is deprecated in favor of `bw_method` and `bw_adjust`. Using 0.5 for `bw_method`, but please see the docs for the new parameters and update your code.\n",
            "  warnings.warn(msg, FutureWarning)\n"
          ]
        },
        {
          "output_type": "execute_result",
          "data": {
            "text/plain": [
              "Text(0.5, 1.0, 'Number of listening events per artist gender')"
            ]
          },
          "metadata": {},
          "execution_count": 169
        },
        {
          "output_type": "display_data",
          "data": {
            "text/plain": [
              "<Figure size 432x288 with 1 Axes>"
            ],
            "image/png": "[encoded data removed]"
          },
          "metadata": {}
        }
      ]
    }
  ],
  "metadata": {
    "colab": {
      "collapsed_sections": [],
      "machine_shape": "hm",
      "name": "01_data_preprocessing.ipynb",
      "provenance": [],
      "mount_file_id": "1oLwqD4kIwkhfA4JSXv2yb_2VYFXGEB35",
      "authorship_tag": "ABX9TyM88gbb/VsQnq96DkErRvUj",
      "include_colab_link": true
    },
    "kernelspec": {
      "display_name": "Python 3",
      "name": "python3"
    },
    "language_info": {
      "name": "python"
    },
    "gpuClass": "standard"
  },
  "nbformat": 4,
  "nbformat_minor": 0
}